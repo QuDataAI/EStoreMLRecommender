{
 "cells": [
  {
   "cell_type": "code",
   "execution_count": 1,
   "id": "8543494c",
   "metadata": {
    "_cell_guid": "b1076dfc-b9ad-4769-8c92-a6c4dae69d19",
    "_uuid": "8f2839f25d086af736a60e9eeb907d3b93b6e0e5",
    "execution": {
     "iopub.execute_input": "2022-12-14T14:46:58.544878Z",
     "iopub.status.busy": "2022-12-14T14:46:58.543557Z",
     "iopub.status.idle": "2022-12-14T14:46:58.581156Z",
     "shell.execute_reply": "2022-12-14T14:46:58.579393Z"
    },
    "papermill": {
     "duration": 0.060692,
     "end_time": "2022-12-14T14:46:58.586153",
     "exception": false,
     "start_time": "2022-12-14T14:46:58.525461",
     "status": "completed"
    },
    "tags": []
   },
   "outputs": [
    {
     "name": "stdout",
     "output_type": "stream",
     "text": [
      "/kaggle/input/otto-train-and-test-data-for-local-validation/test_labels.parquet\n",
      "/kaggle/input/otto-train-and-test-data-for-local-validation/id2type.pkl\n",
      "/kaggle/input/otto-train-and-test-data-for-local-validation/train.parquet\n",
      "/kaggle/input/otto-train-and-test-data-for-local-validation/type2id.pkl\n",
      "/kaggle/input/otto-train-and-test-data-for-local-validation/test.parquet\n",
      "/kaggle/input/prepaired-files/trim_0.parquet\n",
      "/kaggle/input/prepaired-files/trim_6.parquet\n",
      "/kaggle/input/prepaired-files/trim_8.parquet\n",
      "/kaggle/input/prepaired-files/trim_15.parquet\n",
      "/kaggle/input/prepaired-files/trim_19.parquet\n",
      "/kaggle/input/prepaired-files/trim_22.parquet\n",
      "/kaggle/input/prepaired-files/trim_13.parquet\n",
      "/kaggle/input/prepaired-files/trim_14.parquet\n",
      "/kaggle/input/prepaired-files/trim_4.parquet\n",
      "/kaggle/input/prepaired-files/trim_11.parquet\n",
      "/kaggle/input/prepaired-files/trim_17.parquet\n",
      "/kaggle/input/prepaired-files/trim_3.parquet\n",
      "/kaggle/input/prepaired-files/trim_20.parquet\n",
      "/kaggle/input/prepaired-files/trim_21.parquet\n",
      "/kaggle/input/prepaired-files/trim_26.parquet\n",
      "/kaggle/input/prepaired-files/trim_27.parquet\n",
      "/kaggle/input/prepaired-files/trim_1.parquet\n",
      "/kaggle/input/prepaired-files/trim_12.parquet\n",
      "/kaggle/input/prepaired-files/trim_9.parquet\n",
      "/kaggle/input/prepaired-files/trim_16.parquet\n",
      "/kaggle/input/prepaired-files/trim_7.parquet\n",
      "/kaggle/input/prepaired-files/trim_10.parquet\n",
      "/kaggle/input/prepaired-files/co_matrix.parquet\n",
      "/kaggle/input/prepaired-files/trim_24.parquet\n",
      "/kaggle/input/prepaired-files/trim_2.parquet\n",
      "/kaggle/input/prepaired-files/trim_5.parquet\n",
      "/kaggle/input/prepaired-files/trim_18.parquet\n",
      "/kaggle/input/prepaired-files/trim_25.parquet\n",
      "/kaggle/input/prepaired-files/coMatrixHour.parquet\n",
      "/kaggle/input/prepaired-files/trim_23.parquet\n",
      "/kaggle/input/otto-analyse-data/train_no_duplicates.parquet\n",
      "/kaggle/input/otto-analyse-data/aid.parquet\n",
      "/kaggle/input/otto-analyse-data/session.parquet\n",
      "/kaggle/input/otto-analyse-data/train_duplicates.parquet\n",
      "/kaggle/input/otto-analyse-data/aid_full.parquet\n",
      "/kaggle/input/otto-analyse-data/session_full.parquet\n",
      "/kaggle/input/otto-analyse-data/train_no_free_orders.parquet\n",
      "/kaggle/input/otto-analyse-data/test.parquet\n"
     ]
    }
   ],
   "source": [
    "from datetime import datetime\n",
    "\n",
    "import gc\n",
    "import glob\n",
    "import numpy as np # linear algebra\n",
    "import pandas as pd # data processing, CSV file I/O (e.g. pd.read_csv)\n",
    "from collections import defaultdict, Counter\n",
    "\n",
    "#import cudf as cd\n",
    "#print('We will use RAPIDS version',cudf.__version__)\n",
    "\n",
    "import os\n",
    "for dirname, _, filenames in os.walk('/kaggle/input'):\n",
    "    for filename in filenames:\n",
    "        print(os.path.join(dirname, filename))"
   ]
  },
  {
   "cell_type": "code",
   "execution_count": 2,
   "id": "412a5c54",
   "metadata": {
    "execution": {
     "iopub.execute_input": "2022-12-14T14:46:58.622007Z",
     "iopub.status.busy": "2022-12-14T14:46:58.621279Z",
     "iopub.status.idle": "2022-12-14T14:46:58.630026Z",
     "shell.execute_reply": "2022-12-14T14:46:58.628663Z"
    },
    "papermill": {
     "duration": 0.034051,
     "end_time": "2022-12-14T14:46:58.632872",
     "exception": false,
     "start_time": "2022-12-14T14:46:58.598821",
     "status": "completed"
    },
    "tags": []
   },
   "outputs": [],
   "source": [
    "def scoreTime(name):\n",
    "    '''Декоратор для вывода времени работы функции (начало-конец)'''\n",
    "    def wrapper(func):\n",
    "        def function(*args, **kwargs):\n",
    "            print('\\r', name, ': start\\t', datetime.now())\n",
    "            func(*args, **kwargs)\n",
    "            print('\\r', name, ': end\\t\\t', datetime.now())\n",
    "        return function\n",
    "    return wrapper\n",
    "# ---------------------------------------------------------------------\n",
    "def compressMatrix():\n",
    "    global resMatrix\n",
    "    resMatrix = resMatrix.groupby(['aid_x', 'aid_y']).wgt.sum().reset_index()"
   ]
  },
  {
   "cell_type": "code",
   "execution_count": 3,
   "id": "965cb139",
   "metadata": {
    "execution": {
     "iopub.execute_input": "2022-12-14T14:46:58.661502Z",
     "iopub.status.busy": "2022-12-14T14:46:58.660310Z",
     "iopub.status.idle": "2022-12-14T14:46:58.679893Z",
     "shell.execute_reply": "2022-12-14T14:46:58.678488Z"
    },
    "papermill": {
     "duration": 0.036355,
     "end_time": "2022-12-14T14:46:58.682412",
     "exception": false,
     "start_time": "2022-12-14T14:46:58.646057",
     "status": "completed"
    },
    "tags": []
   },
   "outputs": [],
   "source": [
    "@scoreTime('coMatrix')\n",
    "def coMatrix(df, time_elapsed, func, log=False):\n",
    "    ''' Разбиваем данные на временные промежутки\n",
    "        и считаем пересечения внутри них '''\n",
    "    min_ts, max_ts = df.iloc[0]['ts'], df.iloc[-1]['ts']\n",
    "    chunks = round((max_ts - min_ts) / time_elapsed) + 1\n",
    "    percent = -1\n",
    "    for i in range(0, chunks):\n",
    "        if (log) and (round(i * 100 / chunks) != percent):\n",
    "            percent = round(i * 100 / chunks)\n",
    "            print('\\r', f'{percent}% chunk: {i}/{chunks}', end='   ')\n",
    "        start = min_ts + i * time_elapsed\n",
    "        df_chank = df[(df['ts'] >= start)&(df['ts'] <= start + time_elapsed)]\n",
    "        if df_chank.shape[0] > 1:\n",
    "            func(df_chank)\n",
    "    print('\\r', f'100% chunk: {chunks}/{chunks}')"
   ]
  },
  {
   "cell_type": "code",
   "execution_count": 4,
   "id": "4fdbc968",
   "metadata": {
    "execution": {
     "iopub.execute_input": "2022-12-14T14:46:58.710802Z",
     "iopub.status.busy": "2022-12-14T14:46:58.710011Z",
     "iopub.status.idle": "2022-12-14T14:46:58.720919Z",
     "shell.execute_reply": "2022-12-14T14:46:58.719531Z"
    },
    "papermill": {
     "duration": 0.029084,
     "end_time": "2022-12-14T14:46:58.723757",
     "exception": false,
     "start_time": "2022-12-14T14:46:58.694673",
     "status": "completed"
    },
    "tags": []
   },
   "outputs": [],
   "source": [
    "@scoreTime('coMatrixWithFile')\n",
    "def coMatrixWithFile(func, log=False):\n",
    "    files = glob.glob('../input/prepaired-files/*.parquet')\n",
    "    chunks = len(files)\n",
    "    percent = -1\n",
    "    for i, chunk in enumerate(files):\n",
    "        if (log) and (round(i * 100 / chunks) != percent):\n",
    "            percent = round(i * 100 / chunks)\n",
    "            print('\\r', f'{percent}% chunk: {i + 1}/{chunks + 1}', end='   ')\n",
    "        df_chank = pd.read_parquet(chunk)\n",
    "        if df_chank.shape[0] > 1:\n",
    "            func(df_chank)\n",
    "        #compressMatrix()\n",
    "    print('\\r', f'100% chunk: {chunks + 1}/{chunks + 1}')"
   ]
  },
  {
   "cell_type": "code",
   "execution_count": 5,
   "id": "f8a6fcd2",
   "metadata": {
    "execution": {
     "iopub.execute_input": "2022-12-14T14:46:58.757016Z",
     "iopub.status.busy": "2022-12-14T14:46:58.756164Z",
     "iopub.status.idle": "2022-12-14T14:46:58.767716Z",
     "shell.execute_reply": "2022-12-14T14:46:58.766565Z"
    },
    "papermill": {
     "duration": 0.034187,
     "end_time": "2022-12-14T14:46:58.770504",
     "exception": false,
     "start_time": "2022-12-14T14:46:58.736317",
     "status": "completed"
    },
    "tags": []
   },
   "outputs": [],
   "source": [
    "def getPreds(preds):\n",
    "    '''Получаем предсказание для сохранения'''\n",
    "    preds2 = {'aid': [], 'type':[], 'labels':[] }\n",
    "    for i in preds.keys():\n",
    "        if len(preds[i].keys()) != 3:\n",
    "            for aid in preds[i].keys():\n",
    "                preds2['aid'].append(aid)\n",
    "                preds2['type'].append(i)\n",
    "                preds2['labels'].append(preds[i][aid])\n",
    "        else:\n",
    "            if preds2.get('for') == None:\n",
    "                preds2['for'] = []\n",
    "            for j in preds[i].keys():\n",
    "                for aid in preds[i][j].keys():\n",
    "                    preds2['aid'].append(aid)\n",
    "                    preds2['type'].append(i)\n",
    "                    preds2['for'].append(j)\n",
    "                    preds2['labels'].append(preds[i][j][aid])\n",
    "    return pd.DataFrame(preds2)"
   ]
  },
  {
   "cell_type": "code",
   "execution_count": 6,
   "id": "502fed06",
   "metadata": {
    "execution": {
     "iopub.execute_input": "2022-12-14T14:46:58.799902Z",
     "iopub.status.busy": "2022-12-14T14:46:58.799172Z",
     "iopub.status.idle": "2022-12-14T14:46:58.835934Z",
     "shell.execute_reply": "2022-12-14T14:46:58.834273Z"
    },
    "papermill": {
     "duration": 0.054271,
     "end_time": "2022-12-14T14:46:58.838734",
     "exception": false,
     "start_time": "2022-12-14T14:46:58.784463",
     "status": "completed"
    },
    "tags": []
   },
   "outputs": [],
   "source": [
    "# ====================================================================\n",
    "# ----- Расчёт матрицы без учёта типа --------------------------------\n",
    "# ====================================================================\n",
    "def noType(x):\n",
    "    x[['session', 'aid']].groupby('session').agg(aggMatrixNoType)\n",
    "# -------------------------------------------------\n",
    "def aggMatrixNoType(x):\n",
    "    for aid1 in x:\n",
    "        for aid2 in x:\n",
    "            if aid1 != aid2:\n",
    "                resMatrix[aid1][aid2] += 1\n",
    "# ====================================================================\n",
    "# ----- Расчёт матрицы с учётом типа --------------------------------\n",
    "# ====================================================================\n",
    "def withType(x):\n",
    "    for i in [0, 1, 2]:\n",
    "        global activeType\n",
    "        activeType = i\n",
    "        x[x['type'] == i][['session', 'aid']].groupby('session').agg(aggMatrixWithType)\n",
    "# -------------------------------------------------\n",
    "def aggMatrixWithType(x):\n",
    "    for aid1 in x:\n",
    "        for aid2 in x:\n",
    "            if aid1 != aid2:\n",
    "                resMatrix[activeType][aid1][aid2] += 1\n",
    "# ====================================================================\n",
    "# ----- Расчёт матрицы без учёта типа с учётом -----------------------\n",
    "# ====================================================================\n",
    "def mergeSimple(df):\n",
    "    df = df.merge(df, on='session')\n",
    "    df = df[['session', 'aid_x', 'aid_y']]\n",
    "    df = df[df['aid_x'] != df['aid_y']]\n",
    "    df = df.drop_duplicates(['session', 'aid_x', 'aid_y'])\n",
    "    df = df[['aid_x', 'aid_y']]\n",
    "    for aid_x, aid_y in zip(df['aid_x'], df['aid_y']):\n",
    "        resMatrix[aid_x][aid_y] += 1\n",
    "# ====================================================================\n",
    "def mergeSimpleDF(df):\n",
    "    global i\n",
    "    df = df.merge(df, on='session')\n",
    "    df = df[['session', 'aid_x', 'aid_y']]\n",
    "    df = df[df['aid_x'] != df['aid_y']]\n",
    "    df = df.drop_duplicates(['session', 'aid_x', 'aid_y'])\n",
    "    df = df[['aid_x', 'aid_y']]\n",
    "    df['wgt'] = 1\n",
    "    df = df.groupby(['aid_x', 'aid_y']).wgt.sum().reset_index()\n",
    "    df[['aid_x', 'aid_y']] = df[['aid_x', 'aid_y']].astype('uint32')\n",
    "    df['wgt'] = df['wgt'].astype('uint16')\n",
    "    df.to_parquet(f'preds_{i}.parquet')\n",
    "    i += 1\n",
    "# --------------------------------------------------------------------\n",
    "def mergeSimpleWithType(df):\n",
    "    df = df.merge(df, on='session')[['session', 'aid_x', 'aid_y', 'type_y']]\n",
    "    df = df[df['aid_x'] != df['aid_y']].drop_duplicates(['session', 'aid_x', 'aid_y'])\n",
    "    for aid_x, aid_y, type_y in zip(df['aid_x'], df['aid_y'], df['type_y']):\n",
    "        resMatrix[type_y][aid_x][aid_y] += 1\n",
    "# --------------------------------------------------------------------\n",
    "def mergeWithHardType(df):\n",
    "    weights = [{0:9, 1:3, 2:1},{0:5, 1:3, 2:1},{0:1, 1:5, 2:3}]\n",
    "    df = df.merge(df, on='session')[['session', 'aid_x', 'aid_y', 'type_x', 'type_y']]\n",
    "    df = df[df['aid_x'] != df['aid_y']].drop_duplicates(['session', 'aid_x', 'aid_y'])\n",
    "    for aid_x, aid_y, type_x, type_y in zip(df['aid_x'], df['aid_y'], df['type_x'], df['type_y']):\n",
    "        resMatrix[type_y][aid_x][aid_y] += weights[type_x][type_y]\n",
    "# ====================================================================\n",
    "# --- Расчёт матрицы по весам ----------------------------------------\n",
    "# ====================================================================\n",
    "def mergeWeighted(df):\n",
    "    df = df.merge(df, on='session')[['session', 'aid_x', 'aid_y', 'type_y']]\n",
    "    df['wgt'] = df['type_y'].map({0:1, 1:3, 2:6}).astype('uint8')\n",
    "    df = df[df['aid_x'] != df['aid_y']].drop_duplicates(['session', 'aid_x', 'aid_y'])\n",
    "    for aid_x, aid_y, wgt in zip(df['aid_x'], df['aid_y'], df['wgt']):\n",
    "        resMatrix[aid_x][aid_y] += wgt\n",
    "# ====================================================================\n",
    "# ----- Расчёт матрицы с учётом логики: положил в корзину - купил ----\n",
    "# ====================================================================\n",
    "def mergeCartBuy(df):\n",
    "    df = df.loc[df['type'].isin([1,2])]\n",
    "    df = df.merge(df, on='session')[['session', 'aid_x', 'aid_y']]\n",
    "    df = df[df['aid_x'] != df['aid_y']].drop_duplicates(['session', 'aid_x', 'aid_y'])\n",
    "    for aid_x, aid_y in zip(df['aid_x'], df['aid_y']):\n",
    "        resMatrix[aid_x][aid_y] += 1\n",
    "# ====================================================================\n",
    "# ----- Расчёт матрицы кликов с весом по времени ---------------------\n",
    "# ====================================================================\n",
    "def mergeTimeWeighted(df):\n",
    "    df = df.loc[df['type'] == 0]\n",
    "    df = df.merge(df, on='session')[['session', 'aid_x', 'aid_y', 'ts_x']]\n",
    "    df['wgt'] = 1 + 3*(df['ts_x'] - 1659304800)/(1662328791-1659304800)\n",
    "    df = df[df['aid_x'] != df['aid_y']].drop_duplicates(['session', 'aid_x', 'aid_y'])\n",
    "    for aid_x, aid_y, wgt in zip(df['aid_x'], df['aid_y'], df['wgt']):\n",
    "        resMatrix[aid_x][aid_y] += wgt"
   ]
  },
  {
   "cell_type": "code",
   "execution_count": 7,
   "id": "edc0866f",
   "metadata": {
    "execution": {
     "iopub.execute_input": "2022-12-14T14:46:58.864288Z",
     "iopub.status.busy": "2022-12-14T14:46:58.863809Z",
     "iopub.status.idle": "2022-12-14T14:46:58.874931Z",
     "shell.execute_reply": "2022-12-14T14:46:58.873679Z"
    },
    "papermill": {
     "duration": 0.027365,
     "end_time": "2022-12-14T14:46:58.877487",
     "exception": false,
     "start_time": "2022-12-14T14:46:58.850122",
     "status": "completed"
    },
    "tags": []
   },
   "outputs": [],
   "source": [
    "# ====================================================================\n",
    "# ----- Предсказание без учёта типа ----------------------------------\n",
    "# ====================================================================\n",
    "def predsNoType(matrix):\n",
    "    preds = {0: {}, 1:{}, 2:{}}\n",
    "    for key in matrix:\n",
    "        for i in preds.keys():\n",
    "            preds[i][key] = [aid for aid, _ in matrix[key].most_common(20)]\n",
    "    return preds\n",
    "# ====================================================================\n",
    "# ----- Предсказание с учётом типа -----------------------------------\n",
    "# ====================================================================\n",
    "def predsWithType(matrix):\n",
    "    preds = {0: {}, 1:{}, 2:{}}\n",
    "    for i in preds.keys():\n",
    "        for key in matrix[i]:\n",
    "            preds[i][key] = [aid for aid, _ in matrix[i][key].most_common(20)]\n",
    "    return preds\n",
    "# ====================================================================\n",
    "# ----- Предсказание с учётом типа -----------------------------------\n",
    "# ====================================================================\n",
    "def predsWithHardType(matrix):\n",
    "    preds = {0: {}, 1:{}, 2:{}}\n",
    "    for i in preds.keys():\n",
    "        preds[i] = {0: {}, 1:{}, 2:{}}\n",
    "        for j in preds[i].keys():\n",
    "            for key in matrix[i][j]:\n",
    "                preds[i][j][key] = [aid for aid, _ in matrix[i][j][key].most_common(20)]\n",
    "    return preds"
   ]
  },
  {
   "cell_type": "code",
   "execution_count": 8,
   "id": "538b2351",
   "metadata": {
    "execution": {
     "iopub.execute_input": "2022-12-14T14:46:58.902750Z",
     "iopub.status.busy": "2022-12-14T14:46:58.902252Z",
     "iopub.status.idle": "2022-12-14T14:46:58.909756Z",
     "shell.execute_reply": "2022-12-14T14:46:58.908456Z"
    },
    "papermill": {
     "duration": 0.023953,
     "end_time": "2022-12-14T14:46:58.913036",
     "exception": false,
     "start_time": "2022-12-14T14:46:58.889083",
     "status": "completed"
    },
    "tags": []
   },
   "outputs": [],
   "source": [
    "def createCoMatrix(df, mFunc, pFunc, time_elapsed, path, matrix):\n",
    "    '''Расчёт и сохранение матрицы'''\n",
    "    global resMatrix\n",
    "    resMatrix = matrix\n",
    "    coMatrix(df, time_elapsed, mFunc, log=True)\n",
    "    result = getPreds(pFunc(resMatrix))\n",
    "    result['labels'].fillna('', inplace=True)\n",
    "    display(result)\n",
    "    result.to_parquet(f'{path}.parquet', index=False)\n",
    "    del resMatrix, result\n",
    "    gc.collect()"
   ]
  },
  {
   "cell_type": "code",
   "execution_count": 9,
   "id": "3b007edf",
   "metadata": {
    "execution": {
     "iopub.execute_input": "2022-12-14T14:46:58.945172Z",
     "iopub.status.busy": "2022-12-14T14:46:58.944653Z",
     "iopub.status.idle": "2022-12-14T14:46:58.954482Z",
     "shell.execute_reply": "2022-12-14T14:46:58.953304Z"
    },
    "papermill": {
     "duration": 0.027023,
     "end_time": "2022-12-14T14:46:58.956795",
     "exception": false,
     "start_time": "2022-12-14T14:46:58.929772",
     "status": "completed"
    },
    "tags": []
   },
   "outputs": [],
   "source": [
    "def createCoMatrixWithFile(mFunc, pFunc, path, matrix):\n",
    "    '''Расчёт и сохранение матрицы'''\n",
    "    global resMatrix\n",
    "    resMatrix = matrix\n",
    "    coMatrixWithFile(mFunc, log=True)\n",
    "    result = getPreds(pFunc(resMatrix))\n",
    "    result['labels'].fillna('', inplace=True)\n",
    "    display(result)\n",
    "    result.to_parquet(f'{path}.parquet', index=False)\n",
    "    del resMatrix, result\n",
    "    gc.collect()"
   ]
  },
  {
   "cell_type": "code",
   "execution_count": 10,
   "id": "dcdb572c",
   "metadata": {
    "execution": {
     "iopub.execute_input": "2022-12-14T14:46:58.982655Z",
     "iopub.status.busy": "2022-12-14T14:46:58.981690Z",
     "iopub.status.idle": "2022-12-14T14:46:58.986670Z",
     "shell.execute_reply": "2022-12-14T14:46:58.985628Z"
    },
    "papermill": {
     "duration": 0.020577,
     "end_time": "2022-12-14T14:46:58.989082",
     "exception": false,
     "start_time": "2022-12-14T14:46:58.968505",
     "status": "completed"
    },
    "tags": []
   },
   "outputs": [],
   "source": [
    "#resMatrix = cd.DataFrame(columns=['aid_x', 'aid_y', 'wgt'], dtype='uint32')\n",
    "#resMatrix['wgt'] = resMatrix['wgt'].astype('uint16')\n",
    "#resMatrix.info()"
   ]
  },
  {
   "cell_type": "code",
   "execution_count": 11,
   "id": "8e3f9e04",
   "metadata": {
    "execution": {
     "iopub.execute_input": "2022-12-14T14:46:59.017520Z",
     "iopub.status.busy": "2022-12-14T14:46:59.016696Z",
     "iopub.status.idle": "2022-12-14T14:46:59.021099Z",
     "shell.execute_reply": "2022-12-14T14:46:59.020050Z"
    },
    "papermill": {
     "duration": 0.019815,
     "end_time": "2022-12-14T14:46:59.023466",
     "exception": false,
     "start_time": "2022-12-14T14:46:59.003651",
     "status": "completed"
    },
    "tags": []
   },
   "outputs": [],
   "source": [
    "#resMatrix.rename(columns={'wgt_x':'wgt'}, inplace=True)\n",
    "#resMatrix.info()"
   ]
  },
  {
   "cell_type": "code",
   "execution_count": 12,
   "id": "56bc433e",
   "metadata": {
    "execution": {
     "iopub.execute_input": "2022-12-14T14:46:59.048429Z",
     "iopub.status.busy": "2022-12-14T14:46:59.047631Z",
     "iopub.status.idle": "2022-12-14T14:46:59.051851Z",
     "shell.execute_reply": "2022-12-14T14:46:59.050763Z"
    },
    "papermill": {
     "duration": 0.019368,
     "end_time": "2022-12-14T14:46:59.054274",
     "exception": false,
     "start_time": "2022-12-14T14:46:59.034906",
     "status": "completed"
    },
    "tags": []
   },
   "outputs": [],
   "source": [
    "#result = getPreds(predsNoType(resMatrix))\n",
    "#result['labels'].fillna('', inplace=True)\n",
    "#result"
   ]
  },
  {
   "cell_type": "code",
   "execution_count": 13,
   "id": "ae635b50",
   "metadata": {
    "execution": {
     "iopub.execute_input": "2022-12-14T14:46:59.078821Z",
     "iopub.status.busy": "2022-12-14T14:46:59.078398Z",
     "iopub.status.idle": "2022-12-14T14:47:12.726015Z",
     "shell.execute_reply": "2022-12-14T14:47:12.724534Z"
    },
    "papermill": {
     "duration": 13.663373,
     "end_time": "2022-12-14T14:47:12.729208",
     "exception": false,
     "start_time": "2022-12-14T14:46:59.065835",
     "status": "completed"
    },
    "tags": []
   },
   "outputs": [
    {
     "name": "stdout",
     "output_type": "stream",
     "text": [
      "CPU times: user 5.43 s, sys: 5.23 s, total: 10.7 s\n",
      "Wall time: 13.6 s\n"
     ]
    }
   ],
   "source": [
    "%%time\n",
    "# ~ 13s\n",
    "result = pd.read_parquet('../input/prepaired-files/coMatrixHour.parquet')\n",
    "result.reset_index(inplace=True)\n",
    "result.columns = ['aid', 'labels']\n",
    "result.to_parquet('coMatrixHour.parquet', index=False)"
   ]
  },
  {
   "cell_type": "code",
   "execution_count": 14,
   "id": "d9fb5ee3",
   "metadata": {
    "execution": {
     "iopub.execute_input": "2022-12-14T14:47:12.755947Z",
     "iopub.status.busy": "2022-12-14T14:47:12.755441Z",
     "iopub.status.idle": "2022-12-14T14:47:12.763767Z",
     "shell.execute_reply": "2022-12-14T14:47:12.761833Z"
    },
    "papermill": {
     "duration": 0.025175,
     "end_time": "2022-12-14T14:47:12.767571",
     "exception": false,
     "start_time": "2022-12-14T14:47:12.742396",
     "status": "completed"
    },
    "tags": []
   },
   "outputs": [
    {
     "name": "stdout",
     "output_type": "stream",
     "text": [
      "CPU times: user 3 µs, sys: 2 µs, total: 5 µs\n",
      "Wall time: 8.34 µs\n"
     ]
    }
   ],
   "source": [
    "%%time\n",
    "# ~ 10s (no_free_orders)\n",
    "# ~ 3m  (no_duplicates)\n",
    "#train = pd.read_parquet('../input/otto-analyse-data/train_no_free_orders.parquet')\\\n",
    "#        .sort_values(by=['ts'])\n",
    "#time = (24 * 60 * 60)"
   ]
  },
  {
   "cell_type": "code",
   "execution_count": 15,
   "id": "6557d334",
   "metadata": {
    "execution": {
     "iopub.execute_input": "2022-12-14T14:47:12.794303Z",
     "iopub.status.busy": "2022-12-14T14:47:12.793834Z",
     "iopub.status.idle": "2022-12-14T14:47:12.799440Z",
     "shell.execute_reply": "2022-12-14T14:47:12.798032Z"
    },
    "papermill": {
     "duration": 0.022529,
     "end_time": "2022-12-14T14:47:12.802414",
     "exception": false,
     "start_time": "2022-12-14T14:47:12.779885",
     "status": "completed"
    },
    "tags": []
   },
   "outputs": [],
   "source": [
    "# ----- WEEK -----"
   ]
  },
  {
   "cell_type": "code",
   "execution_count": 16,
   "id": "b500cb69",
   "metadata": {
    "execution": {
     "iopub.execute_input": "2022-12-14T14:47:12.828130Z",
     "iopub.status.busy": "2022-12-14T14:47:12.827739Z",
     "iopub.status.idle": "2022-12-14T14:47:12.832553Z",
     "shell.execute_reply": "2022-12-14T14:47:12.831319Z"
    },
    "papermill": {
     "duration": 0.020507,
     "end_time": "2022-12-14T14:47:12.834882",
     "exception": false,
     "start_time": "2022-12-14T14:47:12.814375",
     "status": "completed"
    },
    "tags": []
   },
   "outputs": [],
   "source": [
    "#resMatrix = pd.DataFrame(columns=['aid_x', 'aid_y', 'wgt'], dtype='uint32')\n",
    "#resMatrix['wgt'] = resMatrix['wgt'].astype('uint16')\n",
    "#resMatrix.info()"
   ]
  },
  {
   "cell_type": "code",
   "execution_count": 17,
   "id": "f2bffd09",
   "metadata": {
    "execution": {
     "iopub.execute_input": "2022-12-14T14:47:12.859755Z",
     "iopub.status.busy": "2022-12-14T14:47:12.859356Z",
     "iopub.status.idle": "2022-12-14T14:47:12.864493Z",
     "shell.execute_reply": "2022-12-14T14:47:12.863073Z"
    },
    "papermill": {
     "duration": 0.020467,
     "end_time": "2022-12-14T14:47:12.866928",
     "exception": false,
     "start_time": "2022-12-14T14:47:12.846461",
     "status": "completed"
    },
    "tags": []
   },
   "outputs": [],
   "source": [
    "#i = 0\n",
    "#createCoMatrixWithFile(mergeSimpleDF, predsNoType, 'coMatrixMergeDay', resMatrix)"
   ]
  },
  {
   "cell_type": "code",
   "execution_count": 18,
   "id": "66e4c42c",
   "metadata": {
    "execution": {
     "iopub.execute_input": "2022-12-14T14:47:12.891726Z",
     "iopub.status.busy": "2022-12-14T14:47:12.891317Z",
     "iopub.status.idle": "2022-12-14T14:47:12.896888Z",
     "shell.execute_reply": "2022-12-14T14:47:12.895262Z"
    },
    "papermill": {
     "duration": 0.021155,
     "end_time": "2022-12-14T14:47:12.899586",
     "exception": false,
     "start_time": "2022-12-14T14:47:12.878431",
     "status": "completed"
    },
    "tags": []
   },
   "outputs": [],
   "source": [
    "#resMatrix = pd.DataFrame(columns=['aid_x', 'aid_y', 'wgt'], dtype='uint32')\n",
    "#resMatrix['wgt'] = resMatrix['wgt'].astype('uint16')\n",
    "#resMatrix.info()"
   ]
  },
  {
   "cell_type": "code",
   "execution_count": 19,
   "id": "7adc5eb6",
   "metadata": {
    "execution": {
     "iopub.execute_input": "2022-12-14T14:47:12.925656Z",
     "iopub.status.busy": "2022-12-14T14:47:12.925206Z",
     "iopub.status.idle": "2022-12-14T14:47:12.931078Z",
     "shell.execute_reply": "2022-12-14T14:47:12.929688Z"
    },
    "papermill": {
     "duration": 0.0217,
     "end_time": "2022-12-14T14:47:12.933690",
     "exception": false,
     "start_time": "2022-12-14T14:47:12.911990",
     "status": "completed"
    },
    "tags": []
   },
   "outputs": [],
   "source": [
    "#df_chank = pd.read_parquet(f'../input/prepaired-files/train_no_duplicates_{1}.parquet')\n",
    "#df_chank = df_chank.merge(df_chank, on='session')\n",
    "#df_chank = df_chank[['session', 'aid_x', 'aid_y']]\n",
    "#df_chank = df_chank[df_chank['aid_x'] != df_chank['aid_y']]\n",
    "#df_chank = df_chank.drop_duplicates(['session', 'aid_x', 'aid_y'])\n",
    "#df_chank = df_chank[['aid_x', 'aid_y']]\n",
    "#df_chank.info()"
   ]
  },
  {
   "cell_type": "code",
   "execution_count": 20,
   "id": "3d03c70b",
   "metadata": {
    "execution": {
     "iopub.execute_input": "2022-12-14T14:47:12.958785Z",
     "iopub.status.busy": "2022-12-14T14:47:12.958381Z",
     "iopub.status.idle": "2022-12-14T14:47:12.963926Z",
     "shell.execute_reply": "2022-12-14T14:47:12.962568Z"
    },
    "papermill": {
     "duration": 0.021456,
     "end_time": "2022-12-14T14:47:12.966560",
     "exception": false,
     "start_time": "2022-12-14T14:47:12.945104",
     "status": "completed"
    },
    "tags": []
   },
   "outputs": [],
   "source": [
    "#df_chank['wgt'] = 1\n",
    "#df_chank = df_chank.groupby(['aid_x', 'aid_y']).wgt.sum().reset_index()\n",
    "#df_chank[['aid_x', 'aid_y']] = df_chank[['aid_x', 'aid_y']].astype('uint32')\n",
    "#df_chank['wgt'] = df_chank['wgt'].astype('uint16')"
   ]
  },
  {
   "cell_type": "code",
   "execution_count": 21,
   "id": "f7c0d2bb",
   "metadata": {
    "execution": {
     "iopub.execute_input": "2022-12-14T14:47:12.992671Z",
     "iopub.status.busy": "2022-12-14T14:47:12.992263Z",
     "iopub.status.idle": "2022-12-14T14:47:12.996075Z",
     "shell.execute_reply": "2022-12-14T14:47:12.995056Z"
    },
    "papermill": {
     "duration": 0.019844,
     "end_time": "2022-12-14T14:47:12.998341",
     "exception": false,
     "start_time": "2022-12-14T14:47:12.978497",
     "status": "completed"
    },
    "tags": []
   },
   "outputs": [],
   "source": [
    "#resMatrix = df_chank.set_index(['aid_x', 'aid_y'])\n",
    "#df_chank = df_chank.set_index(['aid_x', 'aid_y'])"
   ]
  },
  {
   "cell_type": "code",
   "execution_count": 22,
   "id": "75bf611c",
   "metadata": {
    "execution": {
     "iopub.execute_input": "2022-12-14T14:47:13.028208Z",
     "iopub.status.busy": "2022-12-14T14:47:13.027521Z",
     "iopub.status.idle": "2022-12-14T14:47:13.031667Z",
     "shell.execute_reply": "2022-12-14T14:47:13.030670Z"
    },
    "papermill": {
     "duration": 0.021435,
     "end_time": "2022-12-14T14:47:13.034431",
     "exception": false,
     "start_time": "2022-12-14T14:47:13.012996",
     "status": "completed"
    },
    "tags": []
   },
   "outputs": [],
   "source": [
    "#resMatrix['wgt'] += df_chank['wgt']"
   ]
  },
  {
   "cell_type": "code",
   "execution_count": 23,
   "id": "bb1e6333",
   "metadata": {
    "execution": {
     "iopub.execute_input": "2022-12-14T14:47:13.060444Z",
     "iopub.status.busy": "2022-12-14T14:47:13.059950Z",
     "iopub.status.idle": "2022-12-14T14:47:13.064692Z",
     "shell.execute_reply": "2022-12-14T14:47:13.063453Z"
    },
    "papermill": {
     "duration": 0.020472,
     "end_time": "2022-12-14T14:47:13.066975",
     "exception": false,
     "start_time": "2022-12-14T14:47:13.046503",
     "status": "completed"
    },
    "tags": []
   },
   "outputs": [],
   "source": [
    "#resMatrix"
   ]
  },
  {
   "cell_type": "code",
   "execution_count": 24,
   "id": "bcd2cc81",
   "metadata": {
    "execution": {
     "iopub.execute_input": "2022-12-14T14:47:13.093016Z",
     "iopub.status.busy": "2022-12-14T14:47:13.092401Z",
     "iopub.status.idle": "2022-12-14T14:47:13.096925Z",
     "shell.execute_reply": "2022-12-14T14:47:13.095734Z"
    },
    "papermill": {
     "duration": 0.020654,
     "end_time": "2022-12-14T14:47:13.099680",
     "exception": false,
     "start_time": "2022-12-14T14:47:13.079026",
     "status": "completed"
    },
    "tags": []
   },
   "outputs": [],
   "source": [
    "#res.values"
   ]
  },
  {
   "cell_type": "code",
   "execution_count": 25,
   "id": "d6273030",
   "metadata": {
    "execution": {
     "iopub.execute_input": "2022-12-14T14:47:13.124978Z",
     "iopub.status.busy": "2022-12-14T14:47:13.124499Z",
     "iopub.status.idle": "2022-12-14T14:47:13.129397Z",
     "shell.execute_reply": "2022-12-14T14:47:13.128050Z"
    },
    "papermill": {
     "duration": 0.020659,
     "end_time": "2022-12-14T14:47:13.131938",
     "exception": false,
     "start_time": "2022-12-14T14:47:13.111279",
     "status": "completed"
    },
    "tags": []
   },
   "outputs": [],
   "source": [
    "#resMatrix.info()"
   ]
  },
  {
   "cell_type": "code",
   "execution_count": 26,
   "id": "a1190b87",
   "metadata": {
    "execution": {
     "iopub.execute_input": "2022-12-14T14:47:13.157616Z",
     "iopub.status.busy": "2022-12-14T14:47:13.157168Z",
     "iopub.status.idle": "2022-12-14T14:47:13.162138Z",
     "shell.execute_reply": "2022-12-14T14:47:13.160917Z"
    },
    "papermill": {
     "duration": 0.020792,
     "end_time": "2022-12-14T14:47:13.164669",
     "exception": false,
     "start_time": "2022-12-14T14:47:13.143877",
     "status": "completed"
    },
    "tags": []
   },
   "outputs": [],
   "source": [
    "#sumX = sumX.reset_index()"
   ]
  },
  {
   "cell_type": "code",
   "execution_count": 27,
   "id": "1a28a986",
   "metadata": {
    "execution": {
     "iopub.execute_input": "2022-12-14T14:47:13.189872Z",
     "iopub.status.busy": "2022-12-14T14:47:13.189444Z",
     "iopub.status.idle": "2022-12-14T14:47:13.194011Z",
     "shell.execute_reply": "2022-12-14T14:47:13.192805Z"
    },
    "papermill": {
     "duration": 0.019939,
     "end_time": "2022-12-14T14:47:13.196362",
     "exception": false,
     "start_time": "2022-12-14T14:47:13.176423",
     "status": "completed"
    },
    "tags": []
   },
   "outputs": [],
   "source": [
    "#sumX.info()"
   ]
  },
  {
   "cell_type": "code",
   "execution_count": null,
   "id": "86846749",
   "metadata": {
    "papermill": {
     "duration": 0.011569,
     "end_time": "2022-12-14T14:47:13.219442",
     "exception": false,
     "start_time": "2022-12-14T14:47:13.207873",
     "status": "completed"
    },
    "tags": []
   },
   "outputs": [],
   "source": []
  },
  {
   "cell_type": "code",
   "execution_count": 28,
   "id": "5c6c920b",
   "metadata": {
    "execution": {
     "iopub.execute_input": "2022-12-14T14:47:13.244617Z",
     "iopub.status.busy": "2022-12-14T14:47:13.244148Z",
     "iopub.status.idle": "2022-12-14T14:47:13.249113Z",
     "shell.execute_reply": "2022-12-14T14:47:13.247926Z"
    },
    "papermill": {
     "duration": 0.02021,
     "end_time": "2022-12-14T14:47:13.251577",
     "exception": false,
     "start_time": "2022-12-14T14:47:13.231367",
     "status": "completed"
    },
    "tags": []
   },
   "outputs": [],
   "source": [
    "#resMatrix = pd.concat([resMatrix, df])"
   ]
  },
  {
   "cell_type": "code",
   "execution_count": 29,
   "id": "3ba4bfc1",
   "metadata": {
    "execution": {
     "iopub.execute_input": "2022-12-14T14:47:13.276965Z",
     "iopub.status.busy": "2022-12-14T14:47:13.276080Z",
     "iopub.status.idle": "2022-12-14T14:47:13.280903Z",
     "shell.execute_reply": "2022-12-14T14:47:13.279682Z"
    },
    "papermill": {
     "duration": 0.019799,
     "end_time": "2022-12-14T14:47:13.283094",
     "exception": false,
     "start_time": "2022-12-14T14:47:13.263295",
     "status": "completed"
    },
    "tags": []
   },
   "outputs": [],
   "source": [
    "#for aid_x, aid_y in zip(df_chank['aid_x'], df_chank['aid_y']):\n",
    "#    resMatrix[aid_x][aid_y] += 1"
   ]
  },
  {
   "cell_type": "code",
   "execution_count": 30,
   "id": "f3f36c58",
   "metadata": {
    "execution": {
     "iopub.execute_input": "2022-12-14T14:47:13.307996Z",
     "iopub.status.busy": "2022-12-14T14:47:13.307623Z",
     "iopub.status.idle": "2022-12-14T14:47:13.311923Z",
     "shell.execute_reply": "2022-12-14T14:47:13.310689Z"
    },
    "papermill": {
     "duration": 0.019718,
     "end_time": "2022-12-14T14:47:13.314341",
     "exception": false,
     "start_time": "2022-12-14T14:47:13.294623",
     "status": "completed"
    },
    "tags": []
   },
   "outputs": [],
   "source": [
    "#mergeSimple(df_chank)"
   ]
  },
  {
   "cell_type": "code",
   "execution_count": 31,
   "id": "8486d4d3",
   "metadata": {
    "execution": {
     "iopub.execute_input": "2022-12-14T14:47:13.338796Z",
     "iopub.status.busy": "2022-12-14T14:47:13.338386Z",
     "iopub.status.idle": "2022-12-14T14:47:13.343283Z",
     "shell.execute_reply": "2022-12-14T14:47:13.342115Z"
    },
    "papermill": {
     "duration": 0.019951,
     "end_time": "2022-12-14T14:47:13.345717",
     "exception": false,
     "start_time": "2022-12-14T14:47:13.325766",
     "status": "completed"
    },
    "tags": []
   },
   "outputs": [],
   "source": [
    "#del df_chank\n",
    "#gc.collect()"
   ]
  },
  {
   "cell_type": "code",
   "execution_count": 32,
   "id": "d986a2e2",
   "metadata": {
    "execution": {
     "iopub.execute_input": "2022-12-14T14:47:13.370153Z",
     "iopub.status.busy": "2022-12-14T14:47:13.369754Z",
     "iopub.status.idle": "2022-12-14T14:47:13.374735Z",
     "shell.execute_reply": "2022-12-14T14:47:13.373558Z"
    },
    "papermill": {
     "duration": 0.01982,
     "end_time": "2022-12-14T14:47:13.377026",
     "exception": false,
     "start_time": "2022-12-14T14:47:13.357206",
     "status": "completed"
    },
    "tags": []
   },
   "outputs": [],
   "source": [
    "#del resMatrix\n",
    "#gc.collect()"
   ]
  },
  {
   "cell_type": "code",
   "execution_count": 33,
   "id": "a4f3b9c7",
   "metadata": {
    "collapsed": true,
    "execution": {
     "iopub.execute_input": "2022-12-14T14:47:13.402001Z",
     "iopub.status.busy": "2022-12-14T14:47:13.401573Z",
     "iopub.status.idle": "2022-12-14T14:47:13.408785Z",
     "shell.execute_reply": "2022-12-14T14:47:13.407462Z"
    },
    "jupyter": {
     "outputs_hidden": true
    },
    "papermill": {
     "duration": 0.022806,
     "end_time": "2022-12-14T14:47:13.411533",
     "exception": false,
     "start_time": "2022-12-14T14:47:13.388727",
     "status": "completed"
    },
    "tags": []
   },
   "outputs": [
    {
     "name": "stdout",
     "output_type": "stream",
     "text": [
      "CPU times: user 3 µs, sys: 2 µs, total: 5 µs\n",
      "Wall time: 7.63 µs\n"
     ]
    }
   ],
   "source": [
    "%%time\n",
    "# ~ 6m 10s\n",
    "# noType Week matrix\n",
    "#createCoMatrix(train, mergeSimple, predsNoType, time, \\\n",
    "#               'coMatrixMergeDay', defaultdict(Counter))"
   ]
  },
  {
   "cell_type": "code",
   "execution_count": 34,
   "id": "e3587a45",
   "metadata": {
    "execution": {
     "iopub.execute_input": "2022-12-14T14:47:13.437961Z",
     "iopub.status.busy": "2022-12-14T14:47:13.437591Z",
     "iopub.status.idle": "2022-12-14T14:47:13.443740Z",
     "shell.execute_reply": "2022-12-14T14:47:13.442569Z"
    },
    "papermill": {
     "duration": 0.02286,
     "end_time": "2022-12-14T14:47:13.446107",
     "exception": false,
     "start_time": "2022-12-14T14:47:13.423247",
     "status": "completed"
    },
    "tags": []
   },
   "outputs": [
    {
     "name": "stdout",
     "output_type": "stream",
     "text": [
      "CPU times: user 2 µs, sys: 2 µs, total: 4 µs\n",
      "Wall time: 7.63 µs\n"
     ]
    }
   ],
   "source": [
    "%%time\n",
    "# ~ 4m 15s\n",
    "# noType Week matrix\n",
    "#createCoMatrix(train, mergeSimpleWithType, predsWithType, time, \\\n",
    "#               'coMatrixMergeWithTypeDay', [defaultdict(Counter) for i in range(0, 3)])"
   ]
  },
  {
   "cell_type": "code",
   "execution_count": 35,
   "id": "9a5bf000",
   "metadata": {
    "execution": {
     "iopub.execute_input": "2022-12-14T14:47:13.471498Z",
     "iopub.status.busy": "2022-12-14T14:47:13.470658Z",
     "iopub.status.idle": "2022-12-14T14:47:13.478263Z",
     "shell.execute_reply": "2022-12-14T14:47:13.476782Z"
    },
    "papermill": {
     "duration": 0.023246,
     "end_time": "2022-12-14T14:47:13.480880",
     "exception": false,
     "start_time": "2022-12-14T14:47:13.457634",
     "status": "completed"
    },
    "tags": []
   },
   "outputs": [
    {
     "name": "stdout",
     "output_type": "stream",
     "text": [
      "CPU times: user 3 µs, sys: 2 µs, total: 5 µs\n",
      "Wall time: 7.87 µs\n"
     ]
    }
   ],
   "source": [
    "%%time\n",
    "# ~ 5m\n",
    "# noType Week matrix\n",
    "#createCoMatrix(train, mergeWithHardType, predsWithType, time, \\\n",
    "#               'coMatrixMergeWithHardTypeDay', [defaultdict(Counter) for i in range(0, 3)])"
   ]
  },
  {
   "cell_type": "code",
   "execution_count": 36,
   "id": "3896a632",
   "metadata": {
    "execution": {
     "iopub.execute_input": "2022-12-14T14:47:13.507201Z",
     "iopub.status.busy": "2022-12-14T14:47:13.506792Z",
     "iopub.status.idle": "2022-12-14T14:47:13.513085Z",
     "shell.execute_reply": "2022-12-14T14:47:13.511809Z"
    },
    "papermill": {
     "duration": 0.022649,
     "end_time": "2022-12-14T14:47:13.516119",
     "exception": false,
     "start_time": "2022-12-14T14:47:13.493470",
     "status": "completed"
    },
    "tags": []
   },
   "outputs": [
    {
     "name": "stdout",
     "output_type": "stream",
     "text": [
      "CPU times: user 3 µs, sys: 2 µs, total: 5 µs\n",
      "Wall time: 7.63 µs\n"
     ]
    }
   ],
   "source": [
    "%%time\n",
    "# ~ 6m 40s\n",
    "# noType Week matrix\n",
    "#createCoMatrix(train, mergeWeighted, predsNoType, time, \\\n",
    "#               'coMatrixMergeWeightedDay', defaultdict(Counter))"
   ]
  },
  {
   "cell_type": "code",
   "execution_count": 37,
   "id": "72d6ff68",
   "metadata": {
    "execution": {
     "iopub.execute_input": "2022-12-14T14:47:13.542876Z",
     "iopub.status.busy": "2022-12-14T14:47:13.542174Z",
     "iopub.status.idle": "2022-12-14T14:47:13.549076Z",
     "shell.execute_reply": "2022-12-14T14:47:13.547573Z"
    },
    "papermill": {
     "duration": 0.022609,
     "end_time": "2022-12-14T14:47:13.551600",
     "exception": false,
     "start_time": "2022-12-14T14:47:13.528991",
     "status": "completed"
    },
    "tags": []
   },
   "outputs": [
    {
     "name": "stdout",
     "output_type": "stream",
     "text": [
      "CPU times: user 4 µs, sys: 0 ns, total: 4 µs\n",
      "Wall time: 8.58 µs\n"
     ]
    }
   ],
   "source": [
    "%%time\n",
    "# ~ 6m\n",
    "# noType Week matrix\n",
    "#createCoMatrix(train, mergeCartBuy, predsNoType, time, \\\n",
    "#               'coMatrixMergeCartBuyDay', defaultdict(Counter))"
   ]
  },
  {
   "cell_type": "code",
   "execution_count": 38,
   "id": "33cbb1c4",
   "metadata": {
    "execution": {
     "iopub.execute_input": "2022-12-14T14:47:13.577617Z",
     "iopub.status.busy": "2022-12-14T14:47:13.576801Z",
     "iopub.status.idle": "2022-12-14T14:47:13.584238Z",
     "shell.execute_reply": "2022-12-14T14:47:13.582501Z"
    },
    "papermill": {
     "duration": 0.023001,
     "end_time": "2022-12-14T14:47:13.586575",
     "exception": false,
     "start_time": "2022-12-14T14:47:13.563574",
     "status": "completed"
    },
    "tags": []
   },
   "outputs": [
    {
     "name": "stdout",
     "output_type": "stream",
     "text": [
      "CPU times: user 3 µs, sys: 1 µs, total: 4 µs\n",
      "Wall time: 7.87 µs\n"
     ]
    }
   ],
   "source": [
    "%%time\n",
    "# ~ 7m\n",
    "# noType Week matrix\n",
    "#createCoMatrix(train, mergeTimeWeighted, predsNoType, time, \\\n",
    "#               'coMatrixMergeTimeWeightedDay', defaultdict(Counter))"
   ]
  },
  {
   "cell_type": "code",
   "execution_count": null,
   "id": "68a207e5",
   "metadata": {
    "papermill": {
     "duration": 0.011655,
     "end_time": "2022-12-14T14:47:13.610143",
     "exception": false,
     "start_time": "2022-12-14T14:47:13.598488",
     "status": "completed"
    },
    "tags": []
   },
   "outputs": [],
   "source": []
  },
  {
   "cell_type": "code",
   "execution_count": 39,
   "id": "6e2eaad1",
   "metadata": {
    "execution": {
     "iopub.execute_input": "2022-12-14T14:47:13.635829Z",
     "iopub.status.busy": "2022-12-14T14:47:13.635402Z",
     "iopub.status.idle": "2022-12-14T14:47:13.640474Z",
     "shell.execute_reply": "2022-12-14T14:47:13.639200Z"
    },
    "papermill": {
     "duration": 0.020539,
     "end_time": "2022-12-14T14:47:13.642752",
     "exception": false,
     "start_time": "2022-12-14T14:47:13.622213",
     "status": "completed"
    },
    "tags": []
   },
   "outputs": [],
   "source": [
    "#train = pd.read_parquet('../input/otto-analyse-data/train_no_free_orders.parquet')\\\n",
    "#        .sort_values(by=['session', 'ts'])\n",
    "#time_range = (7 * 24 * 60 * 60)\n",
    "#min_ts = train.ts.min()\n",
    "#max_ts = train.ts.max()"
   ]
  },
  {
   "cell_type": "code",
   "execution_count": 40,
   "id": "d1b8cb29",
   "metadata": {
    "execution": {
     "iopub.execute_input": "2022-12-14T14:47:13.668443Z",
     "iopub.status.busy": "2022-12-14T14:47:13.667980Z",
     "iopub.status.idle": "2022-12-14T14:47:13.673059Z",
     "shell.execute_reply": "2022-12-14T14:47:13.671831Z"
    },
    "papermill": {
     "duration": 0.020649,
     "end_time": "2022-12-14T14:47:13.675414",
     "exception": false,
     "start_time": "2022-12-14T14:47:13.654765",
     "status": "completed"
    },
    "tags": []
   },
   "outputs": [],
   "source": [
    "#def getNextTS(df):\n",
    "#    df = df.copy().reset_index(drop=True).reset_index()\n",
    "#    tmp = df[['index', 'ts']].copy()\n",
    "#    tmp['index'] = tmp['index'] - 1\n",
    "#    tmp.columns = ['index', 'next_ts']\n",
    "#    df = df.merge(tmp, how='left', on='index').drop('index', axis=1)\n",
    "#    df.iloc[-1, -1] = df.iloc[-2, -1]\n",
    "#    df['next_ts'] = df['next_ts'] - df['ts']\n",
    "#    df.loc[df['next_ts'] < 0, 'next_ts'] = 0\n",
    "#    return df"
   ]
  },
  {
   "cell_type": "code",
   "execution_count": 41,
   "id": "3fd1dd82",
   "metadata": {
    "execution": {
     "iopub.execute_input": "2022-12-14T14:47:13.701470Z",
     "iopub.status.busy": "2022-12-14T14:47:13.700782Z",
     "iopub.status.idle": "2022-12-14T14:47:13.705104Z",
     "shell.execute_reply": "2022-12-14T14:47:13.704286Z"
    },
    "papermill": {
     "duration": 0.019644,
     "end_time": "2022-12-14T14:47:13.707170",
     "exception": false,
     "start_time": "2022-12-14T14:47:13.687526",
     "status": "completed"
    },
    "tags": []
   },
   "outputs": [],
   "source": [
    "#@scoreTime('coMatrix2')\n",
    "#def coMatrix2(df, time_elapsed, func, log=False):\n",
    "#    df = getNextTS(df)\n",
    "#    chunks = df[df['next_ts'] > time_range].index\n",
    "#    percent = -1\n",
    "#    for i in range(0, chunks.shape[0], 2):\n",
    "#        if (log) and (round(i * 100 / chunks.shape[0]) != percent):\n",
    "#            percent = round(i * 100 / chunks.shape[0])\n",
    "#            print('\\r', f'{percent}% chunk: {i}/{chunks.shape[0]}', end='   ')\n",
    "#        if (chunks[i + 1] - chunks[i] > 1):\n",
    "#            df_chank = df[(df.index > chunks[i])&(df.index <= chunks[i + 1])]\n",
    "#            if df_chank.shape[0] > 1:\n",
    "#                func(df_chank)\n",
    "#        gc.collect()"
   ]
  },
  {
   "cell_type": "code",
   "execution_count": 42,
   "id": "d12d9f9e",
   "metadata": {
    "execution": {
     "iopub.execute_input": "2022-12-14T14:47:13.733603Z",
     "iopub.status.busy": "2022-12-14T14:47:13.733165Z",
     "iopub.status.idle": "2022-12-14T14:47:13.737639Z",
     "shell.execute_reply": "2022-12-14T14:47:13.736496Z"
    },
    "papermill": {
     "duration": 0.020834,
     "end_time": "2022-12-14T14:47:13.740181",
     "exception": false,
     "start_time": "2022-12-14T14:47:13.719347",
     "status": "completed"
    },
    "tags": []
   },
   "outputs": [],
   "source": [
    "#%%time\n",
    "# ~ 3m 50s - 10 000\n",
    "#resMatrix = defaultdict(Counter)\n",
    "#coMatrix2(train, time_range, noTypes, log=True)"
   ]
  },
  {
   "cell_type": "code",
   "execution_count": 43,
   "id": "300a0a60",
   "metadata": {
    "execution": {
     "iopub.execute_input": "2022-12-14T14:47:13.765408Z",
     "iopub.status.busy": "2022-12-14T14:47:13.764970Z",
     "iopub.status.idle": "2022-12-14T14:47:13.770169Z",
     "shell.execute_reply": "2022-12-14T14:47:13.768736Z"
    },
    "papermill": {
     "duration": 0.020577,
     "end_time": "2022-12-14T14:47:13.772488",
     "exception": false,
     "start_time": "2022-12-14T14:47:13.751911",
     "status": "completed"
    },
    "tags": []
   },
   "outputs": [],
   "source": [
    "#result = getPreds(predsNoTypes(resMatrix))\n",
    "#result['labels'] = result['labels'].map(lambda x: ' '.join(str(i) for i in x))\n",
    "#result.to_csv('coMatrixNoType2Day_2.csv', index=False)\n",
    "#result"
   ]
  },
  {
   "cell_type": "code",
   "execution_count": 44,
   "id": "a0f863b0",
   "metadata": {
    "execution": {
     "iopub.execute_input": "2022-12-14T14:47:13.798606Z",
     "iopub.status.busy": "2022-12-14T14:47:13.797394Z",
     "iopub.status.idle": "2022-12-14T14:47:13.802295Z",
     "shell.execute_reply": "2022-12-14T14:47:13.801350Z"
    },
    "papermill": {
     "duration": 0.02016,
     "end_time": "2022-12-14T14:47:13.804503",
     "exception": false,
     "start_time": "2022-12-14T14:47:13.784343",
     "status": "completed"
    },
    "tags": []
   },
   "outputs": [],
   "source": [
    "#df1 = pd.DataFrame({'lkey': ['foo', 'bar', 'baz', 'foo'],\n",
    "#                    'rkey': ['bar', 'bar', 'baz', 'foo'],\n",
    "#                    'value': [1, 2, 3, 5]})\n",
    "#df2 = pd.DataFrame({'lkey': ['foo', 'bar', 'baz', 'foo'],\n",
    "#                    'rkey': ['baz', 'bar', 'foo', 'boo'],\n",
    "#                    'value': [5, 6, 7, 8]})\n",
    "#display(df1)\n",
    "#display(df2)"
   ]
  },
  {
   "cell_type": "code",
   "execution_count": 45,
   "id": "c191ea09",
   "metadata": {
    "execution": {
     "iopub.execute_input": "2022-12-14T14:47:13.831298Z",
     "iopub.status.busy": "2022-12-14T14:47:13.830582Z",
     "iopub.status.idle": "2022-12-14T14:47:13.834687Z",
     "shell.execute_reply": "2022-12-14T14:47:13.833758Z"
    },
    "papermill": {
     "duration": 0.019819,
     "end_time": "2022-12-14T14:47:13.836924",
     "exception": false,
     "start_time": "2022-12-14T14:47:13.817105",
     "status": "completed"
    },
    "tags": []
   },
   "outputs": [],
   "source": [
    "#pd.merge(df1, df2, how='outer', on=['lkey', 'rkey'])"
   ]
  },
  {
   "cell_type": "code",
   "execution_count": null,
   "id": "fa260f62",
   "metadata": {
    "papermill": {
     "duration": 0.011331,
     "end_time": "2022-12-14T14:47:13.859900",
     "exception": false,
     "start_time": "2022-12-14T14:47:13.848569",
     "status": "completed"
    },
    "tags": []
   },
   "outputs": [],
   "source": []
  }
 ],
 "metadata": {
  "kernelspec": {
   "display_name": "Python 3",
   "language": "python",
   "name": "python3"
  },
  "language_info": {
   "codemirror_mode": {
    "name": "ipython",
    "version": 3
   },
   "file_extension": ".py",
   "mimetype": "text/x-python",
   "name": "python",
   "nbconvert_exporter": "python",
   "pygments_lexer": "ipython3",
   "version": "3.7.12"
  },
  "papermill": {
   "default_parameters": {},
   "duration": 25.296081,
   "end_time": "2022-12-14T14:47:14.895292",
   "environment_variables": {},
   "exception": null,
   "input_path": "__notebook__.ipynb",
   "output_path": "__notebook__.ipynb",
   "parameters": {},
   "start_time": "2022-12-14T14:46:49.599211",
   "version": "2.3.4"
  }
 },
 "nbformat": 4,
 "nbformat_minor": 5
}
