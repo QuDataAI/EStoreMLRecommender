{
 "cells": [
  {
   "cell_type": "code",
   "execution_count": 1,
   "id": "18084a90",
   "metadata": {
    "_cell_guid": "b1076dfc-b9ad-4769-8c92-a6c4dae69d19",
    "_uuid": "8f2839f25d086af736a60e9eeb907d3b93b6e0e5",
    "execution": {
     "iopub.execute_input": "2023-01-09T15:30:47.060246Z",
     "iopub.status.busy": "2023-01-09T15:30:47.059385Z",
     "iopub.status.idle": "2023-01-09T15:30:47.095192Z",
     "shell.execute_reply": "2023-01-09T15:30:47.094314Z"
    },
    "papermill": {
     "duration": 0.050953,
     "end_time": "2023-01-09T15:30:47.097435",
     "exception": false,
     "start_time": "2023-01-09T15:30:47.046482",
     "status": "completed"
    },
    "tags": []
   },
   "outputs": [],
   "source": [
    "import gc\n",
    "import glob\n",
    "import pandas\n",
    "import numpy as np\n",
    "\n",
    "from datetime import datetime\n",
    "from collections import defaultdict, Counter\n",
    "\n",
    "import os\n",
    "for dirname, _, filenames in os.walk('/kaggle/input'):\n",
    "    for filename in filenames:\n",
    "        #print(os.path.join(dirname, filename))\n",
    "        pass"
   ]
  },
  {
   "cell_type": "code",
   "execution_count": 2,
   "id": "37ac1adb",
   "metadata": {
    "execution": {
     "iopub.execute_input": "2023-01-09T15:30:47.110750Z",
     "iopub.status.busy": "2023-01-09T15:30:47.110441Z",
     "iopub.status.idle": "2023-01-09T15:30:47.114642Z",
     "shell.execute_reply": "2023-01-09T15:30:47.113733Z"
    },
    "papermill": {
     "duration": 0.013024,
     "end_time": "2023-01-09T15:30:47.116650",
     "exception": false,
     "start_time": "2023-01-09T15:30:47.103626",
     "status": "completed"
    },
    "tags": []
   },
   "outputs": [],
   "source": [
    "# ----- Декораторы -----"
   ]
  },
  {
   "cell_type": "code",
   "execution_count": 3,
   "id": "4342661c",
   "metadata": {
    "execution": {
     "iopub.execute_input": "2023-01-09T15:30:47.129611Z",
     "iopub.status.busy": "2023-01-09T15:30:47.129319Z",
     "iopub.status.idle": "2023-01-09T15:30:47.134943Z",
     "shell.execute_reply": "2023-01-09T15:30:47.134041Z"
    },
    "papermill": {
     "duration": 0.014416,
     "end_time": "2023-01-09T15:30:47.136923",
     "exception": false,
     "start_time": "2023-01-09T15:30:47.122507",
     "status": "completed"
    },
    "tags": []
   },
   "outputs": [],
   "source": [
    "def scoreTime(name):\n",
    "    '''Декоратор для вывода времени работы функции (начало-конец)'''\n",
    "    def wrapper(func):\n",
    "        def function(*args, **kwargs):\n",
    "            print('\\r', name, ': start\\t', datetime.now())\n",
    "            res = func(*args, **kwargs)\n",
    "            print('\\r', name, ': end  \\t', datetime.now())\n",
    "            return res\n",
    "        return function\n",
    "    return wrapper"
   ]
  },
  {
   "cell_type": "code",
   "execution_count": 4,
   "id": "bdbf5ef0",
   "metadata": {
    "execution": {
     "iopub.execute_input": "2023-01-09T15:30:47.157898Z",
     "iopub.status.busy": "2023-01-09T15:30:47.155351Z",
     "iopub.status.idle": "2023-01-09T15:30:47.162821Z",
     "shell.execute_reply": "2023-01-09T15:30:47.161918Z"
    },
    "papermill": {
     "duration": 0.022348,
     "end_time": "2023-01-09T15:30:47.165110",
     "exception": false,
     "start_time": "2023-01-09T15:30:47.142762",
     "status": "completed"
    },
    "tags": []
   },
   "outputs": [],
   "source": [
    "# ----- Функции работы с файлами: removeFiles, save -----"
   ]
  },
  {
   "cell_type": "code",
   "execution_count": 5,
   "id": "ce49b380",
   "metadata": {
    "execution": {
     "iopub.execute_input": "2023-01-09T15:30:47.189585Z",
     "iopub.status.busy": "2023-01-09T15:30:47.188936Z",
     "iopub.status.idle": "2023-01-09T15:30:47.202929Z",
     "shell.execute_reply": "2023-01-09T15:30:47.202061Z"
    },
    "papermill": {
     "duration": 0.033141,
     "end_time": "2023-01-09T15:30:47.209604",
     "exception": false,
     "start_time": "2023-01-09T15:30:47.176463",
     "status": "completed"
    },
    "tags": []
   },
   "outputs": [],
   "source": [
    "@scoreTime('removeFiles')\n",
    "def removeFiles(files, log=False):\n",
    "    ''' Функция удаления файлов '''\n",
    "    chunks = len(files)\n",
    "    percent = -1\n",
    "    for file in files:\n",
    "        if (log) and (round(i * 100 / chunks) != percent):\n",
    "            percent = round(i * 100 / chunks)\n",
    "            print('\\r', f'{percent}% chunk: {i+1}/{chunks+1}', end='   ')\n",
    "        os.remove(file)\n",
    "    print('\\r', f'100% chunk: {chunks+1}/{chunks+1}')\n",
    "# ----------------------------------------------------------------\n",
    "def save(df, path, index = False, format = 'parquet'):\n",
    "    func = df.to_csv if format == 'csv' else df.to_parquet\n",
    "    func(f'{path}.{format}', index=index)"
   ]
  },
  {
   "cell_type": "code",
   "execution_count": 6,
   "id": "6b7a8102",
   "metadata": {
    "execution": {
     "iopub.execute_input": "2023-01-09T15:30:47.231813Z",
     "iopub.status.busy": "2023-01-09T15:30:47.231125Z",
     "iopub.status.idle": "2023-01-09T15:30:47.235690Z",
     "shell.execute_reply": "2023-01-09T15:30:47.234868Z"
    },
    "papermill": {
     "duration": 0.021421,
     "end_time": "2023-01-09T15:30:47.240225",
     "exception": false,
     "start_time": "2023-01-09T15:30:47.218804",
     "status": "completed"
    },
    "tags": []
   },
   "outputs": [],
   "source": [
    "# ----- Функции разделения датасета на файлы -----"
   ]
  },
  {
   "cell_type": "code",
   "execution_count": 7,
   "id": "8ef877a6",
   "metadata": {
    "execution": {
     "iopub.execute_input": "2023-01-09T15:30:47.257026Z",
     "iopub.status.busy": "2023-01-09T15:30:47.256357Z",
     "iopub.status.idle": "2023-01-09T15:30:47.264836Z",
     "shell.execute_reply": "2023-01-09T15:30:47.264023Z"
    },
    "papermill": {
     "duration": 0.01717,
     "end_time": "2023-01-09T15:30:47.266748",
     "exception": false,
     "start_time": "2023-01-09T15:30:47.249578",
     "status": "completed"
    },
    "tags": []
   },
   "outputs": [],
   "source": [
    "@scoreTime('trimFiles')\n",
    "def trimFiles(df, time_elapsed, saveFunc, log=False):\n",
    "    ''' Разбиваем данные на временные промежутки\n",
    "        и считаем пересечения внутри них '''\n",
    "    df = df.sort_values(by=['ts'])\n",
    "    min_ts, max_ts = df.iloc[0]['ts'], df.iloc[-1]['ts']\n",
    "    chunks = round((max_ts - min_ts) / time_elapsed)\n",
    "    percent = -1\n",
    "    for i in range(0, chunks):\n",
    "        if (log) and (round(i * 100 / chunks) != percent):\n",
    "            percent = round(i * 100 / chunks)\n",
    "            print('\\r', f'{percent}% chunk: {i+1}/{chunks+1}', end='   ')\n",
    "        start = min_ts + i * time_elapsed\n",
    "        df_chank = df[(df['ts'] >= start)&(df['ts'] <= start + time_elapsed)].drop('ts', axis=1)\n",
    "        if df_chank.shape[0] > 1:\n",
    "            saveFunc(df_chank, f'chunk_{i}')\n",
    "        gc.collect()\n",
    "    print('\\r', f'100% chunk: {chunks+1}/{chunks+1}')"
   ]
  },
  {
   "cell_type": "code",
   "execution_count": 8,
   "id": "a4c2c713",
   "metadata": {
    "execution": {
     "iopub.execute_input": "2023-01-09T15:30:47.280021Z",
     "iopub.status.busy": "2023-01-09T15:30:47.279237Z",
     "iopub.status.idle": "2023-01-09T15:30:47.286018Z",
     "shell.execute_reply": "2023-01-09T15:30:47.285190Z"
    },
    "papermill": {
     "duration": 0.01546,
     "end_time": "2023-01-09T15:30:47.288006",
     "exception": false,
     "start_time": "2023-01-09T15:30:47.272546",
     "status": "completed"
    },
    "tags": []
   },
   "outputs": [],
   "source": [
    "# -----------------------------------------\n",
    "def mergeSimpleDF(df, path, time_elapsed = None):\n",
    "    df = df.merge(df, on='session')\n",
    "    df = df[['session', 'aid_x', 'aid_y']]\n",
    "    df = df[df['aid_x'] != df['aid_y']]\n",
    "    df = df.drop_duplicates(['session', 'aid_x', 'aid_y'])\n",
    "    df = df[['aid_x', 'aid_y']]\n",
    "    df['wgt'] = 1\n",
    "    df = df.groupby(['aid_x', 'aid_y']).wgt.sum().reset_index()\n",
    "    df[['aid_x', 'aid_y']] = df[['aid_x', 'aid_y']].astype('uint32')\n",
    "    df['wgt'] = df['wgt'].astype('uint16')\n",
    "    df.sort_values('aid_x').to_parquet(f'{path}.parquet')"
   ]
  },
  {
   "cell_type": "code",
   "execution_count": 9,
   "id": "e9dfeadb",
   "metadata": {
    "execution": {
     "iopub.execute_input": "2023-01-09T15:30:47.301437Z",
     "iopub.status.busy": "2023-01-09T15:30:47.300640Z",
     "iopub.status.idle": "2023-01-09T15:30:47.304669Z",
     "shell.execute_reply": "2023-01-09T15:30:47.303743Z"
    },
    "papermill": {
     "duration": 0.012572,
     "end_time": "2023-01-09T15:30:47.306600",
     "exception": false,
     "start_time": "2023-01-09T15:30:47.294028",
     "status": "completed"
    },
    "tags": []
   },
   "outputs": [],
   "source": [
    "# ----- Функции расчёта весов -----"
   ]
  },
  {
   "cell_type": "code",
   "execution_count": 10,
   "id": "be28e103",
   "metadata": {
    "execution": {
     "iopub.execute_input": "2023-01-09T15:30:47.319801Z",
     "iopub.status.busy": "2023-01-09T15:30:47.319053Z",
     "iopub.status.idle": "2023-01-09T15:30:47.327805Z",
     "shell.execute_reply": "2023-01-09T15:30:47.326868Z"
    },
    "papermill": {
     "duration": 0.01731,
     "end_time": "2023-01-09T15:30:47.329769",
     "exception": false,
     "start_time": "2023-01-09T15:30:47.312459",
     "status": "completed"
    },
    "tags": []
   },
   "outputs": [],
   "source": [
    "def mostCommon(files, count=20, filename='co_matrix'):\n",
    "    chunks = len(files)\n",
    "    percent = -1\n",
    "    matrix = pd.DataFrame()\n",
    "    for i, fleft in enumerate(files):\n",
    "        if (round(i * 100 / chunks) != percent):\n",
    "            percent = round(i * 100 / chunks)\n",
    "            print('\\r', f'{percent}% chunk: {i + 1}/{chunks + 1}', end='   ')\n",
    "        left  = pd.read_parquet(fleft)\n",
    "        left = left.sort_values(['aid_x', 'wgt'], ascending=False).reset_index(drop=True)\n",
    "        left['n'] = left.groupby('aid_x').cumcount()\n",
    "        left = left[left['n'] < count].drop('n',axis=1)\n",
    "        matrix = pd.concat([matrix, left])\n",
    "        matrix = matrix.sort_values(['aid_x', 'wgt'], ascending=False).reset_index(drop=True)\n",
    "        matrix['n'] = matrix.groupby('aid_x').cumcount()\n",
    "        matrix = matrix[matrix['n'] < count].drop('n',axis=1)\n",
    "        del left\n",
    "        gc.collect()\n",
    "    print('\\r', f'100% chunk: {chunks+1}/{chunks+1}')\n",
    "    return matrix.drop('wgt', axis=1)"
   ]
  },
  {
   "cell_type": "code",
   "execution_count": 11,
   "id": "54dd22f9",
   "metadata": {
    "execution": {
     "iopub.execute_input": "2023-01-09T15:30:47.342614Z",
     "iopub.status.busy": "2023-01-09T15:30:47.342360Z",
     "iopub.status.idle": "2023-01-09T15:30:47.357947Z",
     "shell.execute_reply": "2023-01-09T15:30:47.357144Z"
    },
    "papermill": {
     "duration": 0.024355,
     "end_time": "2023-01-09T15:30:47.359857",
     "exception": false,
     "start_time": "2023-01-09T15:30:47.335502",
     "status": "completed"
    },
    "tags": []
   },
   "outputs": [],
   "source": [
    "@scoreTime('calcWGT')\n",
    "def calcWGT(files):\n",
    "    chunks = len(files) * len(files)\n",
    "    percent = -1\n",
    "    for i, fleft in enumerate(files):\n",
    "        left  = pd.read_parquet(fleft)\n",
    "        for j, fright in enumerate(files[i+1:]):\n",
    "            if (round((i * len(files) + j) * 100 / chunks) != percent):\n",
    "                percent = round((i * len(files) + j) * 100 / chunks)\n",
    "                print('\\r', f'{percent}% file: {(i * len(files) + j) + 1}/{chunks + 1}', end='   ')\n",
    "            right = pd.read_parquet(fright)\n",
    "            left = left.merge(right, how='left', on=['aid_x', 'aid_y']).fillna(0)\n",
    "            left['wgt_x'] += left['wgt_y']\n",
    "            left = left.drop(['wgt_y'], axis=1).sort_values('aid_x').rename(columns={'wgt_x':'wgt'})\n",
    "            duplicates = pd.concat([left, right], ignore_index=True)\\\n",
    "                            .drop_duplicates(subset=['aid_x', 'aid_y'])\n",
    "            right = duplicates[duplicates.index >= left.shape[0]][['aid_x', 'aid_y', 'wgt']]\n",
    "            right.to_parquet(fright ,index=False)\n",
    "            del duplicates, right\n",
    "            gc.collect()\n",
    "        left.to_parquet(fleft ,index=False)\n",
    "        gc.collect()\n",
    "    print('\\r', f'100% chunk: {chunks+1}/{chunks+1}')\n",
    "# -----------------------------------------------------------------------\n",
    "@scoreTime('calcWGTWeighted')\n",
    "def calcWGTWeighted(files):\n",
    "    chunks = len(files) * len(files)\n",
    "    percent = -1\n",
    "    for i, fleft in enumerate(files):\n",
    "        left  = pd.read_parquet(fleft)\n",
    "        for j, fright in enumerate(files[i+1:]):\n",
    "            if (round((i * len(files) + j) * 100 / chunks) != percent):\n",
    "                percent = round((i * len(files) + j) * 100 / chunks)\n",
    "                print('\\r', f'{percent}% file: {(i * len(files) + j) + 1}/{chunks + 1}', end='   ')\n",
    "            right = pd.read_parquet(fright)\n",
    "            left = left.merge(right, how='left', on=['aid_x', 'aid_y']).fillna(0)\n",
    "            left['wgt_x'] += left['wgt_y']\n",
    "            left = left.drop(['wgt_y'], axis=1).sort_values('aid_x').rename(columns={'wgt_x':'wgt'})\n",
    "            duplicates = pd.concat([left, right], ignore_index=True)\\\n",
    "                            .drop_duplicates(subset=['aid_x', 'aid_y'])\n",
    "            right = duplicates[duplicates.index >= left.shape[0]][['aid_x', 'aid_y', 'wgt']]\n",
    "            right.to_parquet(fright ,index=False)\n",
    "            del duplicates, right\n",
    "            gc.collect()\n",
    "        left.to_parquet(fleft ,index=False)\n",
    "        gc.collect()\n",
    "    print('\\r', f'100% chunk: {chunks+1}/{chunks+1}')"
   ]
  },
  {
   "cell_type": "code",
   "execution_count": 12,
   "id": "7cf603b7",
   "metadata": {
    "execution": {
     "iopub.execute_input": "2023-01-09T15:30:47.373420Z",
     "iopub.status.busy": "2023-01-09T15:30:47.372344Z",
     "iopub.status.idle": "2023-01-09T15:30:47.376804Z",
     "shell.execute_reply": "2023-01-09T15:30:47.376010Z"
    },
    "papermill": {
     "duration": 0.012851,
     "end_time": "2023-01-09T15:30:47.378667",
     "exception": false,
     "start_time": "2023-01-09T15:30:47.365816",
     "status": "completed"
    },
    "tags": []
   },
   "outputs": [],
   "source": [
    "# ----- Пайплайны расчёта матрицы -----"
   ]
  },
  {
   "cell_type": "code",
   "execution_count": 13,
   "id": "ab9db5f9",
   "metadata": {
    "execution": {
     "iopub.execute_input": "2023-01-09T15:30:47.391814Z",
     "iopub.status.busy": "2023-01-09T15:30:47.390935Z",
     "iopub.status.idle": "2023-01-09T15:30:47.397778Z",
     "shell.execute_reply": "2023-01-09T15:30:47.396991Z"
    },
    "papermill": {
     "duration": 0.015316,
     "end_time": "2023-01-09T15:30:47.399729",
     "exception": false,
     "start_time": "2023-01-09T15:30:47.384413",
     "status": "completed"
    },
    "tags": []
   },
   "outputs": [],
   "source": [
    "def withTrimFiles(path, wgtFunc, drop=[]):\n",
    "    df = pd.read_parquet(path)\n",
    "    if len(drop) > 0: df.drop(drop, axis=1, inplace=True)\n",
    "    trimFiles(df, params['time_elapsed'], mergeSimpleDF, log=True)\n",
    "    del df; gc.collect()\n",
    "    wgtFunc(glob.glob('./chunk_*.parquet'))\n",
    "    df = mostCommon(glob.glob('./chunk_*.parquet'))\n",
    "    removeFiles(glob.glob('./chunk_*.parquet'))\n",
    "    if GPU: df = df.to_pandas()\n",
    "    df = df.groupby('aid_x').agg(lambda x: list(dict.fromkeys(x)))\n",
    "    if GPU: df = pd.from_pandas(df)\n",
    "    return df"
   ]
  },
  {
   "cell_type": "code",
   "execution_count": 14,
   "id": "02e15848",
   "metadata": {
    "execution": {
     "iopub.execute_input": "2023-01-09T15:30:47.413240Z",
     "iopub.status.busy": "2023-01-09T15:30:47.412375Z",
     "iopub.status.idle": "2023-01-09T15:30:49.964784Z",
     "shell.execute_reply": "2023-01-09T15:30:49.961915Z"
    },
    "papermill": {
     "duration": 2.562147,
     "end_time": "2023-01-09T15:30:49.967753",
     "exception": false,
     "start_time": "2023-01-09T15:30:47.405606",
     "status": "completed"
    },
    "tags": []
   },
   "outputs": [
    {
     "name": "stdout",
     "output_type": "stream",
     "text": [
      "We will use RAPIDS version 21.10.01\n"
     ]
    }
   ],
   "source": [
    "# ==================================================================\n",
    "# ----- Конфигурация сессии для экспериментов-----------------------\n",
    "# ==================================================================\n",
    "#LOCAL = True  # Тип метрики. True - локально, False - Kaggle\n",
    "SAVE  = True # Сохранять ли файлы. Нужно при сохранении датасета\n",
    "SHOW  = True # Выводить ли таблицы в процессе\n",
    "GPU   = True # Использовать GPU\n",
    "# -----------------------------------------------------------------\n",
    "params = {\n",
    "    'path': '/otto-analyse-data/train_no_duplicates.parquet',\n",
    "    'drop': [],\n",
    "    'time_elapsed': 24*60*60,\n",
    "    'func': withTrimFiles,\n",
    "    'wgtFunc': calcWGT,\n",
    "}\n",
    "# -----------------------------------------------------------------\n",
    "if GPU: import cudf\n",
    "pd = cudf if GPU else pandas\n",
    "print('We will use RAPIDS version',cudf.__version__) if GPU else print('We will use CPU...')"
   ]
  },
  {
   "cell_type": "code",
   "execution_count": 15,
   "id": "df654d22",
   "metadata": {
    "execution": {
     "iopub.execute_input": "2023-01-09T15:30:49.981495Z",
     "iopub.status.busy": "2023-01-09T15:30:49.981195Z",
     "iopub.status.idle": "2023-01-09T15:30:49.985469Z",
     "shell.execute_reply": "2023-01-09T15:30:49.984419Z"
    },
    "papermill": {
     "duration": 0.013547,
     "end_time": "2023-01-09T15:30:49.987783",
     "exception": false,
     "start_time": "2023-01-09T15:30:49.974236",
     "status": "completed"
    },
    "tags": []
   },
   "outputs": [],
   "source": [
    "# ----- Обработка файлов -----"
   ]
  },
  {
   "cell_type": "code",
   "execution_count": 16,
   "id": "9539bdb3",
   "metadata": {
    "execution": {
     "iopub.execute_input": "2023-01-09T15:30:50.001151Z",
     "iopub.status.busy": "2023-01-09T15:30:50.000368Z",
     "iopub.status.idle": "2023-01-09T15:51:48.113850Z",
     "shell.execute_reply": "2023-01-09T15:51:48.112119Z"
    },
    "papermill": {
     "duration": 1258.12425,
     "end_time": "2023-01-09T15:51:48.117870",
     "exception": false,
     "start_time": "2023-01-09T15:30:49.993620",
     "status": "completed"
    },
    "tags": []
   },
   "outputs": [
    {
     "name": "stdout",
     "output_type": "stream",
     "text": [
      " trimFiles : start\t 2023-01-09 15:31:07.416111\n",
      " 100% chunk: 36/36\n",
      " trimFiles : end  \t 2023-01-09 15:32:43.957996\n",
      " calcWGT : start\t 2023-01-09 15:32:44.120327\n",
      " 100% chunk: 1226/1226\n",
      " calcWGT : end  \t 2023-01-09 15:50:27.891023\n",
      " 100% chunk: 36/36\n",
      " removeFiles : start\t 2023-01-09 15:51:19.455485\n",
      " 100% chunk: 36/36\n",
      " removeFiles : end  \t 2023-01-09 15:51:20.237099\n"
     ]
    },
    {
     "data": {
      "text/html": [
       "<div>\n",
       "<style scoped>\n",
       "    .dataframe tbody tr th:only-of-type {\n",
       "        vertical-align: middle;\n",
       "    }\n",
       "\n",
       "    .dataframe tbody tr th {\n",
       "        vertical-align: top;\n",
       "    }\n",
       "\n",
       "    .dataframe thead th {\n",
       "        text-align: right;\n",
       "    }\n",
       "</style>\n",
       "<table border=\"1\" class=\"dataframe\">\n",
       "  <thead>\n",
       "    <tr style=\"text-align: right;\">\n",
       "      <th></th>\n",
       "      <th>aid_y</th>\n",
       "    </tr>\n",
       "    <tr>\n",
       "      <th>aid_x</th>\n",
       "      <th></th>\n",
       "    </tr>\n",
       "  </thead>\n",
       "  <tbody>\n",
       "    <tr>\n",
       "      <th>0</th>\n",
       "      <td>[532042, 643097, 1848174, 1735605, 1350484, 70...</td>\n",
       "    </tr>\n",
       "    <tr>\n",
       "      <th>1</th>\n",
       "      <td>[1533875, 28092, 166683, 1234826, 990115, 1904...</td>\n",
       "    </tr>\n",
       "    <tr>\n",
       "      <th>2</th>\n",
       "      <td>[881881, 1101201, 1811594, 490493, 929227, 180...</td>\n",
       "    </tr>\n",
       "    <tr>\n",
       "      <th>3</th>\n",
       "      <td>[1180285, 170046, 1771163, 776187, 1512013, 83...</td>\n",
       "    </tr>\n",
       "    <tr>\n",
       "      <th>4</th>\n",
       "      <td>[536431, 1823804, 485093, 207360, 1805675, 641...</td>\n",
       "    </tr>\n",
       "    <tr>\n",
       "      <th>...</th>\n",
       "      <td>...</td>\n",
       "    </tr>\n",
       "    <tr>\n",
       "      <th>1855598</th>\n",
       "      <td>[76867, 1611306, 38444, 213351, 336719, 184371...</td>\n",
       "    </tr>\n",
       "    <tr>\n",
       "      <th>1855599</th>\n",
       "      <td>[315380, 1674841, 1638856, 1705997, 405852, 99...</td>\n",
       "    </tr>\n",
       "    <tr>\n",
       "      <th>1855600</th>\n",
       "      <td>[700554, 1136772, 69211, 619488, 1801680, 1807...</td>\n",
       "    </tr>\n",
       "    <tr>\n",
       "      <th>1855601</th>\n",
       "      <td>[247249, 1624652, 1345252, 376752, 656860, 148...</td>\n",
       "    </tr>\n",
       "    <tr>\n",
       "      <th>1855602</th>\n",
       "      <td>[1394911, 702899, 1598688, 1046590, 480847, 42...</td>\n",
       "    </tr>\n",
       "  </tbody>\n",
       "</table>\n",
       "<p>1852317 rows × 1 columns</p>\n",
       "</div>"
      ],
      "text/plain": [
       "                                                     aid_y\n",
       "aid_x                                                     \n",
       "0        [532042, 643097, 1848174, 1735605, 1350484, 70...\n",
       "1        [1533875, 28092, 166683, 1234826, 990115, 1904...\n",
       "2        [881881, 1101201, 1811594, 490493, 929227, 180...\n",
       "3        [1180285, 170046, 1771163, 776187, 1512013, 83...\n",
       "4        [536431, 1823804, 485093, 207360, 1805675, 641...\n",
       "...                                                    ...\n",
       "1855598  [76867, 1611306, 38444, 213351, 336719, 184371...\n",
       "1855599  [315380, 1674841, 1638856, 1705997, 405852, 99...\n",
       "1855600  [700554, 1136772, 69211, 619488, 1801680, 1807...\n",
       "1855601  [247249, 1624652, 1345252, 376752, 656860, 148...\n",
       "1855602  [1394911, 702899, 1598688, 1046590, 480847, 42...\n",
       "\n",
       "[1852317 rows x 1 columns]"
      ]
     },
     "metadata": {},
     "output_type": "display_data"
    },
    {
     "name": "stdout",
     "output_type": "stream",
     "text": [
      "CPU times: user 8min 58s, sys: 6min 29s, total: 15min 27s\n",
      "Wall time: 20min 58s\n"
     ]
    }
   ],
   "source": [
    "%%time\n",
    "# ~ 17m (GPU)\n",
    "matrix = params['func']('../input' + params['path'], params['wgtFunc'], params['drop'])\n",
    "if SHOW: display(matrix)\n",
    "if SAVE: \n",
    "    tmp = matrix.reset_index()\n",
    "    tmp.columns = ['aid', 'labels']\n",
    "    save(tmp, 'covisit_matrix')\n",
    "    del tmp; gc.collect()"
   ]
  },
  {
   "cell_type": "code",
   "execution_count": 17,
   "id": "811b7469",
   "metadata": {
    "execution": {
     "iopub.execute_input": "2023-01-09T15:51:48.147650Z",
     "iopub.status.busy": "2023-01-09T15:51:48.147333Z",
     "iopub.status.idle": "2023-01-09T15:51:48.151653Z",
     "shell.execute_reply": "2023-01-09T15:51:48.150620Z"
    },
    "papermill": {
     "duration": 0.021837,
     "end_time": "2023-01-09T15:51:48.153692",
     "exception": false,
     "start_time": "2023-01-09T15:51:48.131855",
     "status": "completed"
    },
    "tags": []
   },
   "outputs": [],
   "source": [
    "# ----- PREDICT -----"
   ]
  },
  {
   "cell_type": "code",
   "execution_count": 18,
   "id": "7a795641",
   "metadata": {
    "execution": {
     "iopub.execute_input": "2023-01-09T15:51:48.183108Z",
     "iopub.status.busy": "2023-01-09T15:51:48.181615Z",
     "iopub.status.idle": "2023-01-09T15:51:48.197266Z",
     "shell.execute_reply": "2023-01-09T15:51:48.196416Z"
    },
    "papermill": {
     "duration": 0.032059,
     "end_time": "2023-01-09T15:51:48.199421",
     "exception": false,
     "start_time": "2023-01-09T15:51:48.167362",
     "status": "completed"
    },
    "tags": []
   },
   "outputs": [],
   "source": [
    "def groupType(x):\n",
    "    res = list(set(x))\n",
    "    return sum(res) if len(res) > 0 else -1\n",
    "# -----------------------------------------------------------\n",
    "def groupLen(x):\n",
    "    return len(list(set(x)))\n",
    "# -----------------------------------------------------------\n",
    "def fillEvents(df, clone=True, value=[-1]):\n",
    "    import pandas as pnd\n",
    "    result = pnd.DataFrame()\n",
    "    if GPU: df = df.to_pandas()\n",
    "    _ = df[['session','type']].groupby(['session'])\\\n",
    "            .agg(ctype = ('type', groupType), count = ('type', groupLen))\n",
    "    \n",
    "    tmp = df[df['session'].isin(_[_['ctype'] == 0].index)].copy()\n",
    "    if not clone: tmp['aid'] = tmp['aid'].apply(lambda x: value)\n",
    "    tmp['type'] = 1\n",
    "    result = pnd.concat([result, tmp])\n",
    "    tmp['type'] = 2\n",
    "    result = pnd.concat([result, tmp])\n",
    "\n",
    "    tmp = df[df['session'].isin(_[_['ctype'] == 1].index)].copy().drop_duplicates(['session'])\n",
    "    if not clone: tmp['aid'] = tmp['aid'].apply(lambda x: value)\n",
    "    tmp['type'] = 2\n",
    "    result = pnd.concat([result, tmp])\n",
    "\n",
    "    tmp = df[df['session'].isin(_[_['ctype'] == 2].index)].copy().drop_duplicates(['session'])\n",
    "    if not clone: tmp['aid'] = tmp['aid'].apply(lambda x: value)\n",
    "    tmp['type'] = 1\n",
    "    result = pnd.concat([result, tmp])\n",
    "    \n",
    "    tmp = df[df['session'].isin(_[(_['ctype'].isin([1, 2]))&(_['count'] == 1)].index)].copy()\n",
    "    if not clone: tmp['aid'] = tmp['aid'].apply(lambda x: value)\n",
    "    tmp['type'] = 0\n",
    "    result = pnd.concat([result, tmp])\n",
    "\n",
    "    tmp = df[df['session'].isin(_[(_['ctype'] == 3)&(_['count'] == 2)].index)].copy()\\\n",
    "                .drop_duplicates(['session'])\n",
    "    if not clone: tmp['aid'].apply(lambda x: [])\n",
    "    tmp['type'] = 0\n",
    "    result = pnd.concat([result, tmp])\n",
    "    if GPU: result = pd.from_pandas(result)\n",
    "    if GPU: df = pd.from_pandas(df)\n",
    "    return pd.concat([df, result])"
   ]
  },
  {
   "cell_type": "code",
   "execution_count": 19,
   "id": "c6f710d2",
   "metadata": {
    "execution": {
     "iopub.execute_input": "2023-01-09T15:51:48.227413Z",
     "iopub.status.busy": "2023-01-09T15:51:48.226767Z",
     "iopub.status.idle": "2023-01-09T15:51:48.295935Z",
     "shell.execute_reply": "2023-01-09T15:51:48.295004Z"
    },
    "papermill": {
     "duration": 0.085472,
     "end_time": "2023-01-09T15:51:48.298071",
     "exception": false,
     "start_time": "2023-01-09T15:51:48.212599",
     "status": "completed"
    },
    "tags": []
   },
   "outputs": [
    {
     "data": {
      "text/html": [
       "<div>\n",
       "<style scoped>\n",
       "    .dataframe tbody tr th:only-of-type {\n",
       "        vertical-align: middle;\n",
       "    }\n",
       "\n",
       "    .dataframe tbody tr th {\n",
       "        vertical-align: top;\n",
       "    }\n",
       "\n",
       "    .dataframe thead th {\n",
       "        text-align: right;\n",
       "    }\n",
       "</style>\n",
       "<table border=\"1\" class=\"dataframe\">\n",
       "  <thead>\n",
       "    <tr style=\"text-align: right;\">\n",
       "      <th></th>\n",
       "      <th>aid</th>\n",
       "      <th>labels</th>\n",
       "    </tr>\n",
       "  </thead>\n",
       "  <tbody>\n",
       "    <tr>\n",
       "      <th>0</th>\n",
       "      <td>0</td>\n",
       "      <td>[532042, 643097, 1848174, 1735605, 1350484, 70...</td>\n",
       "    </tr>\n",
       "    <tr>\n",
       "      <th>1</th>\n",
       "      <td>1</td>\n",
       "      <td>[1533875, 28092, 166683, 1234826, 990115, 1904...</td>\n",
       "    </tr>\n",
       "    <tr>\n",
       "      <th>2</th>\n",
       "      <td>2</td>\n",
       "      <td>[881881, 1101201, 1811594, 490493, 929227, 180...</td>\n",
       "    </tr>\n",
       "    <tr>\n",
       "      <th>3</th>\n",
       "      <td>3</td>\n",
       "      <td>[1180285, 170046, 1771163, 776187, 1512013, 83...</td>\n",
       "    </tr>\n",
       "    <tr>\n",
       "      <th>4</th>\n",
       "      <td>4</td>\n",
       "      <td>[536431, 1823804, 485093, 207360, 1805675, 641...</td>\n",
       "    </tr>\n",
       "    <tr>\n",
       "      <th>...</th>\n",
       "      <td>...</td>\n",
       "      <td>...</td>\n",
       "    </tr>\n",
       "    <tr>\n",
       "      <th>1852312</th>\n",
       "      <td>1855598</td>\n",
       "      <td>[76867, 1611306, 38444, 213351, 336719, 184371...</td>\n",
       "    </tr>\n",
       "    <tr>\n",
       "      <th>1852313</th>\n",
       "      <td>1855599</td>\n",
       "      <td>[315380, 1674841, 1638856, 1705997, 405852, 99...</td>\n",
       "    </tr>\n",
       "    <tr>\n",
       "      <th>1852314</th>\n",
       "      <td>1855600</td>\n",
       "      <td>[700554, 1136772, 69211, 619488, 1801680, 1807...</td>\n",
       "    </tr>\n",
       "    <tr>\n",
       "      <th>1852315</th>\n",
       "      <td>1855601</td>\n",
       "      <td>[247249, 1624652, 1345252, 376752, 656860, 148...</td>\n",
       "    </tr>\n",
       "    <tr>\n",
       "      <th>1852316</th>\n",
       "      <td>1855602</td>\n",
       "      <td>[1394911, 702899, 1598688, 1046590, 480847, 42...</td>\n",
       "    </tr>\n",
       "  </tbody>\n",
       "</table>\n",
       "<p>1852317 rows × 2 columns</p>\n",
       "</div>"
      ],
      "text/plain": [
       "             aid                                             labels\n",
       "0              0  [532042, 643097, 1848174, 1735605, 1350484, 70...\n",
       "1              1  [1533875, 28092, 166683, 1234826, 990115, 1904...\n",
       "2              2  [881881, 1101201, 1811594, 490493, 929227, 180...\n",
       "3              3  [1180285, 170046, 1771163, 776187, 1512013, 83...\n",
       "4              4  [536431, 1823804, 485093, 207360, 1805675, 641...\n",
       "...          ...                                                ...\n",
       "1852312  1855598  [76867, 1611306, 38444, 213351, 336719, 184371...\n",
       "1852313  1855599  [315380, 1674841, 1638856, 1705997, 405852, 99...\n",
       "1852314  1855600  [700554, 1136772, 69211, 619488, 1801680, 1807...\n",
       "1852315  1855601  [247249, 1624652, 1345252, 376752, 656860, 148...\n",
       "1852316  1855602  [1394911, 702899, 1598688, 1046590, 480847, 42...\n",
       "\n",
       "[1852317 rows x 2 columns]"
      ]
     },
     "metadata": {},
     "output_type": "display_data"
    }
   ],
   "source": [
    "coMatrix = matrix.copy().reset_index()\n",
    "coMatrix.columns = ['aid', 'labels']\n",
    "if SHOW: display(coMatrix)"
   ]
  },
  {
   "cell_type": "code",
   "execution_count": 20,
   "id": "7f8109f9",
   "metadata": {
    "execution": {
     "iopub.execute_input": "2023-01-09T15:51:48.327393Z",
     "iopub.status.busy": "2023-01-09T15:51:48.326680Z",
     "iopub.status.idle": "2023-01-09T15:52:13.382446Z",
     "shell.execute_reply": "2023-01-09T15:52:13.381168Z"
    },
    "papermill": {
     "duration": 25.072576,
     "end_time": "2023-01-09T15:52:13.384406",
     "exception": false,
     "start_time": "2023-01-09T15:51:48.311830",
     "status": "completed"
    },
    "tags": []
   },
   "outputs": [
    {
     "data": {
      "text/html": [
       "<div>\n",
       "<style scoped>\n",
       "    .dataframe tbody tr th:only-of-type {\n",
       "        vertical-align: middle;\n",
       "    }\n",
       "\n",
       "    .dataframe tbody tr th {\n",
       "        vertical-align: top;\n",
       "    }\n",
       "\n",
       "    .dataframe thead th {\n",
       "        text-align: right;\n",
       "    }\n",
       "</style>\n",
       "<table border=\"1\" class=\"dataframe\">\n",
       "  <thead>\n",
       "    <tr style=\"text-align: right;\">\n",
       "      <th></th>\n",
       "      <th>session</th>\n",
       "      <th>aid</th>\n",
       "      <th>type</th>\n",
       "    </tr>\n",
       "  </thead>\n",
       "  <tbody>\n",
       "    <tr>\n",
       "      <th>0</th>\n",
       "      <td>12899779</td>\n",
       "      <td>59625</td>\n",
       "      <td>0</td>\n",
       "    </tr>\n",
       "    <tr>\n",
       "      <th>1</th>\n",
       "      <td>12899780</td>\n",
       "      <td>1142000</td>\n",
       "      <td>0</td>\n",
       "    </tr>\n",
       "    <tr>\n",
       "      <th>2</th>\n",
       "      <td>12899780</td>\n",
       "      <td>582732</td>\n",
       "      <td>0</td>\n",
       "    </tr>\n",
       "    <tr>\n",
       "      <th>3</th>\n",
       "      <td>12899780</td>\n",
       "      <td>973453</td>\n",
       "      <td>0</td>\n",
       "    </tr>\n",
       "    <tr>\n",
       "      <th>4</th>\n",
       "      <td>12899780</td>\n",
       "      <td>736515</td>\n",
       "      <td>0</td>\n",
       "    </tr>\n",
       "    <tr>\n",
       "      <th>...</th>\n",
       "      <td>...</td>\n",
       "      <td>...</td>\n",
       "      <td>...</td>\n",
       "    </tr>\n",
       "    <tr>\n",
       "      <th>6374308</th>\n",
       "      <td>14417710</td>\n",
       "      <td>803722</td>\n",
       "      <td>0</td>\n",
       "    </tr>\n",
       "    <tr>\n",
       "      <th>6419994</th>\n",
       "      <td>14429044</td>\n",
       "      <td>688179</td>\n",
       "      <td>0</td>\n",
       "    </tr>\n",
       "    <tr>\n",
       "      <th>6434531</th>\n",
       "      <td>14432851</td>\n",
       "      <td>1807937</td>\n",
       "      <td>0</td>\n",
       "    </tr>\n",
       "    <tr>\n",
       "      <th>6538408</th>\n",
       "      <td>14459954</td>\n",
       "      <td>180271</td>\n",
       "      <td>0</td>\n",
       "    </tr>\n",
       "    <tr>\n",
       "      <th>6855294</th>\n",
       "      <td>14548635</td>\n",
       "      <td>810041</td>\n",
       "      <td>0</td>\n",
       "    </tr>\n",
       "  </tbody>\n",
       "</table>\n",
       "<p>15242871 rows × 3 columns</p>\n",
       "</div>"
      ],
      "text/plain": [
       "          session      aid  type\n",
       "0        12899779    59625     0\n",
       "1        12899780  1142000     0\n",
       "2        12899780   582732     0\n",
       "3        12899780   973453     0\n",
       "4        12899780   736515     0\n",
       "...           ...      ...   ...\n",
       "6374308  14417710   803722     0\n",
       "6419994  14429044   688179     0\n",
       "6434531  14432851  1807937     0\n",
       "6538408  14459954   180271     0\n",
       "6855294  14548635   810041     0\n",
       "\n",
       "[15242871 rows x 3 columns]"
      ]
     },
     "metadata": {},
     "output_type": "display_data"
    },
    {
     "name": "stdout",
     "output_type": "stream",
     "text": [
      "CPU times: user 23.6 s, sys: 640 ms, total: 24.2 s\n",
      "Wall time: 25 s\n"
     ]
    }
   ],
   "source": [
    "%%time\n",
    "# ~ 7s \n",
    "test = pd.read_parquet('../input/otto-analyse-data/test.parquet').drop('ts', axis=1)\n",
    "test = fillEvents(test)\n",
    "if SHOW: display(test)"
   ]
  },
  {
   "cell_type": "code",
   "execution_count": 21,
   "id": "70df7684",
   "metadata": {
    "execution": {
     "iopub.execute_input": "2023-01-09T15:52:13.417033Z",
     "iopub.status.busy": "2023-01-09T15:52:13.416045Z",
     "iopub.status.idle": "2023-01-09T15:52:13.421900Z",
     "shell.execute_reply": "2023-01-09T15:52:13.420844Z"
    },
    "papermill": {
     "duration": 0.025545,
     "end_time": "2023-01-09T15:52:13.424163",
     "exception": false,
     "start_time": "2023-01-09T15:52:13.398618",
     "status": "completed"
    },
    "tags": []
   },
   "outputs": [],
   "source": [
    "def mergeCoMatrix(df):\n",
    "    return pd.merge(df, coMatrix, how='left', on=['aid'])"
   ]
  },
  {
   "cell_type": "code",
   "execution_count": 22,
   "id": "75082020",
   "metadata": {
    "execution": {
     "iopub.execute_input": "2023-01-09T15:52:13.458639Z",
     "iopub.status.busy": "2023-01-09T15:52:13.457682Z",
     "iopub.status.idle": "2023-01-09T15:52:13.678463Z",
     "shell.execute_reply": "2023-01-09T15:52:13.677494Z"
    },
    "papermill": {
     "duration": 0.239937,
     "end_time": "2023-01-09T15:52:13.680475",
     "exception": false,
     "start_time": "2023-01-09T15:52:13.440538",
     "status": "completed"
    },
    "tags": []
   },
   "outputs": [
    {
     "data": {
      "text/html": [
       "<div>\n",
       "<style scoped>\n",
       "    .dataframe tbody tr th:only-of-type {\n",
       "        vertical-align: middle;\n",
       "    }\n",
       "\n",
       "    .dataframe tbody tr th {\n",
       "        vertical-align: top;\n",
       "    }\n",
       "\n",
       "    .dataframe thead th {\n",
       "        text-align: right;\n",
       "    }\n",
       "</style>\n",
       "<table border=\"1\" class=\"dataframe\">\n",
       "  <thead>\n",
       "    <tr style=\"text-align: right;\">\n",
       "      <th></th>\n",
       "      <th>session</th>\n",
       "      <th>aid</th>\n",
       "      <th>type</th>\n",
       "      <th>labels</th>\n",
       "    </tr>\n",
       "  </thead>\n",
       "  <tbody>\n",
       "    <tr>\n",
       "      <th>0</th>\n",
       "      <td>12900392</td>\n",
       "      <td>997639</td>\n",
       "      <td>0</td>\n",
       "      <td>[30361, 1115393, 409467, 637119, 266589, 11752...</td>\n",
       "    </tr>\n",
       "    <tr>\n",
       "      <th>1</th>\n",
       "      <td>12900392</td>\n",
       "      <td>997639</td>\n",
       "      <td>0</td>\n",
       "      <td>[30361, 1115393, 409467, 637119, 266589, 11752...</td>\n",
       "    </tr>\n",
       "    <tr>\n",
       "      <th>2</th>\n",
       "      <td>12900392</td>\n",
       "      <td>997639</td>\n",
       "      <td>0</td>\n",
       "      <td>[30361, 1115393, 409467, 637119, 266589, 11752...</td>\n",
       "    </tr>\n",
       "    <tr>\n",
       "      <th>3</th>\n",
       "      <td>12900392</td>\n",
       "      <td>997639</td>\n",
       "      <td>0</td>\n",
       "      <td>[30361, 1115393, 409467, 637119, 266589, 11752...</td>\n",
       "    </tr>\n",
       "    <tr>\n",
       "      <th>4</th>\n",
       "      <td>12900392</td>\n",
       "      <td>439178</td>\n",
       "      <td>0</td>\n",
       "      <td>[315448, 671451, 1218027, 361830, 1420819, 365...</td>\n",
       "    </tr>\n",
       "    <tr>\n",
       "      <th>...</th>\n",
       "      <td>...</td>\n",
       "      <td>...</td>\n",
       "      <td>...</td>\n",
       "      <td>...</td>\n",
       "    </tr>\n",
       "    <tr>\n",
       "      <th>15242866</th>\n",
       "      <td>14214491</td>\n",
       "      <td>1043508</td>\n",
       "      <td>0</td>\n",
       "      <td>[634452, 1734305, 1079588, 986164, 224345, 727...</td>\n",
       "    </tr>\n",
       "    <tr>\n",
       "      <th>15242867</th>\n",
       "      <td>14192387</td>\n",
       "      <td>361549</td>\n",
       "      <td>0</td>\n",
       "      <td>[69400, 23428, 733994, 1540277, 246221, 174987...</td>\n",
       "    </tr>\n",
       "    <tr>\n",
       "      <th>15242868</th>\n",
       "      <td>14204524</td>\n",
       "      <td>923599</td>\n",
       "      <td>0</td>\n",
       "      <td>[1264313, 1624436, 554028, 1252357, 178845, 63...</td>\n",
       "    </tr>\n",
       "    <tr>\n",
       "      <th>15242869</th>\n",
       "      <td>14198134</td>\n",
       "      <td>546755</td>\n",
       "      <td>0</td>\n",
       "      <td>[1796103, 1680387, 674590, 1374175, 199409, 22...</td>\n",
       "    </tr>\n",
       "    <tr>\n",
       "      <th>15242870</th>\n",
       "      <td>14215243</td>\n",
       "      <td>1182494</td>\n",
       "      <td>0</td>\n",
       "      <td>[1223024, 1777315, 1330705, 1765902, 867020, 1...</td>\n",
       "    </tr>\n",
       "  </tbody>\n",
       "</table>\n",
       "<p>15242871 rows × 4 columns</p>\n",
       "</div>"
      ],
      "text/plain": [
       "           session      aid  type  \\\n",
       "0         12900392   997639     0   \n",
       "1         12900392   997639     0   \n",
       "2         12900392   997639     0   \n",
       "3         12900392   997639     0   \n",
       "4         12900392   439178     0   \n",
       "...            ...      ...   ...   \n",
       "15242866  14214491  1043508     0   \n",
       "15242867  14192387   361549     0   \n",
       "15242868  14204524   923599     0   \n",
       "15242869  14198134   546755     0   \n",
       "15242870  14215243  1182494     0   \n",
       "\n",
       "                                                     labels  \n",
       "0         [30361, 1115393, 409467, 637119, 266589, 11752...  \n",
       "1         [30361, 1115393, 409467, 637119, 266589, 11752...  \n",
       "2         [30361, 1115393, 409467, 637119, 266589, 11752...  \n",
       "3         [30361, 1115393, 409467, 637119, 266589, 11752...  \n",
       "4         [315448, 671451, 1218027, 361830, 1420819, 365...  \n",
       "...                                                     ...  \n",
       "15242866  [634452, 1734305, 1079588, 986164, 224345, 727...  \n",
       "15242867  [69400, 23428, 733994, 1540277, 246221, 174987...  \n",
       "15242868  [1264313, 1624436, 554028, 1252357, 178845, 63...  \n",
       "15242869  [1796103, 1680387, 674590, 1374175, 199409, 22...  \n",
       "15242870  [1223024, 1777315, 1330705, 1765902, 867020, 1...  \n",
       "\n",
       "[15242871 rows x 4 columns]"
      ]
     },
     "metadata": {},
     "output_type": "display_data"
    }
   ],
   "source": [
    "test = mergeCoMatrix(test)\n",
    "if SHOW: display(test)"
   ]
  },
  {
   "cell_type": "code",
   "execution_count": 23,
   "id": "0655b08d",
   "metadata": {
    "execution": {
     "iopub.execute_input": "2023-01-09T15:52:13.714582Z",
     "iopub.status.busy": "2023-01-09T15:52:13.714257Z",
     "iopub.status.idle": "2023-01-09T15:52:13.725147Z",
     "shell.execute_reply": "2023-01-09T15:52:13.724029Z"
    },
    "papermill": {
     "duration": 0.032212,
     "end_time": "2023-01-09T15:52:13.727100",
     "exception": false,
     "start_time": "2023-01-09T15:52:13.694888",
     "status": "completed"
    },
    "tags": []
   },
   "outputs": [],
   "source": [
    "from math import ceil\n",
    "lastSize = 20\n",
    "# -------------------------------------------------\n",
    "def getLastN(arr, size = 20):\n",
    "    count = ceil(size / len(arr))\n",
    "    max_len = 0\n",
    "    result = []\n",
    "    start = 0\n",
    "    free = []\n",
    "    while count > 0 and max_len < size:\n",
    "        next_for_all = 0\n",
    "        for i, row in enumerate(arr):\n",
    "            if type(row) == float: continue\n",
    "            if i in free: continue\n",
    "            if max_len >= size: break\n",
    "            if len(row) < start + count:\n",
    "                next_for_all += start + count - len(row)\n",
    "                result.extend(row[start:])\n",
    "                max_len += len(row[start:])\n",
    "                free.append(i)\n",
    "            else:\n",
    "                result.extend(row[start:start + count])\n",
    "                max_len += count\n",
    "        clen = len(arr) - len(free)\n",
    "        if clen == 0:\n",
    "            break\n",
    "        start += count\n",
    "        count = ceil(next_for_all / clen)\n",
    "    return result\n",
    "# -------------------------------------------------\n",
    "def aggSet(x):\n",
    "    return list(dict.fromkeys(x))\n",
    "# -------------------------------------------------\n",
    "def aggLabel(x):\n",
    "    global lastSize\n",
    "    return getLastN(list(x), lastSize)\n",
    "# -----------------------------------------------------------------------\n",
    "def getPreds(df, size = 20):\n",
    "    '''Получаем предсказание с учётом матрицы вероятностей '''\n",
    "    global lastSize\n",
    "    lastSize = size\n",
    "    if GPU: df = df.to_pandas()\n",
    "    df['labels'].fillna('', inplace=True)\n",
    "    result = df.groupby(['session', 'type']).agg(labels = ('labels', aggLabel))\n",
    "    if GPU: result = pd.from_pandas(result)\n",
    "    result.reset_index(inplace=True)\n",
    "    return result"
   ]
  },
  {
   "cell_type": "code",
   "execution_count": 24,
   "id": "e12c98cf",
   "metadata": {
    "execution": {
     "iopub.execute_input": "2023-01-09T15:52:13.758600Z",
     "iopub.status.busy": "2023-01-09T15:52:13.757777Z",
     "iopub.status.idle": "2023-01-09T15:52:13.763178Z",
     "shell.execute_reply": "2023-01-09T15:52:13.762207Z"
    },
    "papermill": {
     "duration": 0.022239,
     "end_time": "2023-01-09T15:52:13.765165",
     "exception": false,
     "start_time": "2023-01-09T15:52:13.742926",
     "status": "completed"
    },
    "tags": []
   },
   "outputs": [],
   "source": [
    "def dropAidDuplicates(df, column = 'labels', count=20):\n",
    "    tmp = df.copy()\n",
    "    if GPU: tmp = tmp.to_pandas()\n",
    "    tmp[column] = tmp[column].map(lambda x: list(dict.fromkeys(x))[:count])\n",
    "    return pd.from_pandas(tmp) if GPU else tmp"
   ]
  },
  {
   "cell_type": "code",
   "execution_count": 25,
   "id": "e5b08477",
   "metadata": {
    "execution": {
     "iopub.execute_input": "2023-01-09T15:52:13.794674Z",
     "iopub.status.busy": "2023-01-09T15:52:13.793814Z",
     "iopub.status.idle": "2023-01-09T15:54:12.204448Z",
     "shell.execute_reply": "2023-01-09T15:54:12.203431Z"
    },
    "papermill": {
     "duration": 118.457535,
     "end_time": "2023-01-09T15:54:12.236483",
     "exception": false,
     "start_time": "2023-01-09T15:52:13.778948",
     "status": "completed"
    },
    "tags": []
   },
   "outputs": [
    {
     "data": {
      "text/html": [
       "<div>\n",
       "<style scoped>\n",
       "    .dataframe tbody tr th:only-of-type {\n",
       "        vertical-align: middle;\n",
       "    }\n",
       "\n",
       "    .dataframe tbody tr th {\n",
       "        vertical-align: top;\n",
       "    }\n",
       "\n",
       "    .dataframe thead th {\n",
       "        text-align: right;\n",
       "    }\n",
       "</style>\n",
       "<table border=\"1\" class=\"dataframe\">\n",
       "  <thead>\n",
       "    <tr style=\"text-align: right;\">\n",
       "      <th></th>\n",
       "      <th>session</th>\n",
       "      <th>type</th>\n",
       "      <th>labels</th>\n",
       "    </tr>\n",
       "  </thead>\n",
       "  <tbody>\n",
       "    <tr>\n",
       "      <th>0</th>\n",
       "      <td>12899779</td>\n",
       "      <td>0</td>\n",
       "      <td>[737445, 731692, 941596, 438191, 1253524, 1340...</td>\n",
       "    </tr>\n",
       "    <tr>\n",
       "      <th>1</th>\n",
       "      <td>12899779</td>\n",
       "      <td>1</td>\n",
       "      <td>[737445, 731692, 941596, 438191, 1253524, 1340...</td>\n",
       "    </tr>\n",
       "    <tr>\n",
       "      <th>2</th>\n",
       "      <td>12899779</td>\n",
       "      <td>2</td>\n",
       "      <td>[737445, 731692, 941596, 438191, 1253524, 1340...</td>\n",
       "    </tr>\n",
       "    <tr>\n",
       "      <th>3</th>\n",
       "      <td>12899780</td>\n",
       "      <td>0</td>\n",
       "      <td>[1502122, 487136, 889686, 636101, 1758603, 114...</td>\n",
       "    </tr>\n",
       "    <tr>\n",
       "      <th>4</th>\n",
       "      <td>12899780</td>\n",
       "      <td>1</td>\n",
       "      <td>[1502122, 487136, 889686, 636101, 1758603, 114...</td>\n",
       "    </tr>\n",
       "    <tr>\n",
       "      <th>...</th>\n",
       "      <td>...</td>\n",
       "      <td>...</td>\n",
       "      <td>...</td>\n",
       "    </tr>\n",
       "    <tr>\n",
       "      <th>5015404</th>\n",
       "      <td>14571580</td>\n",
       "      <td>1</td>\n",
       "      <td>[1314576, 433425, 871658, 925638, 1231403, 682...</td>\n",
       "    </tr>\n",
       "    <tr>\n",
       "      <th>5015405</th>\n",
       "      <td>14571580</td>\n",
       "      <td>2</td>\n",
       "      <td>[1314576, 433425, 871658, 925638, 1231403, 682...</td>\n",
       "    </tr>\n",
       "    <tr>\n",
       "      <th>5015406</th>\n",
       "      <td>14571581</td>\n",
       "      <td>0</td>\n",
       "      <td>[1684953, 462056, 1158237, 622489, 1401429, 11...</td>\n",
       "    </tr>\n",
       "    <tr>\n",
       "      <th>5015407</th>\n",
       "      <td>14571581</td>\n",
       "      <td>1</td>\n",
       "      <td>[1684953, 462056, 1158237, 622489, 1401429, 11...</td>\n",
       "    </tr>\n",
       "    <tr>\n",
       "      <th>5015408</th>\n",
       "      <td>14571581</td>\n",
       "      <td>2</td>\n",
       "      <td>[1684953, 462056, 1158237, 622489, 1401429, 11...</td>\n",
       "    </tr>\n",
       "  </tbody>\n",
       "</table>\n",
       "<p>5015409 rows × 3 columns</p>\n",
       "</div>"
      ],
      "text/plain": [
       "          session  type                                             labels\n",
       "0        12899779     0  [737445, 731692, 941596, 438191, 1253524, 1340...\n",
       "1        12899779     1  [737445, 731692, 941596, 438191, 1253524, 1340...\n",
       "2        12899779     2  [737445, 731692, 941596, 438191, 1253524, 1340...\n",
       "3        12899780     0  [1502122, 487136, 889686, 636101, 1758603, 114...\n",
       "4        12899780     1  [1502122, 487136, 889686, 636101, 1758603, 114...\n",
       "...           ...   ...                                                ...\n",
       "5015404  14571580     1  [1314576, 433425, 871658, 925638, 1231403, 682...\n",
       "5015405  14571580     2  [1314576, 433425, 871658, 925638, 1231403, 682...\n",
       "5015406  14571581     0  [1684953, 462056, 1158237, 622489, 1401429, 11...\n",
       "5015407  14571581     1  [1684953, 462056, 1158237, 622489, 1401429, 11...\n",
       "5015408  14571581     2  [1684953, 462056, 1158237, 622489, 1401429, 11...\n",
       "\n",
       "[5015409 rows x 3 columns]"
      ]
     },
     "metadata": {},
     "output_type": "display_data"
    },
    {
     "name": "stdout",
     "output_type": "stream",
     "text": [
      "CPU times: user 1min 47s, sys: 10.3 s, total: 1min 57s\n",
      "Wall time: 1min 58s\n"
     ]
    }
   ],
   "source": [
    "%%time\n",
    "# - 1m 30s\n",
    "res_preds = getPreds(test, 20)\n",
    "if SHOW: display(res_preds)"
   ]
  },
  {
   "cell_type": "code",
   "execution_count": 26,
   "id": "b6335d22",
   "metadata": {
    "execution": {
     "iopub.execute_input": "2023-01-09T15:54:12.309619Z",
     "iopub.status.busy": "2023-01-09T15:54:12.309133Z",
     "iopub.status.idle": "2023-01-09T15:54:58.823434Z",
     "shell.execute_reply": "2023-01-09T15:54:58.822479Z"
    },
    "papermill": {
     "duration": 46.568827,
     "end_time": "2023-01-09T15:54:58.840254",
     "exception": false,
     "start_time": "2023-01-09T15:54:12.271427",
     "status": "completed"
    },
    "tags": []
   },
   "outputs": [
    {
     "name": "stdout",
     "output_type": "stream",
     "text": [
      "CPU times: user 41.9 s, sys: 4.76 s, total: 46.7 s\n",
      "Wall time: 46.4 s\n"
     ]
    },
    {
     "data": {
      "text/html": [
       "<div>\n",
       "<style scoped>\n",
       "    .dataframe tbody tr th:only-of-type {\n",
       "        vertical-align: middle;\n",
       "    }\n",
       "\n",
       "    .dataframe tbody tr th {\n",
       "        vertical-align: top;\n",
       "    }\n",
       "\n",
       "    .dataframe thead th {\n",
       "        text-align: right;\n",
       "    }\n",
       "</style>\n",
       "<table border=\"1\" class=\"dataframe\">\n",
       "  <thead>\n",
       "    <tr style=\"text-align: right;\">\n",
       "      <th></th>\n",
       "      <th>session</th>\n",
       "      <th>type</th>\n",
       "      <th>labels</th>\n",
       "    </tr>\n",
       "  </thead>\n",
       "  <tbody>\n",
       "    <tr>\n",
       "      <th>0</th>\n",
       "      <td>12899779</td>\n",
       "      <td>0</td>\n",
       "      <td>[737445, 731692, 941596, 438191, 1253524, 1340...</td>\n",
       "    </tr>\n",
       "    <tr>\n",
       "      <th>1</th>\n",
       "      <td>12899779</td>\n",
       "      <td>1</td>\n",
       "      <td>[737445, 731692, 941596, 438191, 1253524, 1340...</td>\n",
       "    </tr>\n",
       "    <tr>\n",
       "      <th>2</th>\n",
       "      <td>12899779</td>\n",
       "      <td>2</td>\n",
       "      <td>[737445, 731692, 941596, 438191, 1253524, 1340...</td>\n",
       "    </tr>\n",
       "    <tr>\n",
       "      <th>3</th>\n",
       "      <td>12899780</td>\n",
       "      <td>0</td>\n",
       "      <td>[1502122, 487136, 889686, 636101, 1758603, 114...</td>\n",
       "    </tr>\n",
       "    <tr>\n",
       "      <th>4</th>\n",
       "      <td>12899780</td>\n",
       "      <td>1</td>\n",
       "      <td>[1502122, 487136, 889686, 636101, 1758603, 114...</td>\n",
       "    </tr>\n",
       "    <tr>\n",
       "      <th>...</th>\n",
       "      <td>...</td>\n",
       "      <td>...</td>\n",
       "      <td>...</td>\n",
       "    </tr>\n",
       "    <tr>\n",
       "      <th>5015404</th>\n",
       "      <td>14571580</td>\n",
       "      <td>1</td>\n",
       "      <td>[1314576, 433425, 871658, 925638, 1231403, 682...</td>\n",
       "    </tr>\n",
       "    <tr>\n",
       "      <th>5015405</th>\n",
       "      <td>14571580</td>\n",
       "      <td>2</td>\n",
       "      <td>[1314576, 433425, 871658, 925638, 1231403, 682...</td>\n",
       "    </tr>\n",
       "    <tr>\n",
       "      <th>5015406</th>\n",
       "      <td>14571581</td>\n",
       "      <td>0</td>\n",
       "      <td>[1684953, 462056, 1158237, 622489, 1401429, 11...</td>\n",
       "    </tr>\n",
       "    <tr>\n",
       "      <th>5015407</th>\n",
       "      <td>14571581</td>\n",
       "      <td>1</td>\n",
       "      <td>[1684953, 462056, 1158237, 622489, 1401429, 11...</td>\n",
       "    </tr>\n",
       "    <tr>\n",
       "      <th>5015408</th>\n",
       "      <td>14571581</td>\n",
       "      <td>2</td>\n",
       "      <td>[1684953, 462056, 1158237, 622489, 1401429, 11...</td>\n",
       "    </tr>\n",
       "  </tbody>\n",
       "</table>\n",
       "<p>5015409 rows × 3 columns</p>\n",
       "</div>"
      ],
      "text/plain": [
       "          session  type                                             labels\n",
       "0        12899779     0  [737445, 731692, 941596, 438191, 1253524, 1340...\n",
       "1        12899779     1  [737445, 731692, 941596, 438191, 1253524, 1340...\n",
       "2        12899779     2  [737445, 731692, 941596, 438191, 1253524, 1340...\n",
       "3        12899780     0  [1502122, 487136, 889686, 636101, 1758603, 114...\n",
       "4        12899780     1  [1502122, 487136, 889686, 636101, 1758603, 114...\n",
       "...           ...   ...                                                ...\n",
       "5015404  14571580     1  [1314576, 433425, 871658, 925638, 1231403, 682...\n",
       "5015405  14571580     2  [1314576, 433425, 871658, 925638, 1231403, 682...\n",
       "5015406  14571581     0  [1684953, 462056, 1158237, 622489, 1401429, 11...\n",
       "5015407  14571581     1  [1684953, 462056, 1158237, 622489, 1401429, 11...\n",
       "5015408  14571581     2  [1684953, 462056, 1158237, 622489, 1401429, 11...\n",
       "\n",
       "[5015409 rows x 3 columns]"
      ]
     },
     "execution_count": 26,
     "metadata": {},
     "output_type": "execute_result"
    }
   ],
   "source": [
    "%%time\n",
    "# ~s\n",
    "res_preds = dropAidDuplicates(res_preds, 'labels')\n",
    "res_preds"
   ]
  },
  {
   "cell_type": "code",
   "execution_count": 27,
   "id": "523823e0",
   "metadata": {
    "execution": {
     "iopub.execute_input": "2023-01-09T15:54:58.871013Z",
     "iopub.status.busy": "2023-01-09T15:54:58.870250Z",
     "iopub.status.idle": "2023-01-09T15:54:58.874870Z",
     "shell.execute_reply": "2023-01-09T15:54:58.874020Z"
    },
    "papermill": {
     "duration": 0.02207,
     "end_time": "2023-01-09T15:54:58.876861",
     "exception": false,
     "start_time": "2023-01-09T15:54:58.854791",
     "status": "completed"
    },
    "tags": []
   },
   "outputs": [],
   "source": [
    "# ----- SUBMISSION -----"
   ]
  },
  {
   "cell_type": "code",
   "execution_count": 28,
   "id": "f3b66d76",
   "metadata": {
    "execution": {
     "iopub.execute_input": "2023-01-09T15:54:58.907586Z",
     "iopub.status.busy": "2023-01-09T15:54:58.906753Z",
     "iopub.status.idle": "2023-01-09T15:54:58.913427Z",
     "shell.execute_reply": "2023-01-09T15:54:58.912395Z"
    },
    "papermill": {
     "duration": 0.023898,
     "end_time": "2023-01-09T15:54:58.915378",
     "exception": false,
     "start_time": "2023-01-09T15:54:58.891480",
     "status": "completed"
    },
    "tags": []
   },
   "outputs": [],
   "source": [
    "def getSubmission(df):\n",
    "    sub = df.copy().dropna()\n",
    "    if GPU: sub = sub.to_pandas()\n",
    "    sub['labels'] = sub['labels'].map(lambda x: ' '.join(str(i) for i in list(dict.fromkeys(x))))\n",
    "    sub['type'] = sub['type'].map({0: 'clicks', 1: 'carts', 2: 'orders'})\n",
    "    sub['session_type'] = sub['session'].astype('str') + '_' + sub['type']\n",
    "    sub.drop(['session', 'type'], axis=1, inplace=True)\n",
    "    return pd.from_pandas(sub) if GPU else sub"
   ]
  },
  {
   "cell_type": "code",
   "execution_count": 29,
   "id": "b2a0ca73",
   "metadata": {
    "execution": {
     "iopub.execute_input": "2023-01-09T15:54:58.945545Z",
     "iopub.status.busy": "2023-01-09T15:54:58.944966Z",
     "iopub.status.idle": "2023-01-09T15:56:12.896090Z",
     "shell.execute_reply": "2023-01-09T15:56:12.895131Z"
    },
    "papermill": {
     "duration": 73.978638,
     "end_time": "2023-01-09T15:56:12.908254",
     "exception": false,
     "start_time": "2023-01-09T15:54:58.929616",
     "status": "completed"
    },
    "tags": []
   },
   "outputs": [
    {
     "data": {
      "text/html": [
       "<div>\n",
       "<style scoped>\n",
       "    .dataframe tbody tr th:only-of-type {\n",
       "        vertical-align: middle;\n",
       "    }\n",
       "\n",
       "    .dataframe tbody tr th {\n",
       "        vertical-align: top;\n",
       "    }\n",
       "\n",
       "    .dataframe thead th {\n",
       "        text-align: right;\n",
       "    }\n",
       "</style>\n",
       "<table border=\"1\" class=\"dataframe\">\n",
       "  <thead>\n",
       "    <tr style=\"text-align: right;\">\n",
       "      <th></th>\n",
       "      <th>labels</th>\n",
       "      <th>session_type</th>\n",
       "    </tr>\n",
       "  </thead>\n",
       "  <tbody>\n",
       "    <tr>\n",
       "      <th>0</th>\n",
       "      <td>737445 731692 941596 438191 1253524 1340695 17...</td>\n",
       "      <td>12899779_clicks</td>\n",
       "    </tr>\n",
       "    <tr>\n",
       "      <th>1</th>\n",
       "      <td>737445 731692 941596 438191 1253524 1340695 17...</td>\n",
       "      <td>12899779_carts</td>\n",
       "    </tr>\n",
       "    <tr>\n",
       "      <th>2</th>\n",
       "      <td>737445 731692 941596 438191 1253524 1340695 17...</td>\n",
       "      <td>12899779_orders</td>\n",
       "    </tr>\n",
       "    <tr>\n",
       "      <th>3</th>\n",
       "      <td>1502122 487136 889686 636101 1758603 1142000 7...</td>\n",
       "      <td>12899780_clicks</td>\n",
       "    </tr>\n",
       "    <tr>\n",
       "      <th>4</th>\n",
       "      <td>1502122 487136 889686 636101 1758603 1142000 7...</td>\n",
       "      <td>12899780_carts</td>\n",
       "    </tr>\n",
       "    <tr>\n",
       "      <th>...</th>\n",
       "      <td>...</td>\n",
       "      <td>...</td>\n",
       "    </tr>\n",
       "    <tr>\n",
       "      <th>5015404</th>\n",
       "      <td>1314576 433425 871658 925638 1231403 682237 88...</td>\n",
       "      <td>14571580_carts</td>\n",
       "    </tr>\n",
       "    <tr>\n",
       "      <th>5015405</th>\n",
       "      <td>1314576 433425 871658 925638 1231403 682237 88...</td>\n",
       "      <td>14571580_orders</td>\n",
       "    </tr>\n",
       "    <tr>\n",
       "      <th>5015406</th>\n",
       "      <td>1684953 462056 1158237 622489 1401429 1124107 ...</td>\n",
       "      <td>14571581_clicks</td>\n",
       "    </tr>\n",
       "    <tr>\n",
       "      <th>5015407</th>\n",
       "      <td>1684953 462056 1158237 622489 1401429 1124107 ...</td>\n",
       "      <td>14571581_carts</td>\n",
       "    </tr>\n",
       "    <tr>\n",
       "      <th>5015408</th>\n",
       "      <td>1684953 462056 1158237 622489 1401429 1124107 ...</td>\n",
       "      <td>14571581_orders</td>\n",
       "    </tr>\n",
       "  </tbody>\n",
       "</table>\n",
       "<p>5015409 rows × 2 columns</p>\n",
       "</div>"
      ],
      "text/plain": [
       "                                                    labels     session_type\n",
       "0        737445 731692 941596 438191 1253524 1340695 17...  12899779_clicks\n",
       "1        737445 731692 941596 438191 1253524 1340695 17...   12899779_carts\n",
       "2        737445 731692 941596 438191 1253524 1340695 17...  12899779_orders\n",
       "3        1502122 487136 889686 636101 1758603 1142000 7...  12899780_clicks\n",
       "4        1502122 487136 889686 636101 1758603 1142000 7...   12899780_carts\n",
       "...                                                    ...              ...\n",
       "5015404  1314576 433425 871658 925638 1231403 682237 88...   14571580_carts\n",
       "5015405  1314576 433425 871658 925638 1231403 682237 88...  14571580_orders\n",
       "5015406  1684953 462056 1158237 622489 1401429 1124107 ...  14571581_clicks\n",
       "5015407  1684953 462056 1158237 622489 1401429 1124107 ...   14571581_carts\n",
       "5015408  1684953 462056 1158237 622489 1401429 1124107 ...  14571581_orders\n",
       "\n",
       "[5015409 rows x 2 columns]"
      ]
     },
     "metadata": {},
     "output_type": "display_data"
    },
    {
     "name": "stdout",
     "output_type": "stream",
     "text": [
      "CPU times: user 1min 9s, sys: 4.48 s, total: 1min 13s\n",
      "Wall time: 1min 13s\n"
     ]
    }
   ],
   "source": [
    "%%time\n",
    "# ~s\n",
    "submission = getSubmission(res_preds)\n",
    "if SAVE: submission.to_csv('submission.csv', index=False)\n",
    "if SHOW: display(submission)"
   ]
  },
  {
   "cell_type": "code",
   "execution_count": null,
   "id": "0f21b8f6",
   "metadata": {
    "papermill": {
     "duration": 0.014517,
     "end_time": "2023-01-09T15:56:12.938543",
     "exception": false,
     "start_time": "2023-01-09T15:56:12.924026",
     "status": "completed"
    },
    "tags": []
   },
   "outputs": [],
   "source": []
  }
 ],
 "metadata": {
  "kernelspec": {
   "display_name": "Python 3",
   "language": "python",
   "name": "python3"
  },
  "language_info": {
   "codemirror_mode": {
    "name": "ipython",
    "version": 3
   },
   "file_extension": ".py",
   "mimetype": "text/x-python",
   "name": "python",
   "nbconvert_exporter": "python",
   "pygments_lexer": "ipython3",
   "version": "3.7.12"
  },
  "papermill": {
   "default_parameters": {},
   "duration": 1536.074921,
   "end_time": "2023-01-09T15:56:15.462817",
   "environment_variables": {},
   "exception": null,
   "input_path": "__notebook__.ipynb",
   "output_path": "__notebook__.ipynb",
   "parameters": {},
   "start_time": "2023-01-09T15:30:39.387896",
   "version": "2.3.4"
  }
 },
 "nbformat": 4,
 "nbformat_minor": 5
}
