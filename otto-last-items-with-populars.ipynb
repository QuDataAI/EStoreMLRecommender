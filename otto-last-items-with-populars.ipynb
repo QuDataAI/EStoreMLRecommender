{
 "cells": [
  {
   "cell_type": "code",
   "execution_count": 1,
   "id": "26455cde",
   "metadata": {
    "_cell_guid": "b1076dfc-b9ad-4769-8c92-a6c4dae69d19",
    "_uuid": "8f2839f25d086af736a60e9eeb907d3b93b6e0e5",
    "execution": {
     "iopub.execute_input": "2023-01-24T14:56:20.571042Z",
     "iopub.status.busy": "2023-01-24T14:56:20.570400Z",
     "iopub.status.idle": "2023-01-24T14:56:20.611718Z",
     "shell.execute_reply": "2023-01-24T14:56:20.610404Z"
    },
    "papermill": {
     "duration": 0.057228,
     "end_time": "2023-01-24T14:56:20.614626",
     "exception": false,
     "start_time": "2023-01-24T14:56:20.557398",
     "status": "completed"
    },
    "tags": []
   },
   "outputs": [],
   "source": [
    "import gc\n",
    "import numpy as np\n",
    "import pandas as pd\n",
    "\n",
    "import os\n",
    "for dirname, _, filenames in os.walk('/kaggle/input'):\n",
    "    for filename in filenames:\n",
    "        # print(os.path.join(dirname, filename))\n",
    "        pass"
   ]
  },
  {
   "cell_type": "code",
   "execution_count": 2,
   "id": "08b12226",
   "metadata": {
    "execution": {
     "iopub.execute_input": "2023-01-24T14:56:20.634386Z",
     "iopub.status.busy": "2023-01-24T14:56:20.633956Z",
     "iopub.status.idle": "2023-01-24T14:56:20.639888Z",
     "shell.execute_reply": "2023-01-24T14:56:20.638524Z"
    },
    "papermill": {
     "duration": 0.01894,
     "end_time": "2023-01-24T14:56:20.642538",
     "exception": false,
     "start_time": "2023-01-24T14:56:20.623598",
     "status": "completed"
    },
    "tags": []
   },
   "outputs": [],
   "source": [
    "# ----- Функции подготовки таблицы ----------------"
   ]
  },
  {
   "cell_type": "code",
   "execution_count": 3,
   "id": "3808b0db",
   "metadata": {
    "execution": {
     "iopub.execute_input": "2023-01-24T14:56:20.664033Z",
     "iopub.status.busy": "2023-01-24T14:56:20.663528Z",
     "iopub.status.idle": "2023-01-24T14:56:20.692225Z",
     "shell.execute_reply": "2023-01-24T14:56:20.690507Z"
    },
    "papermill": {
     "duration": 0.043234,
     "end_time": "2023-01-24T14:56:20.695619",
     "exception": false,
     "start_time": "2023-01-24T14:56:20.652385",
     "status": "completed"
    },
    "tags": []
   },
   "outputs": [],
   "source": [
    "def groupType(x):\n",
    "    res = list(set(x))\n",
    "    return sum(res) if len(res) > 0 else -1\n",
    "# -----------------------------------------------------------\n",
    "def groupLen(x):\n",
    "    return len(list(set(x)))\n",
    "# -----------------------------------------------------------\n",
    "def dropCopies(df, column='labels'):\n",
    "    _ = df.copy()\n",
    "    _[column] = _[column].apply(lambda x: list(dict.fromkeys(x)))\n",
    "    return _\n",
    "# -----------------------------------------------------------\n",
    "def trimLabels(df, count=20, column='labels'):\n",
    "    _ = df.copy()\n",
    "    _[column] = _[column].apply(lambda x: x[:count])\n",
    "    return _\n",
    "# -----------------------------------------------------------\n",
    "def cloneEvents(df):\n",
    "    result = df.copy()\n",
    "    result['type'] = 0\n",
    "    _ = df.copy()\n",
    "    _['type'] = 1\n",
    "    result = pd.concat([result, _])\n",
    "    _ = df.copy()\n",
    "    _['type'] = 2\n",
    "    result = pd.concat([result, _])\n",
    "    return result\n",
    "# -----------------------------------------------------------\n",
    "def fillEvents(df, clone=True, value=[-1]):\n",
    "    _ = df[['session','type']].groupby(['session'])\\\n",
    "            .agg(ctype = ('type', groupType), count = ('type', groupLen))\n",
    "    result = pd.DataFrame()\n",
    "    tmp = df[df['session'].isin(_[_['ctype'] == 0].index)].copy()\n",
    "    if not clone: tmp['aid'] = tmp['aid'].apply(lambda x: value)\n",
    "    tmp['type'] = 1\n",
    "    result = pd.concat([result, tmp])\n",
    "    tmp['type'] = 2\n",
    "    result = pd.concat([result, tmp])\n",
    "\n",
    "    tmp = df[df['session'].isin(_[_['ctype'] == 1].index)].copy().drop_duplicates(['session'])\n",
    "    if not clone: tmp['aid'] = tmp['aid'].apply(lambda x: value)\n",
    "    tmp['type'] = 2\n",
    "    result = pd.concat([result, tmp])\n",
    "\n",
    "    tmp = df[df['session'].isin(_[_['ctype'] == 2].index)].copy().drop_duplicates(['session'])\n",
    "    if not clone: tmp['aid'] = tmp['aid'].apply(lambda x: value)\n",
    "    tmp['type'] = 1\n",
    "    result = pd.concat([result, tmp])\n",
    "    \n",
    "    tmp = df[df['session'].isin(_[(_['ctype'].isin([1, 2]))&(_['count'] == 1)].index)].copy()\n",
    "    if not clone: tmp['aid'] = tmp['aid'].apply(lambda x: value)\n",
    "    tmp['type'] = 0\n",
    "    result = pd.concat([result, tmp])\n",
    "\n",
    "    tmp = df[df['session'].isin(_[(_['ctype'] == 3)&(_['count'] == 2)].index)].copy()\\\n",
    "                .drop_duplicates(['session'])\n",
    "    if not clone: tmp['aid'].apply(lambda x: [])\n",
    "    tmp['type'] = 0\n",
    "    result = pd.concat([result, tmp])\n",
    "    return result"
   ]
  },
  {
   "cell_type": "code",
   "execution_count": 4,
   "id": "fdecaa0f",
   "metadata": {
    "execution": {
     "iopub.execute_input": "2023-01-24T14:56:20.715685Z",
     "iopub.status.busy": "2023-01-24T14:56:20.715245Z",
     "iopub.status.idle": "2023-01-24T14:56:20.721479Z",
     "shell.execute_reply": "2023-01-24T14:56:20.719823Z"
    },
    "papermill": {
     "duration": 0.019145,
     "end_time": "2023-01-24T14:56:20.724171",
     "exception": false,
     "start_time": "2023-01-24T14:56:20.705026",
     "status": "completed"
    },
    "tags": []
   },
   "outputs": [],
   "source": [
    "# ----- Функции загрузки данных -------------------"
   ]
  },
  {
   "cell_type": "code",
   "execution_count": 5,
   "id": "345c7781",
   "metadata": {
    "execution": {
     "iopub.execute_input": "2023-01-24T14:56:20.745322Z",
     "iopub.status.busy": "2023-01-24T14:56:20.744814Z",
     "iopub.status.idle": "2023-01-24T14:56:20.756453Z",
     "shell.execute_reply": "2023-01-24T14:56:20.754965Z"
    },
    "papermill": {
     "duration": 0.025982,
     "end_time": "2023-01-24T14:56:20.759275",
     "exception": false,
     "start_time": "2023-01-24T14:56:20.733293",
     "status": "completed"
    },
    "tags": []
   },
   "outputs": [],
   "source": [
    "# ==================================================================\n",
    "# ----- Загрузка датасета ------------------------------------------\n",
    "# ==================================================================\n",
    "def sortAndDrop(df, columns, asc=True, drop = [], time_elapsed = None):\n",
    "    ''' Сортируем по убыванию и удаляем столбцы '''\n",
    "    df.sort_values(columns, ascending=asc, inplace=True)\n",
    "    if time_elapsed is not None:\n",
    "        df = df.merge(df.groupby(['session'])['ts'].max().reset_index(), \n",
    "                      how='left', on='session').rename(columns={'ts_x': 'ts', 'ts_y': 'max_ts'})\n",
    "        df = df.loc[df['ts'] > df['max_ts'] - time_elapsed]\n",
    "    if len(drop) > 0:\n",
    "        df.drop(drop, inplace=True, axis=1)\n",
    "    return df\n",
    "# -----------------------------------------------------------------\n",
    "def loadDataset(path, time_elapsed = None):\n",
    "    ''' Загрузка датасета с предобработкой '''\n",
    "    df = pd.read_parquet(path)\n",
    "    return sortAndDrop(df, ['session', 'ts'], [True, False], [], time_elapsed)"
   ]
  },
  {
   "cell_type": "code",
   "execution_count": 6,
   "id": "248bf722",
   "metadata": {
    "execution": {
     "iopub.execute_input": "2023-01-24T14:56:20.781029Z",
     "iopub.status.busy": "2023-01-24T14:56:20.780051Z",
     "iopub.status.idle": "2023-01-24T14:56:20.787559Z",
     "shell.execute_reply": "2023-01-24T14:56:20.786145Z"
    },
    "papermill": {
     "duration": 0.020321,
     "end_time": "2023-01-24T14:56:20.790147",
     "exception": false,
     "start_time": "2023-01-24T14:56:20.769826",
     "status": "completed"
    },
    "tags": []
   },
   "outputs": [],
   "source": [
    "# ----- Функции вычисления истории ----------------"
   ]
  },
  {
   "cell_type": "code",
   "execution_count": 7,
   "id": "a04f590b",
   "metadata": {
    "execution": {
     "iopub.execute_input": "2023-01-24T14:56:20.810016Z",
     "iopub.status.busy": "2023-01-24T14:56:20.809614Z",
     "iopub.status.idle": "2023-01-24T14:56:20.843018Z",
     "shell.execute_reply": "2023-01-24T14:56:20.841437Z"
    },
    "papermill": {
     "duration": 0.047376,
     "end_time": "2023-01-24T14:56:20.846430",
     "exception": false,
     "start_time": "2023-01-24T14:56:20.799054",
     "status": "completed"
    },
    "tags": []
   },
   "outputs": [],
   "source": [
    "# ==================================================================\n",
    "# ----- Функции получения истории без учёта типов ------------------\n",
    "# ==================================================================\n",
    "def getLastNoType(df, count=20, order=[1, 0 ,2], fill=True):\n",
    "    def sort(x):\n",
    "        return x.map(lambda x: order.index(x))\n",
    "    # Берём отсортированные по убыванию времени товары\n",
    "    # группируем по сессии и типам и выбираем N товаров\n",
    "    _ = df.copy().groupby(['session', 'type']).agg(lambda x: list(dict.fromkeys(x))).reset_index()\n",
    "    if type(count) is int:\n",
    "        count = {0: count, 1:count, 2:count}\n",
    "    elif type(count) is list:\n",
    "        count = {0: count[0], 1:count[1], 2:count[2]}\n",
    "    for ind in count.keys():\n",
    "        _.loc[_['type'] == ind, 'aid'] = _[_['type'] == ind]['aid'].apply(lambda x: x[:count.get(ind)])\n",
    "    # если указан порядок - сортируем\n",
    "    if order is not None and type(order) is list:\n",
    "        _.sort_values(by='type', inplace=True, key=sort)\n",
    "    _ = _.groupby('session').agg(labels = ('aid', sum)).reset_index()\n",
    "    _ = dropCopies(_)\n",
    "    # копируем для всех типов\n",
    "    return cloneEvents(_) if fill else _\n",
    "# ------------------------------------------------------------------\n",
    "def getLastNoOrder(df, count=20, order=None):\n",
    "    return getLastNoType(df, count, None)\n",
    "# ------------------------------------------------------------------\n",
    "def getLastNoTypeNoCopies(df, count=20, order=[1, 0 ,2], fill=True):\n",
    "    def sort(x):\n",
    "        return x.map(lambda x: order.index(x))\n",
    "    # Берём отсортированные по убыванию времени товары\n",
    "    # группируем по сессии и типам и выбираем N товаров\n",
    "    _ = df.copy().groupby(['session', 'type']).agg(lambda x: list(dict.fromkeys(x))).reset_index()\n",
    "    # если указан порядок - сортируем\n",
    "    if order is not None and type(order) is list:\n",
    "        _.sort_values(by='type', inplace=True, key=sort)\n",
    "    _ = _.groupby('session').agg(labels = ('aid', sum)).reset_index()\n",
    "    _ = dropCopies(_)\n",
    "    _ = trimLabels(_, count)\n",
    "    # копируем для всех типов\n",
    "    return cloneEvents(_) if fill else _\n",
    "# ------------------------------------------------------------------\n",
    "def getLastNoTypeOnPercent(df, count=0.5, order=[1, 0 ,2], fill=True):\n",
    "    def sort(x):\n",
    "        return x.map(lambda x: order.index(x))\n",
    "    def apply(x):\n",
    "        rlen = round(len(x) * count)\n",
    "        return x[:rlen if rlen > 0 else 1]\n",
    "    # Берём отсортированные по убыванию времени товары\n",
    "    # группируем по сессии и типам и выбираем P товаров в зависимости от длинны сессии\n",
    "    _ = df.copy().groupby(['session', 'type']).agg(lambda x: list(dict.fromkeys(x))).reset_index()\n",
    "    _['aid'] = _['aid'].apply(apply)\n",
    "    # если указан порядок - сортируем\n",
    "    if order is not None and type(order) is list:\n",
    "        _.sort_values(by='type', inplace=True, key=sort)\n",
    "    _ = _.groupby('session').agg(labels = ('aid', sum)).reset_index()\n",
    "    _ = dropCopies(_)\n",
    "    # копируем для всех типов\n",
    "    return cloneEvents(_) if fill else _\n",
    "# ==================================================================\n",
    "# ----- Функции получения истории с учётом типов -------------------\n",
    "# ==================================================================\n",
    "def getLastWithType(df, count=20, order=None, clone=False):\n",
    "    # Берём отсортированные по убыванию времени товары\n",
    "    # группируем по сессии и типам и выбираем N товаров\n",
    "    _ = df.copy().groupby(['session', 'type']).agg(lambda x: list(dict.fromkeys(x))[:count]).reset_index()\n",
    "    __ = pd.DataFrame()\n",
    "    # Если указан порядок\n",
    "    if order is not None:\n",
    "        # Если порядок - число, значит мы хотим определённый тип раскидать на все\n",
    "        if type(order) is int:\n",
    "            _ = _.groupby(['session', 'type']).agg(aid = ('aid', sum)).reset_index()\n",
    "            t = cloneEvents(_[_['type'] == order])\n",
    "            _ = pd.concat([t, _[~(_['session'].isin(t['session']))]])\n",
    "            _['type'] = _['type'].astype('uint8')\n",
    "        # Если порядок - словарь, значит мы меняем тип предсказания. \n",
    "        # Например, 0 предсказываем по 1\n",
    "        elif type(order) is dict:\n",
    "            _ = _[_['type'].isin(order.keys())].map(order)\n",
    "    # Заполняем недостающие сессии\n",
    "    __ = fillEvents(_, clone=clone)\n",
    "    return pd.concat([_, __]).rename(columns = {'aid':'labels'})\n",
    "# ----------------------------------------------------------------\n",
    "def getLastWithTypeClone(df, count=20, order=None):\n",
    "    return getLastWithType(df, count, order, clone=True)\n",
    "# ----------------------------------------------------------------\n",
    "def getLastWithTypeOrder(df, count=20, order=[0, 0, 1]):\n",
    "    return getLastWithType(df, count, order)\n",
    "# ----------------------------------------------------------------\n",
    "def getLastWithTypeHardOrder(df, count={0:5, 1:[10,5,5], 2:[20,20,5]}, order=[1, 0, 2]):\n",
    "    ''' Сложное предсказание \n",
    "        Для каждого типа выбираем N товаров других типов '''\n",
    "    # Берём отсортированные по убыванию времени товары\n",
    "    # группируем по сессии и типам\n",
    "    _ = pd.DataFrame()\n",
    "    for ind in count.keys():\n",
    "        res = getLastNoType(df, count.get(ind), order, fill=False)\n",
    "        res['type'] = ind\n",
    "        _ = pd.concat([_, res])\n",
    "    # Заполняем недостающие сессии\n",
    "    _.rename(columns = {'labels':'aid'}, inplace=True)\n",
    "    __ = fillEvents(_, clone=False)\n",
    "    return pd.concat([_, __]).rename(columns = {'aid':'labels'})"
   ]
  },
  {
   "cell_type": "code",
   "execution_count": 8,
   "id": "fadaa849",
   "metadata": {
    "execution": {
     "iopub.execute_input": "2023-01-24T14:56:20.867828Z",
     "iopub.status.busy": "2023-01-24T14:56:20.867385Z",
     "iopub.status.idle": "2023-01-24T14:56:20.872577Z",
     "shell.execute_reply": "2023-01-24T14:56:20.871307Z"
    },
    "papermill": {
     "duration": 0.01953,
     "end_time": "2023-01-24T14:56:20.874901",
     "exception": false,
     "start_time": "2023-01-24T14:56:20.855371",
     "status": "completed"
    },
    "tags": []
   },
   "outputs": [],
   "source": [
    "# ----- Функции вычисления популярных товаров -----"
   ]
  },
  {
   "cell_type": "code",
   "execution_count": 9,
   "id": "8cacf674",
   "metadata": {
    "execution": {
     "iopub.execute_input": "2023-01-24T14:56:20.895141Z",
     "iopub.status.busy": "2023-01-24T14:56:20.894702Z",
     "iopub.status.idle": "2023-01-24T14:56:20.907605Z",
     "shell.execute_reply": "2023-01-24T14:56:20.906145Z"
    },
    "papermill": {
     "duration": 0.025995,
     "end_time": "2023-01-24T14:56:20.910423",
     "exception": false,
     "start_time": "2023-01-24T14:56:20.884428",
     "status": "completed"
    },
    "tags": []
   },
   "outputs": [],
   "source": [
    "# ==================================================================\n",
    "# ----- Функции получения популярных файлов ------------------------\n",
    "# ==================================================================\n",
    "def getPopularityWithType(df, count=20):\n",
    "    ''' Получить популярные товары с учётом типов событий '''\n",
    "    # группируем товары по aid и типу, получаем количество \n",
    "    # и сортируем по типу и сессии(количеству) в обратном порядке\n",
    "    result = df[['aid', 'type', 'session']].groupby(['aid', 'type'])\\\n",
    "            .count().sort_values(['type', 'session'], ascending=False).reset_index()\n",
    "    # объединяем по N последних в таблицу\n",
    "    result = pd.concat([result.loc[result['type'] == 0].iloc[:count], \\\n",
    "                    result.loc[result['type'] == 1].iloc[:count], \\\n",
    "                    result.loc[result['type'] == 2].iloc[:count]])\n",
    "    # группируем по типам\n",
    "    result = result[['aid', 'type']].groupby('type')\\\n",
    "                .agg(lambda x: list(dict.fromkeys(x))).reset_index()\n",
    "    result.columns = ['type', 'labels']\n",
    "    return result\n",
    "# -----------------------------------------------------------------\n",
    "def getPopularityNoType(df, count=20):\n",
    "    ''' Получить популярные товары без учёта типов событий '''\n",
    "    # группируем товары по aid, получаем количество \n",
    "    # и сортируем по сессии(количеству) в обратном порядке\n",
    "    result = df[['aid', 'session']].groupby(['aid'])\\\n",
    "            .count().sort_values(['session'], ascending=False).reset_index()\n",
    "    # объединяем по N последних в таблицу\n",
    "    result = result.iloc[:count]\n",
    "    result['type'] = 0\n",
    "    # группируем по типам\n",
    "    result = result[['aid', 'type']].groupby('type')\\\n",
    "                .agg(lambda x: list(dict.fromkeys(x))).reset_index()\n",
    "    result.drop('type', axis=1, inplace=True)\n",
    "    result = pd.concat([result, result, result], ignore_index=True).reset_index()\n",
    "    result.columns = ['type','labels']\n",
    "    return result"
   ]
  },
  {
   "cell_type": "code",
   "execution_count": 10,
   "id": "023e640b",
   "metadata": {
    "execution": {
     "iopub.execute_input": "2023-01-24T14:56:20.930547Z",
     "iopub.status.busy": "2023-01-24T14:56:20.929977Z",
     "iopub.status.idle": "2023-01-24T14:56:20.934667Z",
     "shell.execute_reply": "2023-01-24T14:56:20.933696Z"
    },
    "papermill": {
     "duration": 0.018655,
     "end_time": "2023-01-24T14:56:20.937916",
     "exception": false,
     "start_time": "2023-01-24T14:56:20.919261",
     "status": "completed"
    },
    "tags": []
   },
   "outputs": [],
   "source": [
    "# ----- Функции расчёта одиночных товаров -----"
   ]
  },
  {
   "cell_type": "code",
   "execution_count": 11,
   "id": "108b140c",
   "metadata": {
    "execution": {
     "iopub.execute_input": "2023-01-24T14:56:20.957648Z",
     "iopub.status.busy": "2023-01-24T14:56:20.957222Z",
     "iopub.status.idle": "2023-01-24T14:56:20.964188Z",
     "shell.execute_reply": "2023-01-24T14:56:20.962921Z"
    },
    "papermill": {
     "duration": 0.019744,
     "end_time": "2023-01-24T14:56:20.966583",
     "exception": false,
     "start_time": "2023-01-24T14:56:20.946839",
     "status": "completed"
    },
    "tags": []
   },
   "outputs": [],
   "source": [
    "def getSingleItems(df, time_elapsed=7*24*60*60):\n",
    "    _ = df.copy().groupby(['session', 'aid']).agg(count=('ts', 'count')).reset_index()\n",
    "    drop = _[_['count'] > 1]['aid'].unique()\n",
    "    _ = _[(~_['aid'].isin(drop))&(_['count'] == 1)]['aid'].unique()\n",
    "    return _"
   ]
  },
  {
   "cell_type": "code",
   "execution_count": 12,
   "id": "4e9d04ea",
   "metadata": {
    "execution": {
     "iopub.execute_input": "2023-01-24T14:56:20.985724Z",
     "iopub.status.busy": "2023-01-24T14:56:20.985330Z",
     "iopub.status.idle": "2023-01-24T14:56:20.993058Z",
     "shell.execute_reply": "2023-01-24T14:56:20.991752Z"
    },
    "papermill": {
     "duration": 0.020347,
     "end_time": "2023-01-24T14:56:20.995637",
     "exception": false,
     "start_time": "2023-01-24T14:56:20.975290",
     "status": "completed"
    },
    "tags": []
   },
   "outputs": [],
   "source": [
    "# ==================================================================\n",
    "# ----- Конфигурация сессии для экспериментов-----------------------\n",
    "# ==================================================================\n",
    "LOCAL = True  # Тип метрики. True - локально, False - Kaggle\n",
    "SAVE  = True # Сохранять ли файлы. Нужно при сохранении датасета\n",
    "SHOW  = True # Выводить ли таблицы в процессе\n",
    "# -----------------------------------------------------------------\n",
    "params = {\n",
    "    'use_popular': False, # Использовать ли популярные файлы при засылке\n",
    "    'drop_single': False, # Убирать ли товары, покупаемые только раз\n",
    "    #'time': 2*24*60*60,\n",
    "    'last': {\n",
    "        'func': getLastNoType,\n",
    "        'params': {\n",
    "            #'count': {0:[5, 0, 0], 1:[15,5,0], 2:[15,15,0]},\n",
    "            'count': 40,\n",
    "            'order': [1, 0, 2],\n",
    "        },\n",
    "        'filename': 'lastItems'\n",
    "    },\n",
    "    'popular': {\n",
    "        'func': getPopularityWithType,\n",
    "        'params': {\n",
    "            'count': 40\n",
    "        },\n",
    "        'filename': 'popular'\n",
    "    }\n",
    "}"
   ]
  },
  {
   "cell_type": "code",
   "execution_count": 13,
   "id": "4718bcdb",
   "metadata": {
    "execution": {
     "iopub.execute_input": "2023-01-24T14:56:21.015686Z",
     "iopub.status.busy": "2023-01-24T14:56:21.015231Z",
     "iopub.status.idle": "2023-01-24T14:56:21.020613Z",
     "shell.execute_reply": "2023-01-24T14:56:21.019283Z"
    },
    "papermill": {
     "duration": 0.019464,
     "end_time": "2023-01-24T14:56:21.023843",
     "exception": false,
     "start_time": "2023-01-24T14:56:21.004379",
     "status": "completed"
    },
    "tags": []
   },
   "outputs": [],
   "source": [
    "# ----- Загружаем данные ------------------------------------"
   ]
  },
  {
   "cell_type": "code",
   "execution_count": 14,
   "id": "4d116129",
   "metadata": {
    "execution": {
     "iopub.execute_input": "2023-01-24T14:56:21.044397Z",
     "iopub.status.busy": "2023-01-24T14:56:21.043212Z",
     "iopub.status.idle": "2023-01-24T14:56:31.066313Z",
     "shell.execute_reply": "2023-01-24T14:56:31.064883Z"
    },
    "papermill": {
     "duration": 10.036784,
     "end_time": "2023-01-24T14:56:31.069778",
     "exception": false,
     "start_time": "2023-01-24T14:56:21.032994",
     "status": "completed"
    },
    "tags": []
   },
   "outputs": [
    {
     "data": {
      "text/html": [
       "<div>\n",
       "<style scoped>\n",
       "    .dataframe tbody tr th:only-of-type {\n",
       "        vertical-align: middle;\n",
       "    }\n",
       "\n",
       "    .dataframe tbody tr th {\n",
       "        vertical-align: top;\n",
       "    }\n",
       "\n",
       "    .dataframe thead th {\n",
       "        text-align: right;\n",
       "    }\n",
       "</style>\n",
       "<table border=\"1\" class=\"dataframe\">\n",
       "  <thead>\n",
       "    <tr style=\"text-align: right;\">\n",
       "      <th></th>\n",
       "      <th>session</th>\n",
       "      <th>aid</th>\n",
       "      <th>ts</th>\n",
       "      <th>type</th>\n",
       "    </tr>\n",
       "  </thead>\n",
       "  <tbody>\n",
       "    <tr>\n",
       "      <th>0</th>\n",
       "      <td>12899779</td>\n",
       "      <td>59625</td>\n",
       "      <td>1661724000</td>\n",
       "      <td>0</td>\n",
       "    </tr>\n",
       "    <tr>\n",
       "      <th>5</th>\n",
       "      <td>12899780</td>\n",
       "      <td>1142000</td>\n",
       "      <td>1661724155</td>\n",
       "      <td>0</td>\n",
       "    </tr>\n",
       "    <tr>\n",
       "      <th>4</th>\n",
       "      <td>12899780</td>\n",
       "      <td>736515</td>\n",
       "      <td>1661724136</td>\n",
       "      <td>0</td>\n",
       "    </tr>\n",
       "    <tr>\n",
       "      <th>3</th>\n",
       "      <td>12899780</td>\n",
       "      <td>973453</td>\n",
       "      <td>1661724109</td>\n",
       "      <td>0</td>\n",
       "    </tr>\n",
       "  </tbody>\n",
       "</table>\n",
       "</div>"
      ],
      "text/plain": [
       "    session      aid          ts  type\n",
       "0  12899779    59625  1661724000     0\n",
       "5  12899780  1142000  1661724155     0\n",
       "4  12899780   736515  1661724136     0\n",
       "3  12899780   973453  1661724109     0"
      ]
     },
     "metadata": {},
     "output_type": "display_data"
    },
    {
     "name": "stdout",
     "output_type": "stream",
     "text": [
      "CPU times: user 7.59 s, sys: 2.13 s, total: 9.72 s\n",
      "Wall time: 10 s\n"
     ]
    }
   ],
   "source": [
    "%%time\n",
    "# ~ 10s\n",
    "test  = loadDataset('../input/otto-analyse-data/test.parquet', time_elapsed=params.get('time'))\n",
    "local = loadDataset('../input/otto-train-and-test-data-for-local-validation/test.parquet', time_elapsed=params.get('time'))\n",
    "if SHOW: display(test.head(4))"
   ]
  },
  {
   "cell_type": "code",
   "execution_count": 15,
   "id": "29e72447",
   "metadata": {
    "execution": {
     "iopub.execute_input": "2023-01-24T14:56:31.091001Z",
     "iopub.status.busy": "2023-01-24T14:56:31.090563Z",
     "iopub.status.idle": "2023-01-24T14:56:31.096266Z",
     "shell.execute_reply": "2023-01-24T14:56:31.094861Z"
    },
    "papermill": {
     "duration": 0.018909,
     "end_time": "2023-01-24T14:56:31.098868",
     "exception": false,
     "start_time": "2023-01-24T14:56:31.079959",
     "status": "completed"
    },
    "tags": []
   },
   "outputs": [],
   "source": [
    "# ----- Вычисляем одиночные товары --------------------------"
   ]
  },
  {
   "cell_type": "code",
   "execution_count": 16,
   "id": "24433d96",
   "metadata": {
    "execution": {
     "iopub.execute_input": "2023-01-24T14:56:31.119162Z",
     "iopub.status.busy": "2023-01-24T14:56:31.118687Z",
     "iopub.status.idle": "2023-01-24T14:56:31.126016Z",
     "shell.execute_reply": "2023-01-24T14:56:31.124728Z"
    },
    "papermill": {
     "duration": 0.021347,
     "end_time": "2023-01-24T14:56:31.129423",
     "exception": false,
     "start_time": "2023-01-24T14:56:31.108076",
     "status": "completed"
    },
    "tags": []
   },
   "outputs": [
    {
     "name": "stdout",
     "output_type": "stream",
     "text": [
      "CPU times: user 4 µs, sys: 1 µs, total: 5 µs\n",
      "Wall time: 8.82 µs\n"
     ]
    }
   ],
   "source": [
    "%%time\n",
    "# ~ 2m 25s\n",
    "singleItems = None\n",
    "if params['drop_single']:\n",
    "    train = pd.read_parquet('../input/otto-analyse-data/train_no_duplicates.parquet')\n",
    "    singleItems = getSingleItems(train)\n",
    "    del train; gc.collect()\n",
    "    test  = test[~test['aid'].isin(singleItems)]\n",
    "    local = local[~local['aid'].isin(singleItems)]\n",
    "    if SHOW: display(test)"
   ]
  },
  {
   "cell_type": "code",
   "execution_count": 17,
   "id": "6023a81f",
   "metadata": {
    "execution": {
     "iopub.execute_input": "2023-01-24T14:56:31.150221Z",
     "iopub.status.busy": "2023-01-24T14:56:31.149773Z",
     "iopub.status.idle": "2023-01-24T14:56:31.154299Z",
     "shell.execute_reply": "2023-01-24T14:56:31.153207Z"
    },
    "papermill": {
     "duration": 0.017458,
     "end_time": "2023-01-24T14:56:31.156926",
     "exception": false,
     "start_time": "2023-01-24T14:56:31.139468",
     "status": "completed"
    },
    "tags": []
   },
   "outputs": [],
   "source": [
    "# ----- Вычисляем историю ----------------------------------"
   ]
  },
  {
   "cell_type": "code",
   "execution_count": 18,
   "id": "bc2f1333",
   "metadata": {
    "execution": {
     "iopub.execute_input": "2023-01-24T14:56:31.178080Z",
     "iopub.status.busy": "2023-01-24T14:56:31.177695Z",
     "iopub.status.idle": "2023-01-24T14:58:12.462076Z",
     "shell.execute_reply": "2023-01-24T14:58:12.461006Z"
    },
    "papermill": {
     "duration": 101.308379,
     "end_time": "2023-01-24T14:58:12.474450",
     "exception": false,
     "start_time": "2023-01-24T14:56:31.166071",
     "status": "completed"
    },
    "tags": []
   },
   "outputs": [
    {
     "data": {
      "text/html": [
       "<div>\n",
       "<style scoped>\n",
       "    .dataframe tbody tr th:only-of-type {\n",
       "        vertical-align: middle;\n",
       "    }\n",
       "\n",
       "    .dataframe tbody tr th {\n",
       "        vertical-align: top;\n",
       "    }\n",
       "\n",
       "    .dataframe thead th {\n",
       "        text-align: right;\n",
       "    }\n",
       "</style>\n",
       "<table border=\"1\" class=\"dataframe\">\n",
       "  <thead>\n",
       "    <tr style=\"text-align: right;\">\n",
       "      <th></th>\n",
       "      <th>session</th>\n",
       "      <th>labels</th>\n",
       "      <th>type</th>\n",
       "    </tr>\n",
       "  </thead>\n",
       "  <tbody>\n",
       "    <tr>\n",
       "      <th>0</th>\n",
       "      <td>12899779</td>\n",
       "      <td>[59625]</td>\n",
       "      <td>0</td>\n",
       "    </tr>\n",
       "    <tr>\n",
       "      <th>1</th>\n",
       "      <td>12899780</td>\n",
       "      <td>[1142000, 736515, 973453, 582732]</td>\n",
       "      <td>0</td>\n",
       "    </tr>\n",
       "    <tr>\n",
       "      <th>2</th>\n",
       "      <td>12899781</td>\n",
       "      <td>[199008, 918667, 194067, 57315, 141736]</td>\n",
       "      <td>0</td>\n",
       "    </tr>\n",
       "    <tr>\n",
       "      <th>3</th>\n",
       "      <td>12899782</td>\n",
       "      <td>[834354, 740494, 987399, 889671, 127404, 17111...</td>\n",
       "      <td>0</td>\n",
       "    </tr>\n",
       "  </tbody>\n",
       "</table>\n",
       "</div>"
      ],
      "text/plain": [
       "    session                                             labels  type\n",
       "0  12899779                                            [59625]     0\n",
       "1  12899780                  [1142000, 736515, 973453, 582732]     0\n",
       "2  12899781            [199008, 918667, 194067, 57315, 141736]     0\n",
       "3  12899782  [834354, 740494, 987399, 889671, 127404, 17111...     0"
      ]
     },
     "metadata": {},
     "output_type": "display_data"
    },
    {
     "name": "stdout",
     "output_type": "stream",
     "text": [
      "CPU times: user 1min 37s, sys: 3.87 s, total: 1min 41s\n",
      "Wall time: 1min 41s\n"
     ]
    }
   ],
   "source": [
    "%%time\n",
    "# ~ 1m 40s\n",
    "tLast = params['last']['func'](test, **params['last']['params'])\n",
    "lLast = params['last']['func'](local, **params['last']['params'])\n",
    "if SAVE:\n",
    "    tLast.astype({'session': 'uint32', 'type':'uint8'}).to_parquet(f'test_{params[\"last\"][\"filename\"]}.parquet', index=False)\n",
    "    lLast.astype({'session': 'uint32', 'type':'uint8'}).to_parquet(f'local_{params[\"last\"][\"filename\"]}.parquet', index=False)\n",
    "if SHOW: display(tLast.head(4))"
   ]
  },
  {
   "cell_type": "code",
   "execution_count": 19,
   "id": "fd4af188",
   "metadata": {
    "execution": {
     "iopub.execute_input": "2023-01-24T14:58:12.505171Z",
     "iopub.status.busy": "2023-01-24T14:58:12.504511Z",
     "iopub.status.idle": "2023-01-24T14:58:12.509006Z",
     "shell.execute_reply": "2023-01-24T14:58:12.508071Z"
    },
    "papermill": {
     "duration": 0.02694,
     "end_time": "2023-01-24T14:58:12.512673",
     "exception": false,
     "start_time": "2023-01-24T14:58:12.485733",
     "status": "completed"
    },
    "tags": []
   },
   "outputs": [],
   "source": [
    "#_ = tLast.explode('labels').groupby('session').agg(count=('labels', lambda x: len(dict.fromkeys(x))))\n",
    "#_.loc[_['count'] >= 20].shape[0] / _.shape[0]"
   ]
  },
  {
   "cell_type": "code",
   "execution_count": 20,
   "id": "e838aa76",
   "metadata": {
    "execution": {
     "iopub.execute_input": "2023-01-24T14:58:12.563842Z",
     "iopub.status.busy": "2023-01-24T14:58:12.563232Z",
     "iopub.status.idle": "2023-01-24T14:58:12.567268Z",
     "shell.execute_reply": "2023-01-24T14:58:12.566492Z"
    },
    "papermill": {
     "duration": 0.029556,
     "end_time": "2023-01-24T14:58:12.569749",
     "exception": false,
     "start_time": "2023-01-24T14:58:12.540193",
     "status": "completed"
    },
    "tags": []
   },
   "outputs": [],
   "source": [
    "# ----- Вычисляем популярные товары -------------------------"
   ]
  },
  {
   "cell_type": "code",
   "execution_count": 21,
   "id": "89d9bb39",
   "metadata": {
    "execution": {
     "iopub.execute_input": "2023-01-24T14:58:12.590263Z",
     "iopub.status.busy": "2023-01-24T14:58:12.589486Z",
     "iopub.status.idle": "2023-01-24T14:58:16.371708Z",
     "shell.execute_reply": "2023-01-24T14:58:16.370390Z"
    },
    "papermill": {
     "duration": 3.795449,
     "end_time": "2023-01-24T14:58:16.374317",
     "exception": false,
     "start_time": "2023-01-24T14:58:12.578868",
     "status": "completed"
    },
    "tags": []
   },
   "outputs": [
    {
     "data": {
      "text/html": [
       "<div>\n",
       "<style scoped>\n",
       "    .dataframe tbody tr th:only-of-type {\n",
       "        vertical-align: middle;\n",
       "    }\n",
       "\n",
       "    .dataframe tbody tr th {\n",
       "        vertical-align: top;\n",
       "    }\n",
       "\n",
       "    .dataframe thead th {\n",
       "        text-align: right;\n",
       "    }\n",
       "</style>\n",
       "<table border=\"1\" class=\"dataframe\">\n",
       "  <thead>\n",
       "    <tr style=\"text-align: right;\">\n",
       "      <th></th>\n",
       "      <th>type</th>\n",
       "      <th>labels</th>\n",
       "    </tr>\n",
       "  </thead>\n",
       "  <tbody>\n",
       "    <tr>\n",
       "      <th>0</th>\n",
       "      <td>0</td>\n",
       "      <td>[1460571, 485256, 108125, 986164, 1551213, 754...</td>\n",
       "    </tr>\n",
       "    <tr>\n",
       "      <th>1</th>\n",
       "      <td>1</td>\n",
       "      <td>[485256, 33343, 1460571, 986164, 554660, 66065...</td>\n",
       "    </tr>\n",
       "    <tr>\n",
       "      <th>2</th>\n",
       "      <td>2</td>\n",
       "      <td>[986164, 1460571, 329725, 1043508, 332654, 688...</td>\n",
       "    </tr>\n",
       "  </tbody>\n",
       "</table>\n",
       "</div>"
      ],
      "text/plain": [
       "   type                                             labels\n",
       "0     0  [1460571, 485256, 108125, 986164, 1551213, 754...\n",
       "1     1  [485256, 33343, 1460571, 986164, 554660, 66065...\n",
       "2     2  [986164, 1460571, 329725, 1043508, 332654, 688..."
      ]
     },
     "metadata": {},
     "output_type": "display_data"
    },
    {
     "name": "stdout",
     "output_type": "stream",
     "text": [
      "CPU times: user 3.46 s, sys: 322 ms, total: 3.79 s\n",
      "Wall time: 3.77 s\n"
     ]
    }
   ],
   "source": [
    "%%time\n",
    "# ~ 4s\n",
    "tPopular = params['popular']['func'](test, **params['popular']['params'])\n",
    "lPopular = params['popular']['func'](local, **params['popular']['params'])\n",
    "if SAVE:\n",
    "    tPopular.astype({'type':'uint8'}).to_parquet(f'test_{params[\"popular\"][\"filename\"]}.parquet', index=False)\n",
    "    lPopular.astype({'type':'uint8'}).to_parquet(f'local_{params[\"popular\"][\"filename\"]}.parquet', index=False)\n",
    "if SHOW: display(tPopular)"
   ]
  },
  {
   "cell_type": "code",
   "execution_count": 22,
   "id": "036b0ac0",
   "metadata": {
    "execution": {
     "iopub.execute_input": "2023-01-24T14:58:16.395418Z",
     "iopub.status.busy": "2023-01-24T14:58:16.394569Z",
     "iopub.status.idle": "2023-01-24T14:58:16.400072Z",
     "shell.execute_reply": "2023-01-24T14:58:16.398919Z"
    },
    "papermill": {
     "duration": 0.01872,
     "end_time": "2023-01-24T14:58:16.402531",
     "exception": false,
     "start_time": "2023-01-24T14:58:16.383811",
     "status": "completed"
    },
    "tags": []
   },
   "outputs": [],
   "source": [
    "# ----- PREDICT -----"
   ]
  },
  {
   "cell_type": "code",
   "execution_count": 23,
   "id": "130478af",
   "metadata": {
    "execution": {
     "iopub.execute_input": "2023-01-24T14:58:16.423228Z",
     "iopub.status.busy": "2023-01-24T14:58:16.422763Z",
     "iopub.status.idle": "2023-01-24T14:58:16.435989Z",
     "shell.execute_reply": "2023-01-24T14:58:16.434658Z"
    },
    "papermill": {
     "duration": 0.026483,
     "end_time": "2023-01-24T14:58:16.438393",
     "exception": false,
     "start_time": "2023-01-24T14:58:16.411910",
     "status": "completed"
    },
    "tags": []
   },
   "outputs": [],
   "source": [
    "def localMetrics(sub):\n",
    "    # -- load ground truth\n",
    "    df_true = pd.read_parquet('../input/otto-train-and-test-data-for-local-validation/test_labels.parquet')\n",
    "    df_true = df_true.rename(columns = {'ground_truth': 'aids'} )\n",
    "    \n",
    "    # -- calculate metrics\n",
    "    lsub = sub.copy()\n",
    "    lsub['session'] = lsub.session_type.apply(lambda x: np.int64(x.split('_')[0]))\n",
    "    lsub['type']    = lsub.session_type.apply(lambda x: x.split('_')[1]) \n",
    "    lsub['labels']  = lsub.labels.apply(lambda x: [np.int64(i) for i in x.split()[:20]])\n",
    "\n",
    "    test_labels = df_true.copy()\n",
    "    test_labels = test_labels.merge(lsub, how='left', on=['session', 'type'])\n",
    "    test_labels['labels'] = test_labels['labels'].fillna('')\n",
    "    \n",
    "    test_labels['hits']     = test_labels.apply(lambda df: len(set(df.aids).intersection(set(df.labels))), axis=1)\n",
    "    test_labels['gt_count'] = test_labels.aids.str.len().clip(0,20)  \n",
    "    \n",
    "    recall_per_type = test_labels.groupby(['type'])['hits'].sum() / test_labels.groupby(['type'])['gt_count'].sum() \n",
    "    r0,r1,r2 = recall_per_type['clicks'],  recall_per_type['carts'],  recall_per_type['orders']\n",
    "    \n",
    "    print(f\"{r0*0.1 + r1*0.3 + r2*0.6:.3f} = {r0*0.1:.3f} + {r1*0.3:.3f} + {r2*0.6:.3f}\")\n",
    "    score = (recall_per_type * pd.Series({'clicks': 0.10, 'carts': 0.30, 'orders': 0.60})).sum()\n",
    "    print('score:', score)\n",
    "    return score"
   ]
  },
  {
   "cell_type": "code",
   "execution_count": 24,
   "id": "0ec76a5d",
   "metadata": {
    "execution": {
     "iopub.execute_input": "2023-01-24T14:58:16.459135Z",
     "iopub.status.busy": "2023-01-24T14:58:16.458629Z",
     "iopub.status.idle": "2023-01-24T14:58:16.472620Z",
     "shell.execute_reply": "2023-01-24T14:58:16.471361Z"
    },
    "papermill": {
     "duration": 0.027257,
     "end_time": "2023-01-24T14:58:16.475116",
     "exception": false,
     "start_time": "2023-01-24T14:58:16.447859",
     "status": "completed"
    },
    "tags": []
   },
   "outputs": [
    {
     "data": {
      "text/html": [
       "<div>\n",
       "<style scoped>\n",
       "    .dataframe tbody tr th:only-of-type {\n",
       "        vertical-align: middle;\n",
       "    }\n",
       "\n",
       "    .dataframe tbody tr th {\n",
       "        vertical-align: top;\n",
       "    }\n",
       "\n",
       "    .dataframe thead th {\n",
       "        text-align: right;\n",
       "    }\n",
       "</style>\n",
       "<table border=\"1\" class=\"dataframe\">\n",
       "  <thead>\n",
       "    <tr style=\"text-align: right;\">\n",
       "      <th></th>\n",
       "      <th>session</th>\n",
       "      <th>labels</th>\n",
       "      <th>type</th>\n",
       "    </tr>\n",
       "  </thead>\n",
       "  <tbody>\n",
       "    <tr>\n",
       "      <th>0</th>\n",
       "      <td>11098528</td>\n",
       "      <td>[11830]</td>\n",
       "      <td>0</td>\n",
       "    </tr>\n",
       "    <tr>\n",
       "      <th>1</th>\n",
       "      <td>11098529</td>\n",
       "      <td>[1105029]</td>\n",
       "      <td>0</td>\n",
       "    </tr>\n",
       "    <tr>\n",
       "      <th>2</th>\n",
       "      <td>11098530</td>\n",
       "      <td>[409236, 264500]</td>\n",
       "      <td>0</td>\n",
       "    </tr>\n",
       "    <tr>\n",
       "      <th>3</th>\n",
       "      <td>11098531</td>\n",
       "      <td>[1365569, 1728212, 1271998, 624163, 1553691, 3...</td>\n",
       "      <td>0</td>\n",
       "    </tr>\n",
       "  </tbody>\n",
       "</table>\n",
       "</div>"
      ],
      "text/plain": [
       "    session                                             labels  type\n",
       "0  11098528                                            [11830]     0\n",
       "1  11098529                                          [1105029]     0\n",
       "2  11098530                                   [409236, 264500]     0\n",
       "3  11098531  [1365569, 1728212, 1271998, 624163, 1553691, 3...     0"
      ]
     },
     "metadata": {},
     "output_type": "display_data"
    }
   ],
   "source": [
    "submission = lLast if LOCAL else tLast\n",
    "if SHOW: display(submission.head(4))"
   ]
  },
  {
   "cell_type": "code",
   "execution_count": 25,
   "id": "072eca3d",
   "metadata": {
    "execution": {
     "iopub.execute_input": "2023-01-24T14:58:16.496437Z",
     "iopub.status.busy": "2023-01-24T14:58:16.495998Z",
     "iopub.status.idle": "2023-01-24T14:58:16.501329Z",
     "shell.execute_reply": "2023-01-24T14:58:16.500100Z"
    },
    "papermill": {
     "duration": 0.018986,
     "end_time": "2023-01-24T14:58:16.503890",
     "exception": false,
     "start_time": "2023-01-24T14:58:16.484904",
     "status": "completed"
    },
    "tags": []
   },
   "outputs": [],
   "source": [
    "# ----- Добавляем популярные товары -------------------------------"
   ]
  },
  {
   "cell_type": "code",
   "execution_count": 26,
   "id": "08f3621a",
   "metadata": {
    "execution": {
     "iopub.execute_input": "2023-01-24T14:58:16.525728Z",
     "iopub.status.busy": "2023-01-24T14:58:16.525028Z",
     "iopub.status.idle": "2023-01-24T14:58:16.533328Z",
     "shell.execute_reply": "2023-01-24T14:58:16.531999Z"
    },
    "papermill": {
     "duration": 0.022748,
     "end_time": "2023-01-24T14:58:16.536749",
     "exception": false,
     "start_time": "2023-01-24T14:58:16.514001",
     "status": "completed"
    },
    "tags": []
   },
   "outputs": [
    {
     "name": "stdout",
     "output_type": "stream",
     "text": [
      "CPU times: user 6 µs, sys: 0 ns, total: 6 µs\n",
      "Wall time: 10.5 µs\n"
     ]
    }
   ],
   "source": [
    "%%time\n",
    "# ~ 1m\n",
    "if params['use_popular']:\n",
    "    submission = submission.merge(lPopular if LOCAL else tPopular, on=['type'], how='left')\n",
    "    submission['labels'] = submission['labels_x'] + submission['labels_y']\n",
    "    submission.drop(['labels_x', 'labels_y'], axis=1, inplace=True)\n",
    "    if SHOW: display(submission.head(4))"
   ]
  },
  {
   "cell_type": "code",
   "execution_count": 27,
   "id": "350e995f",
   "metadata": {
    "execution": {
     "iopub.execute_input": "2023-01-24T14:58:16.561166Z",
     "iopub.status.busy": "2023-01-24T14:58:16.558955Z",
     "iopub.status.idle": "2023-01-24T14:58:16.566314Z",
     "shell.execute_reply": "2023-01-24T14:58:16.564920Z"
    },
    "papermill": {
     "duration": 0.021568,
     "end_time": "2023-01-24T14:58:16.569037",
     "exception": false,
     "start_time": "2023-01-24T14:58:16.547469",
     "status": "completed"
    },
    "tags": []
   },
   "outputs": [],
   "source": [
    "# ----- Убираем одиночные товары ---------------------------------"
   ]
  },
  {
   "cell_type": "code",
   "execution_count": 28,
   "id": "b15f1455",
   "metadata": {
    "execution": {
     "iopub.execute_input": "2023-01-24T14:58:16.591151Z",
     "iopub.status.busy": "2023-01-24T14:58:16.590714Z",
     "iopub.status.idle": "2023-01-24T14:58:16.599701Z",
     "shell.execute_reply": "2023-01-24T14:58:16.598227Z"
    },
    "papermill": {
     "duration": 0.022733,
     "end_time": "2023-01-24T14:58:16.602277",
     "exception": false,
     "start_time": "2023-01-24T14:58:16.579544",
     "status": "completed"
    },
    "tags": []
   },
   "outputs": [],
   "source": [
    "if params['drop_single']:\n",
    "    tmp = submission.explode('labels')\n",
    "    tmp['labels'] = tmp['labels'].fillna(-1).map(lambda x: int(x))\n",
    "    tmp['labels'] = tmp['labels'].astype('uint32')\n",
    "    tmp['type'] = tmp['type'].astype('uint8')\n",
    "    tmp = tmp[~tmp['labels'].isin(singleItems)]\n",
    "    submission = tmp.groupby(['session', 'type']).agg(lambda x: list(dict.fromkeys(x))).reset_index()\n",
    "    if SHOW: display(submission.head(4))"
   ]
  },
  {
   "cell_type": "code",
   "execution_count": 29,
   "id": "0dfdd63b",
   "metadata": {
    "execution": {
     "iopub.execute_input": "2023-01-24T14:58:16.624528Z",
     "iopub.status.busy": "2023-01-24T14:58:16.624074Z",
     "iopub.status.idle": "2023-01-24T14:58:16.629834Z",
     "shell.execute_reply": "2023-01-24T14:58:16.628749Z"
    },
    "papermill": {
     "duration": 0.019595,
     "end_time": "2023-01-24T14:58:16.632390",
     "exception": false,
     "start_time": "2023-01-24T14:58:16.612795",
     "status": "completed"
    },
    "tags": []
   },
   "outputs": [],
   "source": [
    "# ----- Подготавливаем предсказание --------------------------"
   ]
  },
  {
   "cell_type": "code",
   "execution_count": 30,
   "id": "60e43201",
   "metadata": {
    "execution": {
     "iopub.execute_input": "2023-01-24T14:58:16.653860Z",
     "iopub.status.busy": "2023-01-24T14:58:16.653427Z",
     "iopub.status.idle": "2023-01-24T14:58:45.052540Z",
     "shell.execute_reply": "2023-01-24T14:58:45.050884Z"
    },
    "papermill": {
     "duration": 28.413923,
     "end_time": "2023-01-24T14:58:45.056038",
     "exception": false,
     "start_time": "2023-01-24T14:58:16.642115",
     "status": "completed"
    },
    "tags": []
   },
   "outputs": [
    {
     "data": {
      "text/html": [
       "<div>\n",
       "<style scoped>\n",
       "    .dataframe tbody tr th:only-of-type {\n",
       "        vertical-align: middle;\n",
       "    }\n",
       "\n",
       "    .dataframe tbody tr th {\n",
       "        vertical-align: top;\n",
       "    }\n",
       "\n",
       "    .dataframe thead th {\n",
       "        text-align: right;\n",
       "    }\n",
       "</style>\n",
       "<table border=\"1\" class=\"dataframe\">\n",
       "  <thead>\n",
       "    <tr style=\"text-align: right;\">\n",
       "      <th></th>\n",
       "      <th>labels</th>\n",
       "      <th>session_type</th>\n",
       "    </tr>\n",
       "  </thead>\n",
       "  <tbody>\n",
       "    <tr>\n",
       "      <th>0</th>\n",
       "      <td>11830</td>\n",
       "      <td>11098528_clicks</td>\n",
       "    </tr>\n",
       "    <tr>\n",
       "      <th>1</th>\n",
       "      <td>1105029</td>\n",
       "      <td>11098529_clicks</td>\n",
       "    </tr>\n",
       "    <tr>\n",
       "      <th>2</th>\n",
       "      <td>409236 264500</td>\n",
       "      <td>11098530_clicks</td>\n",
       "    </tr>\n",
       "    <tr>\n",
       "      <th>3</th>\n",
       "      <td>1365569 1728212 1271998 624163 1553691 396199 ...</td>\n",
       "      <td>11098531_clicks</td>\n",
       "    </tr>\n",
       "  </tbody>\n",
       "</table>\n",
       "</div>"
      ],
      "text/plain": [
       "                                              labels     session_type\n",
       "0                                              11830  11098528_clicks\n",
       "1                                            1105029  11098529_clicks\n",
       "2                                      409236 264500  11098530_clicks\n",
       "3  1365569 1728212 1271998 624163 1553691 396199 ...  11098531_clicks"
      ]
     },
     "metadata": {},
     "output_type": "display_data"
    },
    {
     "name": "stdout",
     "output_type": "stream",
     "text": [
      "CPU times: user 26.6 s, sys: 1.77 s, total: 28.3 s\n",
      "Wall time: 28.4 s\n"
     ]
    }
   ],
   "source": [
    "%%time\n",
    "# ~ 2m\n",
    "submission['labels'] = submission['labels'].map(lambda x: ' '.join(str(i) for i in list(dict.fromkeys(x))))\n",
    "submission['type'] = submission['type'].map({0: 'clicks', 1: 'carts', 2: 'orders'})\n",
    "submission['session_type'] = submission['session'].astype('str') + '_' + submission['type']\n",
    "submission.drop(['session', 'type'], inplace=True, axis=1)\n",
    "if SAVE: submission.to_csv('submission.csv', index=False)\n",
    "if SHOW: display(submission.head(4))"
   ]
  },
  {
   "cell_type": "code",
   "execution_count": 31,
   "id": "71bc1092",
   "metadata": {
    "execution": {
     "iopub.execute_input": "2023-01-24T14:58:45.078868Z",
     "iopub.status.busy": "2023-01-24T14:58:45.078434Z",
     "iopub.status.idle": "2023-01-24T15:00:18.889260Z",
     "shell.execute_reply": "2023-01-24T15:00:18.887688Z"
    },
    "papermill": {
     "duration": 93.834988,
     "end_time": "2023-01-24T15:00:18.901901",
     "exception": false,
     "start_time": "2023-01-24T14:58:45.066913",
     "status": "completed"
    },
    "tags": []
   },
   "outputs": [
    {
     "name": "stdout",
     "output_type": "stream",
     "text": [
      "0.481 = 0.032 + 0.093 + 0.356\n",
      "score: 0.48149111874677053\n",
      "CPU times: user 1min 28s, sys: 5.36 s, total: 1min 33s\n",
      "Wall time: 1min 33s\n"
     ]
    }
   ],
   "source": [
    "%%time\n",
    "# ~ 2m 30s\n",
    "if LOCAL: # 0.477 = 0.031 + 0.093 + 0.353 0.4770073009270803\n",
    "          # 0.475 = 0.030 + 0.093 + 0.353 0.4754129683568511\n",
    "    localMetrics(submission)"
   ]
  },
  {
   "cell_type": "code",
   "execution_count": 32,
   "id": "f010f2f8",
   "metadata": {
    "execution": {
     "iopub.execute_input": "2023-01-24T15:00:18.925847Z",
     "iopub.status.busy": "2023-01-24T15:00:18.925070Z",
     "iopub.status.idle": "2023-01-24T15:00:18.930111Z",
     "shell.execute_reply": "2023-01-24T15:00:18.929111Z"
    },
    "papermill": {
     "duration": 0.019931,
     "end_time": "2023-01-24T15:00:18.932491",
     "exception": false,
     "start_time": "2023-01-24T15:00:18.912560",
     "status": "completed"
    },
    "tags": []
   },
   "outputs": [],
   "source": [
    "# --- Подготовка таблицы для обработки ---"
   ]
  },
  {
   "cell_type": "code",
   "execution_count": 33,
   "id": "9060bce1",
   "metadata": {
    "execution": {
     "iopub.execute_input": "2023-01-24T15:00:18.956058Z",
     "iopub.status.busy": "2023-01-24T15:00:18.955303Z",
     "iopub.status.idle": "2023-01-24T15:01:17.559163Z",
     "shell.execute_reply": "2023-01-24T15:01:17.558208Z"
    },
    "papermill": {
     "duration": 58.625637,
     "end_time": "2023-01-24T15:01:17.568622",
     "exception": false,
     "start_time": "2023-01-24T15:00:18.942985",
     "status": "completed"
    },
    "tags": []
   },
   "outputs": [
    {
     "name": "stdout",
     "output_type": "stream",
     "text": [
      "CPU times: user 56.8 s, sys: 2.53 s, total: 59.3 s\n",
      "Wall time: 58.6 s\n"
     ]
    }
   ],
   "source": [
    "%%time\n",
    "# ~ 1m\n",
    "if SAVE:\n",
    "    test  = pd.read_parquet('../input/otto-analyse-data/test.parquet')\n",
    "    local = pd.read_parquet('../input/otto-train-and-test-data-for-local-validation/test.parquet')\n",
    "    test  = pd.concat([test, fillEvents(test)])\n",
    "    local = pd.concat([local, fillEvents(local)])\n",
    "    test['type'] = test['type'].astype('uint8')\n",
    "    local['type'] = local['type'].astype('uint8')\n",
    "    test.to_parquet('test_extended.parquet', index=False)\n",
    "    local.to_parquet('local_extended.parquet', index=False)"
   ]
  },
  {
   "cell_type": "code",
   "execution_count": null,
   "id": "4fc00103",
   "metadata": {
    "papermill": {
     "duration": 0.010201,
     "end_time": "2023-01-24T15:01:17.588886",
     "exception": false,
     "start_time": "2023-01-24T15:01:17.578685",
     "status": "completed"
    },
    "tags": []
   },
   "outputs": [],
   "source": []
  }
 ],
 "metadata": {
  "kernelspec": {
   "display_name": "Python 3",
   "language": "python",
   "name": "python3"
  },
  "language_info": {
   "codemirror_mode": {
    "name": "ipython",
    "version": 3
   },
   "file_extension": ".py",
   "mimetype": "text/x-python",
   "name": "python",
   "nbconvert_exporter": "python",
   "pygments_lexer": "ipython3",
   "version": "3.7.12"
  },
  "papermill": {
   "default_parameters": {},
   "duration": 310.344393,
   "end_time": "2023-01-24T15:01:19.327448",
   "environment_variables": {},
   "exception": null,
   "input_path": "__notebook__.ipynb",
   "output_path": "__notebook__.ipynb",
   "parameters": {},
   "start_time": "2023-01-24T14:56:08.983055",
   "version": "2.3.4"
  }
 },
 "nbformat": 4,
 "nbformat_minor": 5
}
