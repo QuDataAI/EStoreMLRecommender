{
 "cells": [
  {
   "cell_type": "code",
   "execution_count": 1,
   "id": "637e83ec",
   "metadata": {
    "_cell_guid": "b1076dfc-b9ad-4769-8c92-a6c4dae69d19",
    "_uuid": "8f2839f25d086af736a60e9eeb907d3b93b6e0e5",
    "execution": {
     "iopub.execute_input": "2022-12-23T11:42:03.880887Z",
     "iopub.status.busy": "2022-12-23T11:42:03.880235Z",
     "iopub.status.idle": "2022-12-23T11:42:03.914831Z",
     "shell.execute_reply": "2022-12-23T11:42:03.913273Z"
    },
    "papermill": {
     "duration": 0.048446,
     "end_time": "2022-12-23T11:42:03.918489",
     "exception": false,
     "start_time": "2022-12-23T11:42:03.870043",
     "status": "completed"
    },
    "tags": []
   },
   "outputs": [],
   "source": [
    "import gc\n",
    "import glob\n",
    "import pandas\n",
    "import numpy as np # linear algebra\n",
    "\n",
    "import os\n",
    "for dirname, _, filenames in os.walk('/kaggle/input'):\n",
    "    for filename in filenames:\n",
    "        #print(os.path.join(dirname, filename))\n",
    "        pass"
   ]
  },
  {
   "cell_type": "code",
   "execution_count": 2,
   "id": "53ad8f90",
   "metadata": {
    "execution": {
     "iopub.execute_input": "2022-12-23T11:42:03.935544Z",
     "iopub.status.busy": "2022-12-23T11:42:03.934636Z",
     "iopub.status.idle": "2022-12-23T11:42:03.943027Z",
     "shell.execute_reply": "2022-12-23T11:42:03.941238Z"
    },
    "papermill": {
     "duration": 0.020885,
     "end_time": "2022-12-23T11:42:03.946332",
     "exception": false,
     "start_time": "2022-12-23T11:42:03.925447",
     "status": "completed"
    },
    "tags": []
   },
   "outputs": [],
   "source": [
    "# ==================================================================\n",
    "# ----- Конфигурация сессии для экспериментов-----------------------\n",
    "# ==================================================================\n",
    "LOCAL = True  # Тип метрики. True - локально, False - Kaggle\n",
    "SAVE  = True # Сохранять ли файлы. Нужно при сохранении датасета\n",
    "SHOW  = True # Выводить ли таблицы в процессе\n",
    "GPU   = False # Использовать GPU\n",
    "# -----------------------------------------------------------------\n",
    "params = {\n",
    "    #'path': '/otto-full-optimized-memory-footprint/train.parquet',\n",
    "    'path': '/otto-analyse-data/train_no_free_orders.parquet',\n",
    "    'time_elapsed': 7*24*60*60,\n",
    "    #'sample': 100000\n",
    "}"
   ]
  },
  {
   "cell_type": "code",
   "execution_count": 3,
   "id": "7ce03dbe",
   "metadata": {
    "execution": {
     "iopub.execute_input": "2022-12-23T11:42:03.962168Z",
     "iopub.status.busy": "2022-12-23T11:42:03.961742Z",
     "iopub.status.idle": "2022-12-23T11:42:03.968094Z",
     "shell.execute_reply": "2022-12-23T11:42:03.967095Z"
    },
    "jupyter": {
     "source_hidden": true
    },
    "papermill": {
     "duration": 0.018147,
     "end_time": "2022-12-23T11:42:03.971718",
     "exception": false,
     "start_time": "2022-12-23T11:42:03.953571",
     "status": "completed"
    },
    "tags": []
   },
   "outputs": [
    {
     "name": "stdout",
     "output_type": "stream",
     "text": [
      "We will use CPU...\n"
     ]
    }
   ],
   "source": [
    "if GPU:\n",
    "    import cudf\n",
    "pd = cudf if GPU else pandas\n",
    "print('We will use RAPIDS version',cudf.__version__) if GPU else print('We will use CPU...')"
   ]
  },
  {
   "cell_type": "code",
   "execution_count": 4,
   "id": "c85bb5cf",
   "metadata": {
    "execution": {
     "iopub.execute_input": "2022-12-23T11:42:03.988830Z",
     "iopub.status.busy": "2022-12-23T11:42:03.987317Z",
     "iopub.status.idle": "2022-12-23T11:42:04.009592Z",
     "shell.execute_reply": "2022-12-23T11:42:04.007733Z"
    },
    "jupyter": {
     "source_hidden": true
    },
    "papermill": {
     "duration": 0.03414,
     "end_time": "2022-12-23T11:42:04.012908",
     "exception": false,
     "start_time": "2022-12-23T11:42:03.978768",
     "status": "completed"
    },
    "tags": []
   },
   "outputs": [],
   "source": [
    "# -----------------------------------------------------------\n",
    "def dropCopies(df, column='labels'):\n",
    "    _ = df.copy()\n",
    "    _[column] = _[column].apply(lambda x: list(dict.fromkeys(x)))\n",
    "    return _\n",
    "# -----------------------------------------------------------\n",
    "def cloneEvents(df):\n",
    "    result = pd.DataFrame()\n",
    "    for i in [0, 1, 2]:\n",
    "        _ = df.copy()\n",
    "        _['type'] = i\n",
    "        result = pd.concat([result, _])\n",
    "    return result\n",
    "# -----------------------------------------------------------\n",
    "def getLastNoTypeOnPercent(df, count=0.5, order=[1, 0 ,2], fill=True):\n",
    "    def sort(x):\n",
    "        return x.map(lambda x: order.index(x))\n",
    "    def apply(x):\n",
    "        rlen = round(len(x) * count)\n",
    "        return x[:rlen if rlen > 0 else 1]\n",
    "    _ = df.copy().groupby(['session', 'type']).agg(lambda x: list(dict.fromkeys(x))).reset_index()\n",
    "    _['aid'] = _['aid'].apply(apply)\n",
    "    if order is not None and type(order) is list:\n",
    "        _.sort_values(by='type', inplace=True, key=sort)\n",
    "    _ = _.groupby('session').agg(labels = ('aid', sum)).reset_index()\n",
    "    _ = dropCopies(_)\n",
    "    return cloneEvents(_) if fill else _"
   ]
  },
  {
   "cell_type": "code",
   "execution_count": 5,
   "id": "c248fcc9",
   "metadata": {
    "execution": {
     "iopub.execute_input": "2022-12-23T11:42:04.029240Z",
     "iopub.status.busy": "2022-12-23T11:42:04.028814Z",
     "iopub.status.idle": "2022-12-23T11:42:04.034094Z",
     "shell.execute_reply": "2022-12-23T11:42:04.032780Z"
    },
    "papermill": {
     "duration": 0.01668,
     "end_time": "2022-12-23T11:42:04.036810",
     "exception": false,
     "start_time": "2022-12-23T11:42:04.020130",
     "status": "completed"
    },
    "tags": []
   },
   "outputs": [],
   "source": [
    "# ----- Загрузка данных -----"
   ]
  },
  {
   "cell_type": "code",
   "execution_count": 6,
   "id": "57e678f3",
   "metadata": {
    "execution": {
     "iopub.execute_input": "2022-12-23T11:42:04.053343Z",
     "iopub.status.busy": "2022-12-23T11:42:04.052935Z",
     "iopub.status.idle": "2022-12-23T11:42:08.793858Z",
     "shell.execute_reply": "2022-12-23T11:42:08.791466Z"
    },
    "jupyter": {
     "source_hidden": true
    },
    "papermill": {
     "duration": 4.752217,
     "end_time": "2022-12-23T11:42:08.796970",
     "exception": false,
     "start_time": "2022-12-23T11:42:04.044753",
     "status": "completed"
    },
    "tags": []
   },
   "outputs": [
    {
     "data": {
      "text/html": [
       "<div>\n",
       "<style scoped>\n",
       "    .dataframe tbody tr th:only-of-type {\n",
       "        vertical-align: middle;\n",
       "    }\n",
       "\n",
       "    .dataframe tbody tr th {\n",
       "        vertical-align: top;\n",
       "    }\n",
       "\n",
       "    .dataframe thead th {\n",
       "        text-align: right;\n",
       "    }\n",
       "</style>\n",
       "<table border=\"1\" class=\"dataframe\">\n",
       "  <thead>\n",
       "    <tr style=\"text-align: right;\">\n",
       "      <th></th>\n",
       "      <th>session</th>\n",
       "      <th>aid</th>\n",
       "      <th>ts</th>\n",
       "      <th>type</th>\n",
       "    </tr>\n",
       "  </thead>\n",
       "  <tbody>\n",
       "    <tr>\n",
       "      <th>6</th>\n",
       "      <td>0</td>\n",
       "      <td>1649869</td>\n",
       "      <td>1659369893</td>\n",
       "      <td>1</td>\n",
       "    </tr>\n",
       "    <tr>\n",
       "      <th>7</th>\n",
       "      <td>0</td>\n",
       "      <td>461689</td>\n",
       "      <td>1659369898</td>\n",
       "      <td>1</td>\n",
       "    </tr>\n",
       "    <tr>\n",
       "      <th>8</th>\n",
       "      <td>0</td>\n",
       "      <td>305831</td>\n",
       "      <td>1659370027</td>\n",
       "      <td>2</td>\n",
       "    </tr>\n",
       "    <tr>\n",
       "      <th>9</th>\n",
       "      <td>0</td>\n",
       "      <td>461689</td>\n",
       "      <td>1659370027</td>\n",
       "      <td>2</td>\n",
       "    </tr>\n",
       "    <tr>\n",
       "      <th>43</th>\n",
       "      <td>0</td>\n",
       "      <td>789245</td>\n",
       "      <td>1659710157</td>\n",
       "      <td>1</td>\n",
       "    </tr>\n",
       "    <tr>\n",
       "      <th>...</th>\n",
       "      <td>...</td>\n",
       "      <td>...</td>\n",
       "      <td>...</td>\n",
       "      <td>...</td>\n",
       "    </tr>\n",
       "    <tr>\n",
       "      <th>216715973</th>\n",
       "      <td>12899732</td>\n",
       "      <td>1126169</td>\n",
       "      <td>1661723928</td>\n",
       "      <td>1</td>\n",
       "    </tr>\n",
       "    <tr>\n",
       "      <th>216715991</th>\n",
       "      <td>12899739</td>\n",
       "      <td>1379999</td>\n",
       "      <td>1661723968</td>\n",
       "      <td>1</td>\n",
       "    </tr>\n",
       "    <tr>\n",
       "      <th>216715993</th>\n",
       "      <td>12899739</td>\n",
       "      <td>301163</td>\n",
       "      <td>1661723986</td>\n",
       "      <td>1</td>\n",
       "    </tr>\n",
       "    <tr>\n",
       "      <th>216716044</th>\n",
       "      <td>12899757</td>\n",
       "      <td>1677695</td>\n",
       "      <td>1661723953</td>\n",
       "      <td>1</td>\n",
       "    </tr>\n",
       "    <tr>\n",
       "      <th>216716067</th>\n",
       "      <td>12899766</td>\n",
       "      <td>573530</td>\n",
       "      <td>1661723984</td>\n",
       "      <td>1</td>\n",
       "    </tr>\n",
       "  </tbody>\n",
       "</table>\n",
       "<p>21995142 rows × 4 columns</p>\n",
       "</div>"
      ],
      "text/plain": [
       "            session      aid          ts  type\n",
       "6                 0  1649869  1659369893     1\n",
       "7                 0   461689  1659369898     1\n",
       "8                 0   305831  1659370027     2\n",
       "9                 0   461689  1659370027     2\n",
       "43                0   789245  1659710157     1\n",
       "...             ...      ...         ...   ...\n",
       "216715973  12899732  1126169  1661723928     1\n",
       "216715991  12899739  1379999  1661723968     1\n",
       "216715993  12899739   301163  1661723986     1\n",
       "216716044  12899757  1677695  1661723953     1\n",
       "216716067  12899766   573530  1661723984     1\n",
       "\n",
       "[21995142 rows x 4 columns]"
      ]
     },
     "metadata": {},
     "output_type": "display_data"
    },
    {
     "name": "stdout",
     "output_type": "stream",
     "text": [
      "CPU times: user 1.53 s, sys: 2.14 s, total: 3.68 s\n",
      "Wall time: 4.73 s\n"
     ]
    }
   ],
   "source": [
    "%%time\n",
    "# ~ 20s CPU\n",
    "# ~ 21s GPU\n",
    "data = pd.read_parquet('../input' + params[\"path\"])\n",
    "if params.get('sample'):\n",
    "    data = data.sample(params['sample'])\n",
    "if SHOW: display(data)"
   ]
  },
  {
   "cell_type": "code",
   "execution_count": 7,
   "id": "a1e8f1c5",
   "metadata": {
    "execution": {
     "iopub.execute_input": "2022-12-23T11:42:08.817509Z",
     "iopub.status.busy": "2022-12-23T11:42:08.816752Z",
     "iopub.status.idle": "2022-12-23T11:42:08.822231Z",
     "shell.execute_reply": "2022-12-23T11:42:08.820602Z"
    },
    "papermill": {
     "duration": 0.016328,
     "end_time": "2022-12-23T11:42:08.824839",
     "exception": false,
     "start_time": "2022-12-23T11:42:08.808511",
     "status": "completed"
    },
    "tags": []
   },
   "outputs": [],
   "source": [
    "# ----- Разделение датасета -----"
   ]
  },
  {
   "cell_type": "code",
   "execution_count": 8,
   "id": "e40aaa2f",
   "metadata": {
    "execution": {
     "iopub.execute_input": "2022-12-23T11:42:08.842378Z",
     "iopub.status.busy": "2022-12-23T11:42:08.841030Z",
     "iopub.status.idle": "2022-12-23T11:42:08.856561Z",
     "shell.execute_reply": "2022-12-23T11:42:08.855541Z"
    },
    "jupyter": {
     "source_hidden": true
    },
    "papermill": {
     "duration": 0.027786,
     "end_time": "2022-12-23T11:42:08.859068",
     "exception": false,
     "start_time": "2022-12-23T11:42:08.831282",
     "status": "completed"
    },
    "tags": []
   },
   "outputs": [],
   "source": [
    "def trainTestSplit(df, time_elapsed=7*24*60*60, log=False):\n",
    "    train_cutoff = df['ts'].max() - time_elapsed\n",
    "    train = df[df['ts'] <= train_cutoff]\n",
    "    test = df[df['ts'] > train_cutoff]\n",
    "    \n",
    "    overlapping_sessions = train[['session']]\\\n",
    "            .merge(test['session'], how='inner', on='session')['session'].unique()\n",
    "    test = test[~test['session'].isin(overlapping_sessions)]\n",
    "    \n",
    "    new_test = []\n",
    "    data_to_calculate_validation_score = []\n",
    "    chunks = len(test['session'].unique())\n",
    "    percent = -1\n",
    "    cnt = 0\n",
    "    \n",
    "    for grp in test.groupby('session'):\n",
    "        if (log) and (round(cnt * 100 / chunks) != percent):\n",
    "            percent = round(cnt * 100 / chunks)\n",
    "            print('\\r', f'{percent}% chunk: {cnt+1}/{chunks+1}', end='   ')\n",
    "        if(grp[1].shape[0] > 1):\n",
    "            cutoff = np.random.randint(1, grp[1].shape[0])\n",
    "            new_test.append(grp[1].iloc[:cutoff])\n",
    "            data_to_calculate_validation_score.append(grp[1].iloc[cutoff:])\n",
    "        cnt += 1\n",
    "    print('\\r', f'100% chunk: {chunks+1}/{chunks+1}')\n",
    "    \n",
    "    ntest = pd.concat(new_test).reset_index(drop=True)\n",
    "    valid = pd.concat(data_to_calculate_validation_score).reset_index(drop=True)\n",
    "    return test, ntest, valid\n",
    "    valid.drop('ts', axis=1, inplace=True)\n",
    "    valid = valid.groupby(['session', 'type'])\\\n",
    "                .agg(aids=('aid', lambda x: list(dict.fromkeys(x)))).reset_index()\n",
    "    valid['type'] = valid['type'].astype('uint8')\n",
    "    \n",
    "    del new_test, data_to_calculate_validation_score\n",
    "    return train, test, valid"
   ]
  },
  {
   "cell_type": "code",
   "execution_count": 9,
   "id": "2975ed97",
   "metadata": {
    "execution": {
     "iopub.execute_input": "2022-12-23T11:42:08.879341Z",
     "iopub.status.busy": "2022-12-23T11:42:08.878335Z",
     "iopub.status.idle": "2022-12-23T11:44:50.704678Z",
     "shell.execute_reply": "2022-12-23T11:44:50.703164Z"
    },
    "jupyter": {
     "source_hidden": true
    },
    "papermill": {
     "duration": 161.843231,
     "end_time": "2022-12-23T11:44:50.712317",
     "exception": false,
     "start_time": "2022-12-23T11:42:08.869086",
     "status": "completed"
    },
    "tags": []
   },
   "outputs": [
    {
     "name": "stdout",
     "output_type": "stream",
     "text": [
      " 100% chunk: 723933/723933\n"
     ]
    },
    {
     "data": {
      "text/html": [
       "<div>\n",
       "<style scoped>\n",
       "    .dataframe tbody tr th:only-of-type {\n",
       "        vertical-align: middle;\n",
       "    }\n",
       "\n",
       "    .dataframe tbody tr th {\n",
       "        vertical-align: top;\n",
       "    }\n",
       "\n",
       "    .dataframe thead th {\n",
       "        text-align: right;\n",
       "    }\n",
       "</style>\n",
       "<table border=\"1\" class=\"dataframe\">\n",
       "  <thead>\n",
       "    <tr style=\"text-align: right;\">\n",
       "      <th></th>\n",
       "      <th>session</th>\n",
       "      <th>aid</th>\n",
       "      <th>ts</th>\n",
       "      <th>type</th>\n",
       "    </tr>\n",
       "  </thead>\n",
       "  <tbody>\n",
       "    <tr>\n",
       "      <th>328</th>\n",
       "      <td>2</td>\n",
       "      <td>161269</td>\n",
       "      <td>1661688306</td>\n",
       "      <td>1</td>\n",
       "    </tr>\n",
       "    <tr>\n",
       "      <th>9125</th>\n",
       "      <td>84</td>\n",
       "      <td>1236775</td>\n",
       "      <td>1661718709</td>\n",
       "      <td>1</td>\n",
       "    </tr>\n",
       "    <tr>\n",
       "      <th>12524</th>\n",
       "      <td>126</td>\n",
       "      <td>923529</td>\n",
       "      <td>1661197237</td>\n",
       "      <td>1</td>\n",
       "    </tr>\n",
       "    <tr>\n",
       "      <th>13513</th>\n",
       "      <td>136</td>\n",
       "      <td>87442</td>\n",
       "      <td>1661676627</td>\n",
       "      <td>1</td>\n",
       "    </tr>\n",
       "    <tr>\n",
       "      <th>23670</th>\n",
       "      <td>260</td>\n",
       "      <td>1648747</td>\n",
       "      <td>1661241743</td>\n",
       "      <td>1</td>\n",
       "    </tr>\n",
       "    <tr>\n",
       "      <th>...</th>\n",
       "      <td>...</td>\n",
       "      <td>...</td>\n",
       "      <td>...</td>\n",
       "      <td>...</td>\n",
       "    </tr>\n",
       "    <tr>\n",
       "      <th>216715973</th>\n",
       "      <td>12899732</td>\n",
       "      <td>1126169</td>\n",
       "      <td>1661723928</td>\n",
       "      <td>1</td>\n",
       "    </tr>\n",
       "    <tr>\n",
       "      <th>216715991</th>\n",
       "      <td>12899739</td>\n",
       "      <td>1379999</td>\n",
       "      <td>1661723968</td>\n",
       "      <td>1</td>\n",
       "    </tr>\n",
       "    <tr>\n",
       "      <th>216715993</th>\n",
       "      <td>12899739</td>\n",
       "      <td>301163</td>\n",
       "      <td>1661723986</td>\n",
       "      <td>1</td>\n",
       "    </tr>\n",
       "    <tr>\n",
       "      <th>216716044</th>\n",
       "      <td>12899757</td>\n",
       "      <td>1677695</td>\n",
       "      <td>1661723953</td>\n",
       "      <td>1</td>\n",
       "    </tr>\n",
       "    <tr>\n",
       "      <th>216716067</th>\n",
       "      <td>12899766</td>\n",
       "      <td>573530</td>\n",
       "      <td>1661723984</td>\n",
       "      <td>1</td>\n",
       "    </tr>\n",
       "  </tbody>\n",
       "</table>\n",
       "<p>2614427 rows × 4 columns</p>\n",
       "</div>"
      ],
      "text/plain": [
       "            session      aid          ts  type\n",
       "328               2   161269  1661688306     1\n",
       "9125             84  1236775  1661718709     1\n",
       "12524           126   923529  1661197237     1\n",
       "13513           136    87442  1661676627     1\n",
       "23670           260  1648747  1661241743     1\n",
       "...             ...      ...         ...   ...\n",
       "216715973  12899732  1126169  1661723928     1\n",
       "216715991  12899739  1379999  1661723968     1\n",
       "216715993  12899739   301163  1661723986     1\n",
       "216716044  12899757  1677695  1661723953     1\n",
       "216716067  12899766   573530  1661723984     1\n",
       "\n",
       "[2614427 rows x 4 columns]"
      ]
     },
     "metadata": {},
     "output_type": "display_data"
    },
    {
     "data": {
      "text/html": [
       "<div>\n",
       "<style scoped>\n",
       "    .dataframe tbody tr th:only-of-type {\n",
       "        vertical-align: middle;\n",
       "    }\n",
       "\n",
       "    .dataframe tbody tr th {\n",
       "        vertical-align: top;\n",
       "    }\n",
       "\n",
       "    .dataframe thead th {\n",
       "        text-align: right;\n",
       "    }\n",
       "</style>\n",
       "<table border=\"1\" class=\"dataframe\">\n",
       "  <thead>\n",
       "    <tr style=\"text-align: right;\">\n",
       "      <th></th>\n",
       "      <th>session</th>\n",
       "      <th>aid</th>\n",
       "      <th>ts</th>\n",
       "      <th>type</th>\n",
       "    </tr>\n",
       "  </thead>\n",
       "  <tbody>\n",
       "    <tr>\n",
       "      <th>0</th>\n",
       "      <td>382</td>\n",
       "      <td>1375190</td>\n",
       "      <td>1661200758</td>\n",
       "      <td>1</td>\n",
       "    </tr>\n",
       "    <tr>\n",
       "      <th>1</th>\n",
       "      <td>486</td>\n",
       "      <td>500819</td>\n",
       "      <td>1661245453</td>\n",
       "      <td>1</td>\n",
       "    </tr>\n",
       "    <tr>\n",
       "      <th>2</th>\n",
       "      <td>486</td>\n",
       "      <td>21885</td>\n",
       "      <td>1661245839</td>\n",
       "      <td>1</td>\n",
       "    </tr>\n",
       "    <tr>\n",
       "      <th>3</th>\n",
       "      <td>486</td>\n",
       "      <td>1229471</td>\n",
       "      <td>1661245989</td>\n",
       "      <td>1</td>\n",
       "    </tr>\n",
       "    <tr>\n",
       "      <th>4</th>\n",
       "      <td>486</td>\n",
       "      <td>1801381</td>\n",
       "      <td>1661246269</td>\n",
       "      <td>1</td>\n",
       "    </tr>\n",
       "    <tr>\n",
       "      <th>...</th>\n",
       "      <td>...</td>\n",
       "      <td>...</td>\n",
       "      <td>...</td>\n",
       "      <td>...</td>\n",
       "    </tr>\n",
       "    <tr>\n",
       "      <th>1177163</th>\n",
       "      <td>12899595</td>\n",
       "      <td>1449873</td>\n",
       "      <td>1661723801</td>\n",
       "      <td>1</td>\n",
       "    </tr>\n",
       "    <tr>\n",
       "      <th>1177164</th>\n",
       "      <td>12899608</td>\n",
       "      <td>327026</td>\n",
       "      <td>1661723930</td>\n",
       "      <td>1</td>\n",
       "    </tr>\n",
       "    <tr>\n",
       "      <th>1177165</th>\n",
       "      <td>12899631</td>\n",
       "      <td>1055835</td>\n",
       "      <td>1661723830</td>\n",
       "      <td>1</td>\n",
       "    </tr>\n",
       "    <tr>\n",
       "      <th>1177166</th>\n",
       "      <td>12899644</td>\n",
       "      <td>436912</td>\n",
       "      <td>1661723924</td>\n",
       "      <td>1</td>\n",
       "    </tr>\n",
       "    <tr>\n",
       "      <th>1177167</th>\n",
       "      <td>12899739</td>\n",
       "      <td>1379999</td>\n",
       "      <td>1661723968</td>\n",
       "      <td>1</td>\n",
       "    </tr>\n",
       "  </tbody>\n",
       "</table>\n",
       "<p>1177168 rows × 4 columns</p>\n",
       "</div>"
      ],
      "text/plain": [
       "          session      aid          ts  type\n",
       "0             382  1375190  1661200758     1\n",
       "1             486   500819  1661245453     1\n",
       "2             486    21885  1661245839     1\n",
       "3             486  1229471  1661245989     1\n",
       "4             486  1801381  1661246269     1\n",
       "...           ...      ...         ...   ...\n",
       "1177163  12899595  1449873  1661723801     1\n",
       "1177164  12899608   327026  1661723930     1\n",
       "1177165  12899631  1055835  1661723830     1\n",
       "1177166  12899644   436912  1661723924     1\n",
       "1177167  12899739  1379999  1661723968     1\n",
       "\n",
       "[1177168 rows x 4 columns]"
      ]
     },
     "metadata": {},
     "output_type": "display_data"
    },
    {
     "data": {
      "text/html": [
       "<div>\n",
       "<style scoped>\n",
       "    .dataframe tbody tr th:only-of-type {\n",
       "        vertical-align: middle;\n",
       "    }\n",
       "\n",
       "    .dataframe tbody tr th {\n",
       "        vertical-align: top;\n",
       "    }\n",
       "\n",
       "    .dataframe thead th {\n",
       "        text-align: right;\n",
       "    }\n",
       "</style>\n",
       "<table border=\"1\" class=\"dataframe\">\n",
       "  <thead>\n",
       "    <tr style=\"text-align: right;\">\n",
       "      <th></th>\n",
       "      <th>session</th>\n",
       "      <th>aid</th>\n",
       "      <th>ts</th>\n",
       "      <th>type</th>\n",
       "    </tr>\n",
       "  </thead>\n",
       "  <tbody>\n",
       "    <tr>\n",
       "      <th>0</th>\n",
       "      <td>382</td>\n",
       "      <td>130264</td>\n",
       "      <td>1661200766</td>\n",
       "      <td>1</td>\n",
       "    </tr>\n",
       "    <tr>\n",
       "      <th>1</th>\n",
       "      <td>486</td>\n",
       "      <td>1688710</td>\n",
       "      <td>1661246349</td>\n",
       "      <td>1</td>\n",
       "    </tr>\n",
       "    <tr>\n",
       "      <th>2</th>\n",
       "      <td>486</td>\n",
       "      <td>319580</td>\n",
       "      <td>1661247784</td>\n",
       "      <td>1</td>\n",
       "    </tr>\n",
       "    <tr>\n",
       "      <th>3</th>\n",
       "      <td>486</td>\n",
       "      <td>1633488</td>\n",
       "      <td>1661247959</td>\n",
       "      <td>1</td>\n",
       "    </tr>\n",
       "    <tr>\n",
       "      <th>4</th>\n",
       "      <td>486</td>\n",
       "      <td>1229471</td>\n",
       "      <td>1661248339</td>\n",
       "      <td>2</td>\n",
       "    </tr>\n",
       "    <tr>\n",
       "      <th>...</th>\n",
       "      <td>...</td>\n",
       "      <td>...</td>\n",
       "      <td>...</td>\n",
       "      <td>...</td>\n",
       "    </tr>\n",
       "    <tr>\n",
       "      <th>1178677</th>\n",
       "      <td>12899595</td>\n",
       "      <td>1170894</td>\n",
       "      <td>1661723925</td>\n",
       "      <td>1</td>\n",
       "    </tr>\n",
       "    <tr>\n",
       "      <th>1178678</th>\n",
       "      <td>12899608</td>\n",
       "      <td>327026</td>\n",
       "      <td>1661723944</td>\n",
       "      <td>1</td>\n",
       "    </tr>\n",
       "    <tr>\n",
       "      <th>1178679</th>\n",
       "      <td>12899631</td>\n",
       "      <td>1807283</td>\n",
       "      <td>1661723972</td>\n",
       "      <td>1</td>\n",
       "    </tr>\n",
       "    <tr>\n",
       "      <th>1178680</th>\n",
       "      <td>12899644</td>\n",
       "      <td>822934</td>\n",
       "      <td>1661723940</td>\n",
       "      <td>1</td>\n",
       "    </tr>\n",
       "    <tr>\n",
       "      <th>1178681</th>\n",
       "      <td>12899739</td>\n",
       "      <td>301163</td>\n",
       "      <td>1661723986</td>\n",
       "      <td>1</td>\n",
       "    </tr>\n",
       "  </tbody>\n",
       "</table>\n",
       "<p>1178682 rows × 4 columns</p>\n",
       "</div>"
      ],
      "text/plain": [
       "          session      aid          ts  type\n",
       "0             382   130264  1661200766     1\n",
       "1             486  1688710  1661246349     1\n",
       "2             486   319580  1661247784     1\n",
       "3             486  1633488  1661247959     1\n",
       "4             486  1229471  1661248339     2\n",
       "...           ...      ...         ...   ...\n",
       "1178677  12899595  1170894  1661723925     1\n",
       "1178678  12899608   327026  1661723944     1\n",
       "1178679  12899631  1807283  1661723972     1\n",
       "1178680  12899644   822934  1661723940     1\n",
       "1178681  12899739   301163  1661723986     1\n",
       "\n",
       "[1178682 rows x 4 columns]"
      ]
     },
     "metadata": {},
     "output_type": "display_data"
    },
    {
     "name": "stdout",
     "output_type": "stream",
     "text": [
      "CPU times: user 2min 34s, sys: 7.28 s, total: 2min 41s\n",
      "Wall time: 2min 41s\n"
     ]
    }
   ],
   "source": [
    "%%time\n",
    "# ~ 10s CPU (100000)\n",
    "# ~ 1m 20s GPU (100000)\n",
    "train, test, labels = trainTestSplit(data, params['time_elapsed'], log=True)\n",
    "if SAVE:\n",
    "    train.to_parquet('local_train.parquet', index=False)\n",
    "    test.to_parquet('local_test.parquet', index=False)\n",
    "    labels.to_parquet('local_labels.parquet', index=False)\n",
    "if SHOW: display(train, test, labels)"
   ]
  },
  {
   "cell_type": "code",
   "execution_count": 10,
   "id": "7a9500ef",
   "metadata": {
    "execution": {
     "iopub.execute_input": "2022-12-23T11:44:50.743500Z",
     "iopub.status.busy": "2022-12-23T11:44:50.742750Z",
     "iopub.status.idle": "2022-12-23T11:44:50.747923Z",
     "shell.execute_reply": "2022-12-23T11:44:50.746741Z"
    },
    "papermill": {
     "duration": 0.023566,
     "end_time": "2022-12-23T11:44:50.750114",
     "exception": false,
     "start_time": "2022-12-23T11:44:50.726548",
     "status": "completed"
    },
    "tags": []
   },
   "outputs": [],
   "source": [
    "# ----- Проверка на наличие неизвестных товаров -----"
   ]
  },
  {
   "cell_type": "code",
   "execution_count": 11,
   "id": "572ddd37",
   "metadata": {
    "execution": {
     "iopub.execute_input": "2022-12-23T11:44:50.780967Z",
     "iopub.status.busy": "2022-12-23T11:44:50.780040Z",
     "iopub.status.idle": "2022-12-23T11:44:50.787590Z",
     "shell.execute_reply": "2022-12-23T11:44:50.786498Z"
    },
    "jupyter": {
     "source_hidden": true
    },
    "papermill": {
     "duration": 0.025731,
     "end_time": "2022-12-23T11:44:50.790094",
     "exception": false,
     "start_time": "2022-12-23T11:44:50.764363",
     "status": "completed"
    },
    "tags": []
   },
   "outputs": [],
   "source": [
    "def getIntersection(r, l):\n",
    "    inter = set(l).intersection(set(r))\n",
    "    i = len(inter)\n",
    "    m = len(l)\n",
    "    print('Пересекается', i, 'из', m, 'или', round(i * 100 / m, 2), '% товаров')\n",
    "    return inter"
   ]
  },
  {
   "cell_type": "code",
   "execution_count": 12,
   "id": "858f316e",
   "metadata": {
    "execution": {
     "iopub.execute_input": "2022-12-23T11:44:50.822824Z",
     "iopub.status.busy": "2022-12-23T11:44:50.822379Z",
     "iopub.status.idle": "2022-12-23T11:44:51.148043Z",
     "shell.execute_reply": "2022-12-23T11:44:51.146170Z"
    },
    "jupyter": {
     "source_hidden": true
    },
    "papermill": {
     "duration": 0.345226,
     "end_time": "2022-12-23T11:44:51.150875",
     "exception": false,
     "start_time": "2022-12-23T11:44:50.805649",
     "status": "completed"
    },
    "tags": []
   },
   "outputs": [
    {
     "name": "stdout",
     "output_type": "stream",
     "text": [
      "Пересекается 213854 из 325941 или 65.61 % товаров\n"
     ]
    }
   ],
   "source": [
    "raids = test['aid'].unique()\n",
    "laids = labels['aid'].unique()\n",
    "iaids = getIntersection(raids, laids)"
   ]
  },
  {
   "cell_type": "code",
   "execution_count": 13,
   "id": "6d6128f9",
   "metadata": {
    "execution": {
     "iopub.execute_input": "2022-12-23T11:44:51.179898Z",
     "iopub.status.busy": "2022-12-23T11:44:51.178792Z",
     "iopub.status.idle": "2022-12-23T11:44:54.406339Z",
     "shell.execute_reply": "2022-12-23T11:44:54.404685Z"
    },
    "jupyter": {
     "source_hidden": true
    },
    "papermill": {
     "duration": 3.245358,
     "end_time": "2022-12-23T11:44:54.409465",
     "exception": false,
     "start_time": "2022-12-23T11:44:51.164107",
     "status": "completed"
    },
    "tags": []
   },
   "outputs": [
    {
     "name": "stdout",
     "output_type": "stream",
     "text": [
      "Пересекается 245963 из 245963 или 100.0 % товаров\n"
     ]
    }
   ],
   "source": [
    "res = {}\n",
    "l = len(raids)\n",
    "ll = labels.copy()\n",
    "ll['aid'] = ll['aid'].apply(lambda x: raids[x % l] if x not in iaids else x)\n",
    "_ = getIntersection(raids, ll['aid'].unique())\n",
    "labels = ll"
   ]
  },
  {
   "cell_type": "code",
   "execution_count": 14,
   "id": "3ae51816",
   "metadata": {
    "execution": {
     "iopub.execute_input": "2022-12-23T11:44:54.442332Z",
     "iopub.status.busy": "2022-12-23T11:44:54.441922Z",
     "iopub.status.idle": "2022-12-23T11:44:54.447728Z",
     "shell.execute_reply": "2022-12-23T11:44:54.446254Z"
    },
    "papermill": {
     "duration": 0.022686,
     "end_time": "2022-12-23T11:44:54.450337",
     "exception": false,
     "start_time": "2022-12-23T11:44:54.427651",
     "status": "completed"
    },
    "tags": []
   },
   "outputs": [],
   "source": [
    "# ----- Вычисление последних 50% -----"
   ]
  },
  {
   "cell_type": "code",
   "execution_count": 15,
   "id": "b68f7ef5",
   "metadata": {
    "execution": {
     "iopub.execute_input": "2022-12-23T11:44:54.488552Z",
     "iopub.status.busy": "2022-12-23T11:44:54.487882Z",
     "iopub.status.idle": "2022-12-23T11:45:05.706375Z",
     "shell.execute_reply": "2022-12-23T11:45:05.704933Z"
    },
    "papermill": {
     "duration": 11.244768,
     "end_time": "2022-12-23T11:45:05.710367",
     "exception": false,
     "start_time": "2022-12-23T11:44:54.465599",
     "status": "completed"
    },
    "tags": []
   },
   "outputs": [
    {
     "data": {
      "text/html": [
       "<div>\n",
       "<style scoped>\n",
       "    .dataframe tbody tr th:only-of-type {\n",
       "        vertical-align: middle;\n",
       "    }\n",
       "\n",
       "    .dataframe tbody tr th {\n",
       "        vertical-align: top;\n",
       "    }\n",
       "\n",
       "    .dataframe thead th {\n",
       "        text-align: right;\n",
       "    }\n",
       "</style>\n",
       "<table border=\"1\" class=\"dataframe\">\n",
       "  <thead>\n",
       "    <tr style=\"text-align: right;\">\n",
       "      <th></th>\n",
       "      <th>session</th>\n",
       "      <th>labels</th>\n",
       "      <th>type</th>\n",
       "    </tr>\n",
       "  </thead>\n",
       "  <tbody>\n",
       "    <tr>\n",
       "      <th>0</th>\n",
       "      <td>382</td>\n",
       "      <td>[1375190]</td>\n",
       "      <td>0</td>\n",
       "    </tr>\n",
       "    <tr>\n",
       "      <th>1</th>\n",
       "      <td>486</td>\n",
       "      <td>[500819, 21885]</td>\n",
       "      <td>0</td>\n",
       "    </tr>\n",
       "    <tr>\n",
       "      <th>2</th>\n",
       "      <td>524</td>\n",
       "      <td>[1552245]</td>\n",
       "      <td>0</td>\n",
       "    </tr>\n",
       "    <tr>\n",
       "      <th>3</th>\n",
       "      <td>639</td>\n",
       "      <td>[1321398]</td>\n",
       "      <td>0</td>\n",
       "    </tr>\n",
       "    <tr>\n",
       "      <th>4</th>\n",
       "      <td>692</td>\n",
       "      <td>[1662401]</td>\n",
       "      <td>0</td>\n",
       "    </tr>\n",
       "    <tr>\n",
       "      <th>...</th>\n",
       "      <td>...</td>\n",
       "      <td>...</td>\n",
       "      <td>...</td>\n",
       "    </tr>\n",
       "    <tr>\n",
       "      <th>465350</th>\n",
       "      <td>12899595</td>\n",
       "      <td>[1449873]</td>\n",
       "      <td>2</td>\n",
       "    </tr>\n",
       "    <tr>\n",
       "      <th>465351</th>\n",
       "      <td>12899608</td>\n",
       "      <td>[327026]</td>\n",
       "      <td>2</td>\n",
       "    </tr>\n",
       "    <tr>\n",
       "      <th>465352</th>\n",
       "      <td>12899631</td>\n",
       "      <td>[1055835]</td>\n",
       "      <td>2</td>\n",
       "    </tr>\n",
       "    <tr>\n",
       "      <th>465353</th>\n",
       "      <td>12899644</td>\n",
       "      <td>[436912]</td>\n",
       "      <td>2</td>\n",
       "    </tr>\n",
       "    <tr>\n",
       "      <th>465354</th>\n",
       "      <td>12899739</td>\n",
       "      <td>[1379999]</td>\n",
       "      <td>2</td>\n",
       "    </tr>\n",
       "  </tbody>\n",
       "</table>\n",
       "<p>1396065 rows × 3 columns</p>\n",
       "</div>"
      ],
      "text/plain": [
       "         session           labels  type\n",
       "0            382        [1375190]     0\n",
       "1            486  [500819, 21885]     0\n",
       "2            524        [1552245]     0\n",
       "3            639        [1321398]     0\n",
       "4            692        [1662401]     0\n",
       "...          ...              ...   ...\n",
       "465350  12899595        [1449873]     2\n",
       "465351  12899608         [327026]     2\n",
       "465352  12899631        [1055835]     2\n",
       "465353  12899644         [436912]     2\n",
       "465354  12899739        [1379999]     2\n",
       "\n",
       "[1396065 rows x 3 columns]"
      ]
     },
     "metadata": {},
     "output_type": "display_data"
    },
    {
     "name": "stdout",
     "output_type": "stream",
     "text": [
      "CPU times: user 10.9 s, sys: 222 ms, total: 11.2 s\n",
      "Wall time: 11.2 s\n"
     ]
    }
   ],
   "source": [
    "%%time\n",
    "# ~s\n",
    "result = getLastNoTypeOnPercent(test, 0.5)\n",
    "if SHOW: display(result)"
   ]
  },
  {
   "cell_type": "code",
   "execution_count": 16,
   "id": "ed57eceb",
   "metadata": {
    "execution": {
     "iopub.execute_input": "2022-12-23T11:45:05.742596Z",
     "iopub.status.busy": "2022-12-23T11:45:05.741609Z",
     "iopub.status.idle": "2022-12-23T11:45:05.755782Z",
     "shell.execute_reply": "2022-12-23T11:45:05.753766Z"
    },
    "jupyter": {
     "source_hidden": true
    },
    "papermill": {
     "duration": 0.033443,
     "end_time": "2022-12-23T11:45:05.758873",
     "exception": false,
     "start_time": "2022-12-23T11:45:05.725430",
     "status": "completed"
    },
    "tags": []
   },
   "outputs": [],
   "source": [
    "def localMetrics(preds, df_true): \n",
    "    lsub = preds.copy()\n",
    "    lsub['labels'] = lsub['labels'].apply(lambda x: x[:20])\n",
    "    \n",
    "    test_labels = df_true.copy().drop('ts', axis=1)\\\n",
    "            .groupby(['session', 'type']).agg(lambda x: list(dict.fromkeys(x))[:20]).reset_index()\n",
    "    test_labels = test_labels.merge(lsub, how='left', on=['session', 'type'])\n",
    "    \n",
    "    test_labels['hits']     = test_labels.apply(lambda df: len(set(df['aid']).intersection(set(df['labels']))), axis=1)\n",
    "    test_labels['gt_count'] = test_labels['aid'].str.len().clip(0,20)  \n",
    "    \n",
    "    recall_per_type = test_labels.groupby(['type'])['hits'].sum() / test_labels.groupby(['type'])['gt_count'].sum() \n",
    "    score = (recall_per_type * pd.Series({0: 0.10, 1: 0.30, 2: 0.60})).sum()\n",
    "    \n",
    "    r = {0:0, 1:0, 2:0}\n",
    "    for key in r.keys():\n",
    "        if test_labels[test_labels['type'] == key].shape[0] > 0:\n",
    "            r[key] = recall_per_type[key]\n",
    "    print(f\"{score:.3f} = {r[0]:.3f} + {r[1]:.3f} + {r[2]:.3f}\")\n",
    "    print('score:', score)\n",
    "    return score"
   ]
  },
  {
   "cell_type": "code",
   "execution_count": 17,
   "id": "c33a0b3b",
   "metadata": {
    "execution": {
     "iopub.execute_input": "2022-12-23T11:45:05.790038Z",
     "iopub.status.busy": "2022-12-23T11:45:05.789586Z",
     "iopub.status.idle": "2022-12-23T11:45:23.317017Z",
     "shell.execute_reply": "2022-12-23T11:45:23.315765Z"
    },
    "papermill": {
     "duration": 17.546888,
     "end_time": "2022-12-23T11:45:23.320750",
     "exception": false,
     "start_time": "2022-12-23T11:45:05.773862",
     "status": "completed"
    },
    "tags": []
   },
   "outputs": [
    {
     "name": "stdout",
     "output_type": "stream",
     "text": [
      "0.323 = 0.000 + 0.113 + 0.481\n",
      "score: 0.32257092518623864\n",
      "CPU times: user 17.3 s, sys: 153 ms, total: 17.4 s\n",
      "Wall time: 17.5 s\n"
     ]
    }
   ],
   "source": [
    "%%time\n",
    "# ~s\n",
    "if LOCAL:\n",
    "    localMetrics(result, labels) # 0.25 - 0.277, 0.5 - 0.323, 1.0 - 0.460"
   ]
  },
  {
   "cell_type": "code",
   "execution_count": 18,
   "id": "9e010709",
   "metadata": {
    "execution": {
     "iopub.execute_input": "2022-12-23T11:45:23.351107Z",
     "iopub.status.busy": "2022-12-23T11:45:23.349735Z",
     "iopub.status.idle": "2022-12-23T11:45:23.357980Z",
     "shell.execute_reply": "2022-12-23T11:45:23.357060Z"
    },
    "papermill": {
     "duration": 0.025671,
     "end_time": "2022-12-23T11:45:23.360360",
     "exception": false,
     "start_time": "2022-12-23T11:45:23.334689",
     "status": "completed"
    },
    "tags": []
   },
   "outputs": [],
   "source": [
    "def getSubmission(df):\n",
    "    sub = df.copy().dropna()\n",
    "    sub['labels'] = sub['labels'].map(lambda x: ' '.join(str(i) for i in list(dict.fromkeys(x))))\n",
    "    sub['type'] = sub['type'].map({0: 'clicks', 1: 'carts', 2: 'orders'})\n",
    "    sub['session_type'] = sub['session'].astype('str') + '_' + sub['type']\n",
    "    return sub.drop(['session', 'type'], axis=1)"
   ]
  },
  {
   "cell_type": "code",
   "execution_count": 19,
   "id": "6c69d708",
   "metadata": {
    "execution": {
     "iopub.execute_input": "2022-12-23T11:45:23.398331Z",
     "iopub.status.busy": "2022-12-23T11:45:23.396673Z",
     "iopub.status.idle": "2022-12-23T11:45:23.403686Z",
     "shell.execute_reply": "2022-12-23T11:45:23.402085Z"
    },
    "papermill": {
     "duration": 0.029548,
     "end_time": "2022-12-23T11:45:23.407086",
     "exception": false,
     "start_time": "2022-12-23T11:45:23.377538",
     "status": "completed"
    },
    "tags": []
   },
   "outputs": [],
   "source": [
    "# ----- PREDICT -----"
   ]
  },
  {
   "cell_type": "code",
   "execution_count": 20,
   "id": "09a6880e",
   "metadata": {
    "execution": {
     "iopub.execute_input": "2022-12-23T11:45:23.438467Z",
     "iopub.status.busy": "2022-12-23T11:45:23.438021Z",
     "iopub.status.idle": "2022-12-23T11:45:29.821279Z",
     "shell.execute_reply": "2022-12-23T11:45:29.820037Z"
    },
    "papermill": {
     "duration": 6.402609,
     "end_time": "2022-12-23T11:45:29.823786",
     "exception": false,
     "start_time": "2022-12-23T11:45:23.421177",
     "status": "completed"
    },
    "tags": []
   },
   "outputs": [
    {
     "data": {
      "text/html": [
       "<div>\n",
       "<style scoped>\n",
       "    .dataframe tbody tr th:only-of-type {\n",
       "        vertical-align: middle;\n",
       "    }\n",
       "\n",
       "    .dataframe tbody tr th {\n",
       "        vertical-align: top;\n",
       "    }\n",
       "\n",
       "    .dataframe thead th {\n",
       "        text-align: right;\n",
       "    }\n",
       "</style>\n",
       "<table border=\"1\" class=\"dataframe\">\n",
       "  <thead>\n",
       "    <tr style=\"text-align: right;\">\n",
       "      <th></th>\n",
       "      <th>labels</th>\n",
       "      <th>session_type</th>\n",
       "    </tr>\n",
       "  </thead>\n",
       "  <tbody>\n",
       "    <tr>\n",
       "      <th>0</th>\n",
       "      <td>1375190</td>\n",
       "      <td>382_clicks</td>\n",
       "    </tr>\n",
       "    <tr>\n",
       "      <th>1</th>\n",
       "      <td>500819 21885</td>\n",
       "      <td>486_clicks</td>\n",
       "    </tr>\n",
       "    <tr>\n",
       "      <th>2</th>\n",
       "      <td>1552245</td>\n",
       "      <td>524_clicks</td>\n",
       "    </tr>\n",
       "    <tr>\n",
       "      <th>3</th>\n",
       "      <td>1321398</td>\n",
       "      <td>639_clicks</td>\n",
       "    </tr>\n",
       "    <tr>\n",
       "      <th>4</th>\n",
       "      <td>1662401</td>\n",
       "      <td>692_clicks</td>\n",
       "    </tr>\n",
       "    <tr>\n",
       "      <th>...</th>\n",
       "      <td>...</td>\n",
       "      <td>...</td>\n",
       "    </tr>\n",
       "    <tr>\n",
       "      <th>465350</th>\n",
       "      <td>1449873</td>\n",
       "      <td>12899595_orders</td>\n",
       "    </tr>\n",
       "    <tr>\n",
       "      <th>465351</th>\n",
       "      <td>327026</td>\n",
       "      <td>12899608_orders</td>\n",
       "    </tr>\n",
       "    <tr>\n",
       "      <th>465352</th>\n",
       "      <td>1055835</td>\n",
       "      <td>12899631_orders</td>\n",
       "    </tr>\n",
       "    <tr>\n",
       "      <th>465353</th>\n",
       "      <td>436912</td>\n",
       "      <td>12899644_orders</td>\n",
       "    </tr>\n",
       "    <tr>\n",
       "      <th>465354</th>\n",
       "      <td>1379999</td>\n",
       "      <td>12899739_orders</td>\n",
       "    </tr>\n",
       "  </tbody>\n",
       "</table>\n",
       "<p>1396065 rows × 2 columns</p>\n",
       "</div>"
      ],
      "text/plain": [
       "              labels     session_type\n",
       "0            1375190       382_clicks\n",
       "1       500819 21885       486_clicks\n",
       "2            1552245       524_clicks\n",
       "3            1321398       639_clicks\n",
       "4            1662401       692_clicks\n",
       "...              ...              ...\n",
       "465350       1449873  12899595_orders\n",
       "465351        327026  12899608_orders\n",
       "465352       1055835  12899631_orders\n",
       "465353        436912  12899644_orders\n",
       "465354       1379999  12899739_orders\n",
       "\n",
       "[1396065 rows x 2 columns]"
      ]
     },
     "metadata": {},
     "output_type": "display_data"
    },
    {
     "name": "stdout",
     "output_type": "stream",
     "text": [
      "CPU times: user 6.03 s, sys: 330 ms, total: 6.35 s\n",
      "Wall time: 6.38 s\n"
     ]
    }
   ],
   "source": [
    "%%time\n",
    "# ~s\n",
    "submission = getSubmission(result)\n",
    "if SAVE: submission.to_csv('submission.csv', index=False)\n",
    "if SHOW: display(submission)"
   ]
  },
  {
   "cell_type": "code",
   "execution_count": null,
   "id": "a3ed1760",
   "metadata": {
    "papermill": {
     "duration": 0.015049,
     "end_time": "2022-12-23T11:45:29.854175",
     "exception": false,
     "start_time": "2022-12-23T11:45:29.839126",
     "status": "completed"
    },
    "tags": []
   },
   "outputs": [],
   "source": []
  }
 ],
 "metadata": {
  "kernelspec": {
   "display_name": "Python 3",
   "language": "python",
   "name": "python3"
  },
  "language_info": {
   "codemirror_mode": {
    "name": "ipython",
    "version": 3
   },
   "file_extension": ".py",
   "mimetype": "text/x-python",
   "name": "python",
   "nbconvert_exporter": "python",
   "pygments_lexer": "ipython3",
   "version": "3.7.12"
  },
  "papermill": {
   "default_parameters": {},
   "duration": 218.158104,
   "end_time": "2022-12-23T11:45:31.100548",
   "environment_variables": {},
   "exception": null,
   "input_path": "__notebook__.ipynb",
   "output_path": "__notebook__.ipynb",
   "parameters": {},
   "start_time": "2022-12-23T11:41:52.942444",
   "version": "2.3.4"
  }
 },
 "nbformat": 4,
 "nbformat_minor": 5
}
